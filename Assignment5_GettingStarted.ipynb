{
  "nbformat": 4,
  "nbformat_minor": 0,
  "metadata": {
    "kernelspec": {
      "display_name": "Python 3",
      "language": "python",
      "name": "python3"
    },
    "language_info": {
      "codemirror_mode": {
        "name": "ipython",
        "version": 3
      },
      "file_extension": ".py",
      "mimetype": "text/x-python",
      "name": "python",
      "nbconvert_exporter": "python",
      "pygments_lexer": "ipython3",
      "version": "3.7.4"
    },
    "colab": {
      "name": "Assignment5-GettingStarted.ipynb",
      "provenance": []
    }
  },
  "cells": [
    {
      "cell_type": "code",
      "metadata": {
        "id": "nbpL16dRY6hn"
      },
      "source": [
        "## Assignment 5: Principal Components Analysis\n",
        "## NOTE : PLEASE DO NOT POST/SHARE THE CODE OR YOUR SOLUTIONS ON THE WEB/GIT except CANVAS FOR GRADING\n",
        "\n",
        "## References:\n",
        "## https://towardsdatascience.com/predicting-housing-prices-using-a-scikit-learns-random-forest-model-e736b59d56c5\n",
        "## https://www.kaggle.com/sanikamal/xgboost-boston-housing-dataset\n",
        "## https://towardsdatascience.com/machine-learning-project-predicting-boston-house-prices-with-regression-b4e47493633d "
      ],
      "execution_count": 1,
      "outputs": []
    },
    {
      "cell_type": "markdown",
      "metadata": {
        "id": "-ns1hz1HY6ht"
      },
      "source": [
        "Description:\n",
        "You will compete in the Kaggle.com Digit Recognizer competition which involves classical digit recognition from hand-written images. https://www.kaggle.com/c/digit-recognizer/ \n",
        "\n",
        "Read the competition rules, and download the MNIST training and test set data (data consist of 70,000 observations. Utilize the first 60,000 as a model development set and the final 10,000 as a holdout test set).This binary classification task is NOT what is required for the current assignment. In this assignment we are asking for a multiclass classifier. The entire MNIST data set will be used for input data. For this assignment, you will develop a classifier that may be used to predict which of the 10 digits is being written.  \n",
        "\n",
        "\n",
        "(1) Begin by fitting a random forest classifier using the full set of 784 explanatory variables and the model training set (train.csv). Record the time it takes to fit the model and then evaluate the model on the test.csv data by submitting to Kaggle.com. Provide your Kaggle.com score and user ID.\n",
        "\n",
        "(2) Execute principal components analysis (PCA) on the combined training and test set data together, generating principal components that represent 95 percent of the variability in the explanatory variables. The number of principal components in the solution should be substantially fewer than the 784 explanatory variables. Record the time it takes to identify the principal components.\n",
        "\n",
        "(3) Using the identified principal components from step (2), use the train.csv to build another random forest classifier. Record the time it takes to fit the model and to evaluate the model on the test.csv data by submitting to Kaggle.com. Provide your Kaggle.com score and user ID.\n",
        "\n",
        "(4) Submit both the RF Classifier and the PCA RF Classifier to Kaggle.com, and report both scores along with your user name.  I MUST have your user name to verify submission status.\n",
        "\n",
        "(5) The experiment we have proposed has a MAJOR design flaw. Identify the flaw. Fix it. Rerun the experiment in a way that is consistent with a training-and-test regimen, and submit this to Kaggle.com. Provide your Kaggle.com score and user ID.\n",
        "\n",
        "(6)  Use k-means clustering to group MNIST observations into 1 of 10 categories and then assign labels. \n",
        "\n",
        "\n",
        "Report total elapsed time measures for the training set analysis.  It is sufficient to run a single time-elapsed test for this assignment. In practice, we might consider the possibility of repeated executions of the relevant portions of the programs, much as the Benchmark Example programs do. Some code that might help you with reporting elapsed total time follows. \n",
        "\n",
        "start=datetime.now()\n",
        "rf2.fit(trainimages,labels)\n",
        "end=datetime.now()\n",
        "print(end-start)\n",
        "\n",
        "The purpose of this assignment is to assess the effectiveness of PCA.\n",
        "2 types of muti-class classifier to predict which of the ten digits is being written　by using MNIST data set are to be developed for this assigment. One model is built by original MNIST data set, the other model is built by principle components as reduced explanatory variables.Elapsed time for each process are recorded and compared each other as benchmarking to assess effectiveness of applying PCA.\n",
        "\n",
        "Relevant scikit-learn documentation includes:\n",
        "- Random Forest Classifier(https://scikit-learn.org/stable/modules/generated/sklearn.ensemble.RandomForestClassifier.html)\n",
        "- Metrics Classification Report(https://scikit-learn.org/stable/modules/generated/sklearn.metrics.classification_report.html)\n",
        "- Plot Digits Classification(https://scikit-learn.org/stable/auto_examples/classification/plot_digits_classification.html#sphx-glr-auto-examples-classification-plot-digits-classification-py)\n",
        "- Sklearn Decomposition(https://scikit-learn.org/stable/modules/generated/sklearn.decomposition.PCA.html)\n",
        "\n",
        "(Optional reading) If you want to learn about the time it takes to execute individual functions or code segments within Python, this article demonstrates a variety of ways to do it (https://www.sicara.ai/blog/2017-09-12-surgical-time-tracking-Python).\n",
        "\n",
        "Regarding the F1 score and the evaluation of multiclass classifiers, refer to the literature on information retrieval. See pages 142–145 of this classic reference:\n",
        "Manning, C. D., Raghaven, P., & Schutze, H. (2008). Introduction to information retrieval. Cambridge, UK: Cambridge University Press. [ISBN-13: 978-0521865715]\n",
        "\n",
        "Or see pages 154–158 of the free online version of the book here (https://nlp.stanford.edu/IR-book/pdf/irbookonlinereading.pdf). \n",
        "\n",
        "Additional information about this book is available online here (https://nlp.stanford.edu/IR-book/information-retrieval-book.html).\n",
        "\n",
        " \n",
        "Programming Notes\n",
        "One of the key parameters in setting up random forests is the number of explanatory variables to include in the individual trees. For this classification problem, I would suggest that we follow the advice of Müller and Guido (2017) and use max_features = 'sqrt' .\n",
        "\n",
        "Regarding the other meta-parameters ...  ensure that bootstrap = True and, given the large number of observations, we might as well keep the default value of n_estimators = 10.\n",
        "\n",
        "Müller, A. C., & Guido, S. (2017). Introduction to machine learning with Python: A guide for data scientists. Sebastopol, CA: O’Reilly. [ISBN-13: 978-1449369415]. Code examples here (https://github.com/amueller/introduction_to_ml_with_python.).\n",
        "\n",
        "Another useful reference that discusses the MNIST data set and principal components analysis is:\n",
        "VanderPlas, J. (2017). Python data science handbook: Essential tools for working with data. Sebastopol, CA: O’Reilly [ISBN-13: 978-1491912058]. Python code examples here (https://github.com/jakevdp/PythonDataScienceHandbook). \n",
        "\n",
        " \n",
        "\n",
        "Deliverables and File Formats\n",
        "- Python notebook that address the problem and the writeup as indicated towards the end of this notebook (Audience:Director Data Science/Analytics)\n",
        "\n",
        "Optional (Audience:Business/C-Suite) - Additional 20 points\n",
        "1. Provide a double-spaced paper with a two-page maximum for the text. The paper in pdf format should include \n",
        "    (1) Summary and problem definition for management; \n",
        "    (2) Discussion of the methodology, data findings and traditional machine learning methods employed; \n",
        "    (3) List assumptions, programming work, issues along with model evaluation metrics; and \n",
        "    (4) Review of results/ insight swith recommendations for management.\n",
        "\n",
        "Formatting Python Code\n",
        "Refer to Google’s Python Style Guide (https://google.github.iostyleguide/pyguide.html) for ideas about formatting Python code:\n",
        "\n",
        "\n",
        "NOTE : \n",
        "- Below is the starter code and please feel free to update/edit/change to provide your thoughts/solutions to the problem. \n",
        "- Comment often and in detail, highlighting major sections of code, describing the thinking behind the programming methods being employed.\n",
        "- This code has a lot of errors so please make sure to updated all the cells based on best practices along with your analysis/findings.\n",
        "\n",
        "\n",
        "GRADING GUIDELINES (100 points)\n",
        "--------------------------------\n",
        "(1) Data preparation, exploration, visualization (20 points)\n",
        "(2) Review research design and modeling methods (20 points)\n",
        "(3) Review results, evaluate models (20 points)\n",
        "(4) Implementation and programming (20 points)\n",
        "(5) Exposition, problem description, and management recommendations (20 points) "
      ]
    },
    {
      "cell_type": "code",
      "metadata": {
        "colab": {
          "base_uri": "https://localhost:8080/"
        },
        "id": "BstPq4xAaCXf",
        "outputId": "3cef8046-9003-47e4-db9c-0aea84533266"
      },
      "source": [
        "# Mount Google Drive to Colab Enviorment\n",
        "from google.colab import drive\n",
        "drive.mount('/content/gdrive')"
      ],
      "execution_count": 2,
      "outputs": [
        {
          "output_type": "stream",
          "text": [
            "Mounted at /content/gdrive\n"
          ],
          "name": "stdout"
        }
      ]
    },
    {
      "cell_type": "code",
      "metadata": {
        "colab": {
          "base_uri": "https://localhost:8080/"
        },
        "id": "368OpfqDaLWa",
        "outputId": "d5c4b0d7-ad7d-4e4a-d15d-652768894ab4"
      },
      "source": [
        "# Establish working directory\n",
        "import os # Operation System\n",
        "os.getcwd()\n",
        "%cd /content/gdrive/My Drive/Machine/HW5/\n",
        "!pwd\n",
        "!ls\n",
        "print('Working Directory')\n",
        "print(os.getcwd())\n",
        "work_dir = \"/content/gdrive/My Drive/Machine/HW5/\""
      ],
      "execution_count": 3,
      "outputs": [
        {
          "output_type": "stream",
          "text": [
            "/content/gdrive/My Drive/Machine/HW5\n",
            "/content/gdrive/My Drive/Machine/HW5\n",
            "Assignment5-GettingStarted.ipynb  kag_1.csv  kag_2.csv\ttest.csv\n",
            "Working Directory\n",
            "/content/gdrive/My Drive/Machine/HW5\n"
          ],
          "name": "stdout"
        }
      ]
    },
    {
      "cell_type": "code",
      "metadata": {
        "id": "LvIjnOAqY6hy"
      },
      "source": [
        "# Ignore warnings\n",
        "import warnings\n",
        "warnings.filterwarnings(\"ignore\")"
      ],
      "execution_count": 4,
      "outputs": []
    },
    {
      "cell_type": "code",
      "metadata": {
        "id": "G-fb9HS5V-9D"
      },
      "source": [
        "import pandas as pd"
      ],
      "execution_count": 5,
      "outputs": []
    },
    {
      "cell_type": "code",
      "metadata": {
        "id": "t5lgiZSYY6h0"
      },
      "source": [
        "%matplotlib inline\n",
        "\n",
        "# import base packages into the namespace for this program\n",
        "import matplotlib.pyplot as plt\n",
        "import numpy as np\n",
        "import time\n",
        "import os\n",
        "import subprocess\n",
        "\n",
        "#SKlearn\n",
        "from sklearn.datasets import fetch_openml\n",
        "from sklearn.decomposition import PCA\n",
        "from sklearn.ensemble import RandomForestClassifier\n",
        "from sklearn.model_selection import cross_val_predict, cross_val_score\n",
        "from sklearn.metrics import confusion_matrix\n",
        "from sklearn.metrics import f1_score, classification_report"
      ],
      "execution_count": 6,
      "outputs": []
    },
    {
      "cell_type": "code",
      "metadata": {
        "id": "zzmWCQ7yY6h0"
      },
      "source": [
        "# seed value for random number generators to obtain reproducible results\n",
        "RANDOM_SEED = 42"
      ],
      "execution_count": 7,
      "outputs": []
    },
    {
      "cell_type": "code",
      "metadata": {
        "id": "Cm4aXfRJY6h1"
      },
      "source": [
        "# Get MNIST Data Set  ( https://github.com/ageron/handson-ml/issues/301#issuecomment-448853256 )\n",
        "# The issue of obtaining MNIST data is solved by following \"https://github.com/ageron/handson-ml/issues/143\".\n",
        "from sklearn.datasets import fetch_openml\n",
        "mnist = fetch_openml('mnist_784', version=1, cache=True)\n",
        "# mnist"
      ],
      "execution_count": 8,
      "outputs": []
    },
    {
      "cell_type": "markdown",
      "metadata": {
        "id": "sPUPfOGbY6h1"
      },
      "source": [
        "##### (1) Begin by fitting a random forest classifier using the full set of 784 explanatory variables and the model development set of 60,000 observations. Record the time it takes to fit the model and evaluate the model on the holdout data. Assess classification performance using the F1 score, which is the harmonic mean of precision and recall."
      ]
    },
    {
      "cell_type": "code",
      "metadata": {
        "id": "Dzmn5Qu3Y6h1"
      },
      "source": [
        "#Split training data (60,000) and test data (10,000)\n",
        "split = 60000\n",
        "X_train, X_test = mnist[\"data\"][:split], mnist[\"data\"][split:]\n",
        "y_train, y_test = mnist[\"target\"][:split], mnist[\"target\"][split:]"
      ],
      "execution_count": 9,
      "outputs": []
    },
    {
      "cell_type": "code",
      "metadata": {
        "colab": {
          "base_uri": "https://localhost:8080/"
        },
        "id": "A9Z70L65Y6h3",
        "outputId": "09b0ffda-db3c-485e-c4d4-7c053b790f4b"
      },
      "source": [
        "# Check the shape of the trainig data set array\n",
        "print('Shape of X_train_data:', X_train.shape, X_test.shape)\n",
        "print('Shape of y_train_data:', y_train.shape, y_test.shape)"
      ],
      "execution_count": 10,
      "outputs": [
        {
          "output_type": "stream",
          "text": [
            "Shape of X_train_data: (60000, 784) (10000, 784)\n",
            "Shape of y_train_data: (60000,) (10000,)\n"
          ],
          "name": "stdout"
        }
      ]
    },
    {
      "cell_type": "code",
      "metadata": {
        "id": "JyGU-YVIY6h4"
      },
      "source": [
        "# Shuffle the training set so that all cross-validation folds will be similar.\n",
        "shuffle = np.random.permutation(split)\n",
        "X_train, y_train = X_train[shuffle], y_train[shuffle]"
      ],
      "execution_count": 11,
      "outputs": []
    },
    {
      "cell_type": "code",
      "metadata": {
        "colab": {
          "base_uri": "https://localhost:8080/"
        },
        "id": "_fUFq8t3Y6h5",
        "outputId": "6f77ebb2-945d-4a0e-b572-601a7951bf35"
      },
      "source": [
        "#RANDOM FOREST with MNIST data set (no PCA)\n",
        "start_RF = time.clock() #Record start time of RANDOM FOREST Process\n",
        "\n",
        "RF_clf = RandomForestClassifier(\n",
        "  bootstrap = True,\n",
        "  n_estimators=10,\n",
        "  max_features='sqrt', \n",
        "  random_state=RANDOM_SEED\n",
        ")\n",
        "RF_clf.fit(X_train, y_train)"
      ],
      "execution_count": 12,
      "outputs": [
        {
          "output_type": "execute_result",
          "data": {
            "text/plain": [
              "RandomForestClassifier(bootstrap=True, ccp_alpha=0.0, class_weight=None,\n",
              "                       criterion='gini', max_depth=None, max_features='sqrt',\n",
              "                       max_leaf_nodes=None, max_samples=None,\n",
              "                       min_impurity_decrease=0.0, min_impurity_split=None,\n",
              "                       min_samples_leaf=1, min_samples_split=2,\n",
              "                       min_weight_fraction_leaf=0.0, n_estimators=10,\n",
              "                       n_jobs=None, oob_score=False, random_state=42, verbose=0,\n",
              "                       warm_start=False)"
            ]
          },
          "metadata": {
            "tags": []
          },
          "execution_count": 12
        }
      ]
    },
    {
      "cell_type": "code",
      "metadata": {
        "colab": {
          "base_uri": "https://localhost:8080/"
        },
        "id": "PlQKdwOlY6h5",
        "outputId": "7c38da9b-c6eb-47af-cff2-1e532a6500e0"
      },
      "source": [
        "# Evaluate a score of RANDOM FOREST by cross-validation\n",
        "# http://scikit-learn.org/stable/modules/generated/sklearn.model_selection.cross_val_score.html\n",
        "# http://scikit-learn.org/stable/modules/model_evaluation.html#scoring-parameter\n",
        "print(cross_val_score(\n",
        "  RF_clf, \n",
        "  X_test, y_test, \n",
        "  cv=10, \n",
        "  scoring='f1_macro'\n",
        "))"
      ],
      "execution_count": 13,
      "outputs": [
        {
          "output_type": "stream",
          "text": [
            "[0.89053387 0.86481198 0.88884162 0.8740432  0.87726756 0.9405485\n",
            " 0.92547626 0.92914491 0.95640222 0.91777252]\n"
          ],
          "name": "stdout"
        }
      ]
    },
    {
      "cell_type": "code",
      "metadata": {
        "id": "0plxMs_mTFA_"
      },
      "source": [
        "#Results for Kaggle 1\n",
        "test = pd.read_csv(work_dir+'./test.csv')\n",
        "kag1 = RF_clf.predict(test)\n",
        "kag_1 = pd.DataFrame(kag1, range(1,28001))\n",
        "kag_1.reset_index(inplace = True)\n",
        "kag_1.columns = ['Imageid','Label']\n",
        "kag_1.to_csv('kag_1.csv', index = False)"
      ],
      "execution_count": 14,
      "outputs": []
    },
    {
      "cell_type": "markdown",
      "metadata": {
        "id": "_-O4YSOSeEsE"
      },
      "source": [
        "Submit to Kaggle. User name is Renjie Liu and score is 0.99182."
      ]
    },
    {
      "cell_type": "code",
      "metadata": {
        "colab": {
          "base_uri": "https://localhost:8080/"
        },
        "id": "DhcGCBB5Y6h5",
        "outputId": "aa26d5e6-1e3e-4175-a4b0-1e08c543eff1"
      },
      "source": [
        "#Generate cross-validated estimates for each input data point\n",
        "#http://scikit-learn.org/stable/modules/generated/sklearn.model_selection.cross_val_predict.html\n",
        "y_pred = cross_val_predict(\n",
        "  RF_clf,\n",
        "  X_test, y_test,\n",
        "  cv=10\n",
        ")\n",
        "\n",
        "# Show Precision, Recall and F1-Score\n",
        "#http://scikit-learn.org/stable/modules/generated/sklearn.metrics.classification_report.html\n",
        "print(classification_report(y_test, y_pred))"
      ],
      "execution_count": 15,
      "outputs": [
        {
          "output_type": "stream",
          "text": [
            "              precision    recall  f1-score   support\n",
            "\n",
            "           0       0.94      0.97      0.96       980\n",
            "           1       0.96      0.98      0.97      1135\n",
            "           2       0.87      0.92      0.89      1032\n",
            "           3       0.86      0.90      0.88      1010\n",
            "           4       0.88      0.91      0.90       982\n",
            "           5       0.89      0.84      0.86       892\n",
            "           6       0.94      0.92      0.93       958\n",
            "           7       0.94      0.89      0.92      1028\n",
            "           8       0.92      0.85      0.88       974\n",
            "           9       0.89      0.87      0.88      1009\n",
            "\n",
            "    accuracy                           0.91     10000\n",
            "   macro avg       0.91      0.91      0.91     10000\n",
            "weighted avg       0.91      0.91      0.91     10000\n",
            "\n"
          ],
          "name": "stdout"
        }
      ]
    },
    {
      "cell_type": "code",
      "metadata": {
        "colab": {
          "base_uri": "https://localhost:8080/"
        },
        "id": "DeoEUbe1Y6h6",
        "outputId": "763de30e-a28f-4fb8-ed4b-07f5d8158a1b"
      },
      "source": [
        "# Calculate Average F1 Score\n",
        "# http://scikit-learn.org/stable/modules/generated/sklearn.metrics.f1_score.html#sklearn.metrics.f1_score\n",
        "f1score_RF_clf = f1_score(y_test, y_pred, average='macro')\n",
        "f1score_RF_clf"
      ],
      "execution_count": 16,
      "outputs": [
        {
          "output_type": "execute_result",
          "data": {
            "text/plain": [
              "0.906620252428865"
            ]
          },
          "metadata": {
            "tags": []
          },
          "execution_count": 16
        }
      ]
    },
    {
      "cell_type": "code",
      "metadata": {
        "colab": {
          "base_uri": "https://localhost:8080/"
        },
        "id": "pj-uACyOY6h6",
        "outputId": "3809282c-26bc-4325-e93e-b835e8766811"
      },
      "source": [
        "#Elapsed Time to perform Random Forest\n",
        "stop_RF = time.clock()\n",
        "time_RF = stop_RF - start_RF\n",
        "\n",
        "print('Start time for Random Forest:', start_RF)\n",
        "print('End_time for Random Forest:', stop_RF)\n",
        "print('Runtime for Random Forest:', time_RF)"
      ],
      "execution_count": 17,
      "outputs": [
        {
          "output_type": "stream",
          "text": [
            "Start time for Random Forest: 26.065385\n",
            "End_time for Random Forest: 44.492423\n",
            "Runtime for Random Forest: 18.427038000000003\n"
          ],
          "name": "stdout"
        }
      ]
    },
    {
      "cell_type": "code",
      "metadata": {
        "id": "BLb8FzwjY6h7",
        "colab": {
          "base_uri": "https://localhost:8080/"
        },
        "outputId": "696bf25d-5e7d-464d-b580-3d86f39dff21"
      },
      "source": [
        "#Confusion Matrix for RANDOM FOREST with MNIST data set (no PCA)\n",
        "cm_RF_clf = confusion_matrix(y_test, y_pred)\n",
        "cm_RF_clf"
      ],
      "execution_count": 18,
      "outputs": [
        {
          "output_type": "execute_result",
          "data": {
            "text/plain": [
              "array([[ 955,    2,    1,    2,    0,    5,    7,    1,    7,    0],\n",
              "       [   0, 1113,    6,    6,    1,    2,    2,    0,    5,    0],\n",
              "       [  10,    5,  945,    9,    9,    6,   12,   19,   14,    3],\n",
              "       [   1,    4,   29,  913,    1,   31,    1,    9,   11,   10],\n",
              "       [   3,    5,    6,    0,  897,    2,   12,    5,    3,   49],\n",
              "       [  14,    7,    7,   69,   13,  745,    9,    2,   14,   12],\n",
              "       [  16,    5,   19,    4,    8,   15,  886,    0,    4,    1],\n",
              "       [   4,   11,   39,   11,   13,    5,    2,  919,    8,   16],\n",
              "       [   6,    8,   24,   34,   28,   19,    7,    6,  827,   15],\n",
              "       [   8,    5,   10,   19,   47,   11,    4,   16,    9,  880]])"
            ]
          },
          "metadata": {
            "tags": []
          },
          "execution_count": 18
        }
      ]
    },
    {
      "cell_type": "code",
      "metadata": {
        "id": "8b2ob7Y3Y6h7",
        "colab": {
          "base_uri": "https://localhost:8080/",
          "height": 285
        },
        "outputId": "69de0775-c2d6-4b51-fb05-617120d39382"
      },
      "source": [
        "# Show Confusion Matrix Plot for RANDOM FOREST with MNIST data set (no PCA)\n",
        "plt.matshow(cm_RF_clf, cmap=plt.cm.gray)\n",
        "plt.title('ConfusionMatrix_RF_Clf')\n",
        "plt.show()"
      ],
      "execution_count": 19,
      "outputs": [
        {
          "output_type": "display_data",
          "data": {
            "image/png": "[encoded data removed]",
            "text/plain": [
              "<Figure size 288x288 with 1 Axes>"
            ]
          },
          "metadata": {
            "tags": [],
            "needs_background": "light"
          }
        }
      ]
    },
    {
      "cell_type": "code",
      "metadata": {
        "id": "5TmJOWoyY6h7",
        "colab": {
          "base_uri": "https://localhost:8080/",
          "height": 285
        },
        "outputId": "cb863bfe-daa9-4eac-92a1-5627683af110"
      },
      "source": [
        "# Show Error Plot for RANDOM FOREST with MNIST data set (no PCA) \n",
        "rws = cm_RF_clf.sum(axis=1, keepdims=True)\n",
        "norm = cm_RF_clf / rws\n",
        "\n",
        "np.fill_diagonal(norm, 0)\n",
        "plt.matshow(norm, cmap=plt.cm.gray)\n",
        "plt.title('Error_Matrix_RF_Clf')\n",
        "plt.show()"
      ],
      "execution_count": 20,
      "outputs": [
        {
          "output_type": "display_data",
          "data": {
            "image/png": "[encoded data removed]",
            "text/plain": [
              "<Figure size 288x288 with 1 Axes>"
            ]
          },
          "metadata": {
            "tags": [],
            "needs_background": "light"
          }
        }
      ]
    },
    {
      "cell_type": "markdown",
      "metadata": {
        "id": "3ggyz5g5Y6h8"
      },
      "source": [
        "##### (2) Execute principal components analysis (PCA) on the full set of 70,000, generating principal components that represent 95 percent of the variability in the explanatory variables. The number of principal components in the solution should be substantially fewer than the 784 explanatory variables. Record the time it takes to identify the principal components."
      ]
    },
    {
      "cell_type": "code",
      "metadata": {
        "collapsed": true,
        "id": "KNWUX7V5Y6h8",
        "colab": {
          "base_uri": "https://localhost:8080/"
        },
        "outputId": "6116a4f3-11ad-47d6-c08b-aac041d1f536"
      },
      "source": [
        "# Set X of 70000 full set for pca\n",
        "from sklearn.decomposition import PCA\n",
        "X = mnist['data']\n",
        "y = mnist['target']\n",
        "X.shape"
      ],
      "execution_count": 21,
      "outputs": [
        {
          "output_type": "execute_result",
          "data": {
            "text/plain": [
              "(70000, 784)"
            ]
          },
          "metadata": {
            "tags": []
          },
          "execution_count": 21
        }
      ]
    },
    {
      "cell_type": "code",
      "metadata": {
        "colab": {
          "base_uri": "https://localhost:8080/"
        },
        "id": "-JgPfdLnLCmY",
        "outputId": "d19850f6-aaed-4a9c-9445-2230a6ea4d07"
      },
      "source": [
        "# PRINCIPAL COMPONENT ANALYSIS: 95% of variablity\n",
        "# find the number of components for 95% variance\n",
        "pca = PCA()\n",
        "t0 = time.time()\n",
        "pca.fit(X)\n",
        "\n",
        "cumsum = np.cumsum(pca.explained_variance_ratio_)\n",
        "d = np.argmax(cumsum >= 0.95) + 1\n",
        "d\n",
        "# 154 components needed to explain 95% vairance"
      ],
      "execution_count": 22,
      "outputs": [
        {
          "output_type": "execute_result",
          "data": {
            "text/plain": [
              "154"
            ]
          },
          "metadata": {
            "tags": []
          },
          "execution_count": 22
        }
      ]
    },
    {
      "cell_type": "code",
      "metadata": {
        "colab": {
          "base_uri": "https://localhost:8080/",
          "height": 283
        },
        "id": "cgqmjnPME64W",
        "outputId": "d934efed-52fb-4b0f-e1f5-8a99b620a47f"
      },
      "source": [
        "# Use plot to visualize the relationship between dimensions and explained vairance\n",
        "plt.figure(figsize=(6,4))\n",
        "plt.plot(cumsum, linewidth=3)\n",
        "plt.axis([0, 400, 0, 1])\n",
        "plt.xlabel(\"Dimensions\")\n",
        "plt.ylabel(\"Explained Variance\")\n",
        "plt.plot([d, d], [0, 0.95], \"k:\")\n",
        "plt.plot([0, d], [0.95, 0.95], \"k:\")\n",
        "plt.plot(d, 0.95, \"ko\")\n",
        "plt.annotate(\"Elbow\", xy=(65, 0.85), xytext=(70, 0.7),\n",
        "             arrowprops=dict(arrowstyle=\"->\"), fontsize=16)\n",
        "plt.grid(True)\n",
        "plt.show()"
      ],
      "execution_count": 23,
      "outputs": [
        {
          "output_type": "display_data",
          "data": {
            "image/png": "[encoded data removed]",
            "text/plain": [
              "<Figure size 432x288 with 1 Axes>"
            ]
          },
          "metadata": {
            "tags": [],
            "needs_background": "light"
          }
        }
      ]
    },
    {
      "cell_type": "code",
      "metadata": {
        "colab": {
          "base_uri": "https://localhost:8080/"
        },
        "id": "CzOnPsluKhW5",
        "outputId": "e05e095e-41f2-4c6b-b30a-87670fd006ff"
      },
      "source": [
        "# Record the time it takes to identify the principal components. for train\n",
        "pca = PCA(n_components=0.95)\n",
        "t0 = time.time()\n",
        "X_train_reduced = pca.fit_transform(X_train)\n",
        "t1 = time.time()\n",
        "print(\"Identifying components took {:.2f}s\".format(t1 - t0))"
      ],
      "execution_count": 24,
      "outputs": [
        {
          "output_type": "stream",
          "text": [
            "Identifying components took 11.71s\n"
          ],
          "name": "stdout"
        }
      ]
    },
    {
      "cell_type": "code",
      "metadata": {
        "colab": {
          "base_uri": "https://localhost:8080/"
        },
        "id": "emYJBWa6vL2C",
        "outputId": "e52e27fe-3f5a-4227-b48b-7052b3161c89"
      },
      "source": [
        "# Record the time it takes to identify the principal components for the whole dataset\n",
        "pca = PCA(n_components=0.95)\n",
        "t0 = time.time()\n",
        "X_reduced = pca.fit_transform(X)\n",
        "t1 = time.time()\n",
        "print(\"Identifying componenets took {:.2f}s\".format(t1 - t0))"
      ],
      "execution_count": 25,
      "outputs": [
        {
          "output_type": "stream",
          "text": [
            "Identifying componenets took 13.51s\n"
          ],
          "name": "stdout"
        }
      ]
    },
    {
      "cell_type": "markdown",
      "metadata": {
        "id": "iq7vq1K2Y6h8"
      },
      "source": [
        "##### (3) Using the identified principal components from step (2), use the first 60,000 observations to build another random forest classifier. Record the time it takes to fit the model and to evaluate the model on the holdout data (the last 10,000 observations). Assess classification performance using the F1 score, which is the harmonic mean of  precision and recall.\n"
      ]
    },
    {
      "cell_type": "code",
      "metadata": {
        "id": "1ikedqvWQMtx"
      },
      "source": [
        "# fit RANDOM FOREST on all the 70000 dataset\n",
        "rnd_clf2 = RandomForestClassifier(bootstrap = True,\n",
        "  n_estimators=10,\n",
        "  max_features='sqrt', random_state = 42)\n",
        "t0 = time.time()\n",
        "rnd_clf2.fit(X, y)\n",
        "t1 = time.time()"
      ],
      "execution_count": 26,
      "outputs": []
    },
    {
      "cell_type": "code",
      "metadata": {
        "colab": {
          "base_uri": "https://localhost:8080/"
        },
        "id": "5bImriMHQgIN",
        "outputId": "aaa61516-4bb3-43c7-f8ca-628dd1611e58"
      },
      "source": [
        "print(\"Training the model with X_train_reduced took {:.2f}s\".format(t1 - t0))\n",
        "# does not took very long to train the model with all the 700000 full dataset"
      ],
      "execution_count": 27,
      "outputs": [
        {
          "output_type": "stream",
          "text": [
            "Training the model with X_train_reduced took 5.93s\n"
          ],
          "name": "stdout"
        }
      ]
    },
    {
      "cell_type": "code",
      "metadata": {
        "collapsed": true,
        "id": "zuRirTxCY6h9"
      },
      "source": [
        "# RANDOM FOREST on Dimension Reduced Data (PCA:95% variability)\n",
        "rnd_clf2 = RandomForestClassifier(bootstrap = True,\n",
        "  n_estimators=10,\n",
        "  max_features='sqrt', random_state = 42)\n",
        "t0 = time.time()\n",
        "rnd_clf2.fit(X_train_reduced, y_train)\n",
        "t1 = time.time()"
      ],
      "execution_count": 28,
      "outputs": []
    },
    {
      "cell_type": "code",
      "metadata": {
        "colab": {
          "base_uri": "https://localhost:8080/"
        },
        "id": "KhymVZjPveHO",
        "outputId": "a0163978-9aff-4eaa-f478-ea60f293b800"
      },
      "source": [
        "print(\"Training the model with X_train_reduced took {:.2f}s\".format(t1 - t0))\n",
        "# Definately took less time to train the model with the X train reducted. The old one took 17s, and now it only takes 12s."
      ],
      "execution_count": 29,
      "outputs": [
        {
          "output_type": "stream",
          "text": [
            "Training the model with X_train_reduced took 12.69s\n"
          ],
          "name": "stdout"
        }
      ]
    },
    {
      "cell_type": "code",
      "metadata": {
        "colab": {
          "base_uri": "https://localhost:8080/"
        },
        "id": "uo2OyHWnwg9w",
        "outputId": "bfccaa5d-07fe-431f-de13-44a0efbe55fe"
      },
      "source": [
        "# Also reducted the components for X _ test\n",
        "# Check the f1 score of 10 folds cross validation for the model\n",
        "X_test_reduced = pca.transform(X_test)\n",
        "\n",
        "print(cross_val_score(\n",
        "  rnd_clf2, \n",
        "  X_test_reduced, y_test, \n",
        "  cv=10, \n",
        "  scoring='f1_macro'\n",
        "))\n",
        "# The 10 folds cv f1 score for the reducted model is very similar to the model with all of the variables."
      ],
      "execution_count": 30,
      "outputs": [
        {
          "output_type": "stream",
          "text": [
            "[0.7947156  0.75367143 0.80037087 0.77796685 0.80586068 0.84801505\n",
            " 0.85419088 0.83730022 0.88467234 0.82026762]\n"
          ],
          "name": "stdout"
        }
      ]
    },
    {
      "cell_type": "code",
      "metadata": {
        "colab": {
          "base_uri": "https://localhost:8080/"
        },
        "id": "fDKXyIPcxVKy",
        "outputId": "9964df8e-480a-4cab-902d-256763c04ee8"
      },
      "source": [
        "y_pred = cross_val_predict(\n",
        "  rnd_clf2,\n",
        "  X_test_reduced, y_test,\n",
        "  cv=10\n",
        ")\n",
        "\n",
        "# Show Precision, Recall and F1-Score\n",
        "#http://scikit-learn.org/stable/modules/generated/sklearn.metrics.classification_report.html\n",
        "print(classification_report(y_test, y_pred))\n",
        "# The accuracy for the reducted variables model is lower than the model with all of the variables. "
      ],
      "execution_count": 31,
      "outputs": [
        {
          "output_type": "stream",
          "text": [
            "              precision    recall  f1-score   support\n",
            "\n",
            "           0       0.81      0.94      0.87       980\n",
            "           1       0.93      0.97      0.95      1135\n",
            "           2       0.78      0.83      0.80      1032\n",
            "           3       0.76      0.79      0.78      1010\n",
            "           4       0.77      0.79      0.78       982\n",
            "           5       0.77      0.72      0.74       892\n",
            "           6       0.88      0.86      0.87       958\n",
            "           7       0.87      0.84      0.86      1028\n",
            "           8       0.82      0.70      0.76       974\n",
            "           9       0.82      0.74      0.78      1009\n",
            "\n",
            "    accuracy                           0.82     10000\n",
            "   macro avg       0.82      0.82      0.82     10000\n",
            "weighted avg       0.82      0.82      0.82     10000\n",
            "\n"
          ],
          "name": "stdout"
        }
      ]
    },
    {
      "cell_type": "code",
      "metadata": {
        "colab": {
          "base_uri": "https://localhost:8080/"
        },
        "id": "8eh57cXYM6J9",
        "outputId": "54775c84-ddf1-4a6c-f334-24d028b0f7ea"
      },
      "source": [
        "#Confusion Matrix for RANDOM FOREST with MNIST with PCA\n",
        "cm_RF_clf = confusion_matrix(y_test, y_pred)\n",
        "cm_RF_clf"
      ],
      "execution_count": 32,
      "outputs": [
        {
          "output_type": "execute_result",
          "data": {
            "text/plain": [
              "array([[ 919,    0,    9,   10,    4,   13,   12,    4,    5,    4],\n",
              "       [   3, 1106,    4,    8,    1,    4,    3,    1,    5,    0],\n",
              "       [  32,   12,  855,   27,   18,   12,   17,   16,   33,   10],\n",
              "       [  38,    8,   48,  801,   10,   48,    9,   10,   33,    5],\n",
              "       [  10,   12,   31,   11,  775,   10,   23,   22,   11,   77],\n",
              "       [  53,    5,   22,   85,   17,  641,   21,    7,   29,   12],\n",
              "       [  30,    7,   23,   16,   22,   28,  823,    3,    3,    3],\n",
              "       [   7,   18,   30,   14,   27,    6,    6,  867,   10,   43],\n",
              "       [  31,    9,   65,   66,   22,   54,   18,   12,  682,   15],\n",
              "       [  16,    9,   15,   13,  114,   17,    2,   55,   17,  751]])"
            ]
          },
          "metadata": {
            "tags": []
          },
          "execution_count": 32
        }
      ]
    },
    {
      "cell_type": "code",
      "metadata": {
        "colab": {
          "base_uri": "https://localhost:8080/",
          "height": 285
        },
        "id": "q6lNcuP0NCuP",
        "outputId": "3e061e6f-3103-4c0b-d302-6dab803b97d8"
      },
      "source": [
        "# Show Confusion Matrix Plot for RANDOM FOREST with MNIST data set with pca\n",
        "plt.matshow(cm_RF_clf, cmap=plt.cm.gray)\n",
        "plt.title('ConfusionMatrix_RF_Clf')\n",
        "plt.show()\n",
        "# Look very similar to the model with no PCA"
      ],
      "execution_count": 33,
      "outputs": [
        {
          "output_type": "display_data",
          "data": {
            "image/png": "[encoded data removed]",
            "text/plain": [
              "<Figure size 288x288 with 1 Axes>"
            ]
          },
          "metadata": {
            "tags": [],
            "needs_background": "light"
          }
        }
      ]
    },
    {
      "cell_type": "code",
      "metadata": {
        "colab": {
          "base_uri": "https://localhost:8080/"
        },
        "id": "xcGKhkzWi4ns",
        "outputId": "144f5632-1167-4c11-e127-cd7f7d9059c5"
      },
      "source": [
        "X_train.shape"
      ],
      "execution_count": 34,
      "outputs": [
        {
          "output_type": "execute_result",
          "data": {
            "text/plain": [
              "(60000, 784)"
            ]
          },
          "metadata": {
            "tags": []
          },
          "execution_count": 34
        }
      ]
    },
    {
      "cell_type": "code",
      "metadata": {
        "id": "FtGBVGXHfsMJ"
      },
      "source": [
        "#Results for Kaggle with PCA model\n",
        "pca = PCA(n_components=154)\n",
        "kag2 = rnd_clf2.predict(pca.fit_transform(test))\n",
        "kag_2 = pd.DataFrame(kag2, range(1,28001))\n",
        "kag_2.reset_index(inplace = True)\n",
        "kag_2.columns = ['Imageid','Label']\n",
        "kag_2.to_csv('kag_2.csv', index = False)"
      ],
      "execution_count": 35,
      "outputs": []
    },
    {
      "cell_type": "markdown",
      "metadata": {
        "id": "RNKCRWamlFgE"
      },
      "source": [
        "Submited to kaggle. User id is Renjie Liu, and the score for prediction with PCA is 0.38846."
      ]
    },
    {
      "cell_type": "markdown",
      "metadata": {
        "id": "lfvMRuqtY6h9"
      },
      "source": [
        "##### (4) Compare test set performance across the two modeling approaches: original 784-variable model versus the 95-percent-PCA model. Also evaluate the time required to perform (1) versus the time required to perform (2) and (3) together. Ensure that accurate measures are made of the total time it takes to execute each of the modeling approaches in training the models. Some guidance on the coding of benchmark studies may be found in the Python code under: \n"
      ]
    },
    {
      "cell_type": "markdown",
      "metadata": {
        "id": "Gzy1sRDJPhT9"
      },
      "source": [
        "The 10 folds cross validation f1 score for the model without PCA is generally higher than the 10 folds cross valiation f1 score for the model with PCA reduction. Training the model with X_train_reduced took 12.94s, and training the modekl with all the variables took 19.4s. Therefore, with the reducted variable it does improve the running time for fitting the random forest model. However, when I use all the 70000 full dataset to fit the random forest model, the time is shorter than fitting the two train dataset with and without PCA."
      ]
    },
    {
      "cell_type": "markdown",
      "metadata": {
        "id": "SVthBT6hY6h9"
      },
      "source": [
        "##### (5) The experiment we have proposed has a design flaw. Identify the flaw. Fix it. Rerun the experiment in a way that is consistent with a training-and-test regimen."
      ]
    },
    {
      "cell_type": "markdown",
      "metadata": {
        "id": "1eNcS19tkAGt"
      },
      "source": [
        "The design flaw is using the fir transform for the test dataset. We should use the trainingdata set PCA and use it to transform the test data set."
      ]
    },
    {
      "cell_type": "code",
      "metadata": {
        "id": "-Hi23NjojGLo"
      },
      "source": [
        "#Results for Kaggle with PCA model transforming test using pca for train\n",
        "pca = PCA(n_components=154)\n",
        "pca = pca.fit(X_train)\n",
        "kag3 = rnd_clf2.predict(pca.transform(test))\n",
        "kag_3 = pd.DataFrame(kag3, range(1,28001))\n",
        "kag_3.reset_index(inplace = True)\n",
        "kag_3.columns = ['Imageid','Label']\n",
        "kag_3.to_csv('kag_3.csv', index = False)"
      ],
      "execution_count": 37,
      "outputs": []
    },
    {
      "cell_type": "markdown",
      "metadata": {
        "id": "ZXIJmOKRkIQ-"
      },
      "source": [
        "Submitted to kaggle, and i got a score of 097778 which is very close to the models with all the variables."
      ]
    },
    {
      "cell_type": "markdown",
      "metadata": {
        "id": "2ipBi4JZlGUX"
      },
      "source": [
        "(6) Use k-means clustering to group MNIST observations into 1 of 10 categories and then assign labels."
      ]
    },
    {
      "cell_type": "code",
      "metadata": {
        "colab": {
          "base_uri": "https://localhost:8080/"
        },
        "id": "PP-_LwmDlH8Z",
        "outputId": "bec77f5a-0c4d-4743-c8d5-05d6f17ea346"
      },
      "source": [
        "from sklearn.cluster import KMeans\n",
        "k = 10\n",
        "kmeans = KMeans(n_clusters=k, random_state=42)\n",
        "kmeans= kmeans.fit(X_train)\n",
        "kpred = kmeans.predict(test)"
      ],
      "execution_count": 38,
      "outputs": [
        {
          "output_type": "execute_result",
          "data": {
            "text/plain": [
              "array([8, 6, 2, ..., 0, 4, 8], dtype=int32)"
            ]
          },
          "metadata": {
            "tags": []
          },
          "execution_count": 38
        }
      ]
    },
    {
      "cell_type": "code",
      "metadata": {
        "colab": {
          "base_uri": "https://localhost:8080/"
        },
        "id": "0eLNF65Brqtu",
        "outputId": "a37d672e-4676-483d-9181-99d59a56a638"
      },
      "source": [
        "kpred"
      ],
      "execution_count": 47,
      "outputs": [
        {
          "output_type": "execute_result",
          "data": {
            "text/plain": [
              "array([8, 6, 2, ..., 0, 4, 8], dtype=int32)"
            ]
          },
          "metadata": {
            "tags": []
          },
          "execution_count": 47
        }
      ]
    },
    {
      "cell_type": "markdown",
      "metadata": {
        "id": "IkQug_LdY6h-"
      },
      "source": [
        "Management Problem:\n",
        "From a management perspective, the predictive accuracy of models must be weighed against the costs of model development and implementation. Suppose you were the manager of a data science team responsible for implementing models for computer vision (classification of images analogous to the MINST problem). Would you recommend using PCA as a preliminary to machine learning classification? Explain your thinking.\n",
        "\n",
        "\n",
        "#### REPORT/FINDINGS: \n",
        "(1) A summary and problem definition for management; \n",
        "\n",
        "(2) Discussion of the research design, measurement and statistical methods, traditional and machine learning methods employed \n",
        "\n",
        "(3) Overview of programming work; \n",
        "\n",
        "(4) Review of results with recommendations for management."
      ]
    }
  ]
}