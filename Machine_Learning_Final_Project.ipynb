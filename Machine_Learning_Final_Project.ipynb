{
  "nbformat": 4,
  "nbformat_minor": 0,
  "metadata": {
    "colab": {
      "name": "Machine Learning Final Project.ipynb",
      "provenance": [],
      "collapsed_sections": []
    },
    "kernelspec": {
      "name": "python3",
      "display_name": "Python 3"
    },
    "language_info": {
      "name": "python"
    }
  },
  "cells": [
    {
      "cell_type": "markdown",
      "metadata": {
        "id": "FgXymd_aRGRP"
      },
      "source": [
        "### **Team 8 Final Project Google Play Revenue Prediction**\n",
        "Team Member:\n",
        "Sijia Du, Janice Gong, Renjie Liu, Jiekai Ma"
      ]
    },
    {
      "cell_type": "code",
      "metadata": {
        "id": "L5v5vwp4PQ-q"
      },
      "source": [
        "import warnings\n",
        "warnings.filterwarnings(\"ignore\") "
      ],
      "execution_count": null,
      "outputs": []
    },
    {
      "cell_type": "code",
      "metadata": {
        "id": "ulzsGUUv0Q9y"
      },
      "source": [
        "import pandas as pd  # data frame operations  \n",
        "import sklearn\n",
        "import plotly\n",
        "import plotly.graph_objs as go\n",
        "import time\n",
        "import numpy as np\n",
        "import os\n",
        "import sys\n",
        "import re # regular expressions\n",
        "import scipy\n",
        "import seaborn as sns\n",
        "import json\n",
        "from pandas.io.json import json_normalize\n",
        "import matplotlib.pyplot as plt\n",
        "\n",
        "from lightgbm import LGBMRegressor\n",
        "from sklearn.model_selection import train_test_split\n",
        "from sklearn.model_selection import GridSearchCV\n",
        "from sklearn.model_selection import RandomizedSearchCV\n",
        "from sklearn.model_selection import cross_val_score\n",
        "import statistics\n",
        "import math\n",
        "\n",
        "import xgboost as xgb\n",
        "from sklearn.metrics import mean_squared_error\n",
        "from math import sqrt"
      ],
      "execution_count": null,
      "outputs": []
    },
    {
      "cell_type": "code",
      "metadata": {
        "id": "i1WLOdE0QVxK",
        "colab": {
          "base_uri": "https://localhost:8080/"
        },
        "outputId": "9a7ce58f-eb43-46fa-979f-060d1695c6a3"
      },
      "source": [
        "from google.colab import drive\n",
        "drive.mount('/content/drive')"
      ],
      "execution_count": null,
      "outputs": [
        {
          "output_type": "stream",
          "name": "stdout",
          "text": [
            "Drive already mounted at /content/drive; to attempt to forcibly remount, call drive.mount(\"/content/drive\", force_remount=True).\n"
          ]
        }
      ]
    },
    {
      "cell_type": "code",
      "metadata": {
        "id": "fKHQHkGsR4Zd"
      },
      "source": [
        "# Janice"
      ],
      "execution_count": null,
      "outputs": []
    },
    {
      "cell_type": "code",
      "metadata": {
        "colab": {
          "base_uri": "https://localhost:8080/"
        },
        "id": "ReU76rMqzixb",
        "outputId": "70cc6fc5-2193-4d7b-9e71-d8056c8bad3a"
      },
      "source": [
        "import os \n",
        "os.getcwd()\n",
        "%cd /content/drive/Shareddrives/machine learning project/Data/\n",
        "!pwd\n",
        "!ls\n",
        "print('Working Directory')\n",
        "print(os.getcwd())\n",
        "work_dir = \"/content/drive/Shareddrives/machine learning project/Data/\""
      ],
      "execution_count": null,
      "outputs": [
        {
          "output_type": "stream",
          "text": [
            "/content/drive/Shareddrives/machine learning project/Data\n",
            "/content/drive/Shareddrives/machine learning project/Data\n",
            "df_train.csv  test.csv\ttrain.csv\n",
            "Working Directory\n",
            "/content/drive/Shareddrives/machine learning project/Data\n"
          ],
          "name": "stdout"
        }
      ]
    },
    {
      "cell_type": "code",
      "metadata": {
        "id": "r5xlbaghZ_PY"
      },
      "source": [
        "#Flatten JSON data \n",
        "def load_df(csv_path=work_dir+'train.csv', nrows=None):\n",
        "    JSON_COLUMNS = ['device', 'geoNetwork', 'totals', 'trafficSource']\n",
        "    \n",
        "    df = pd.read_csv(csv_path, \n",
        "                     converters={column: json.loads for column in JSON_COLUMNS}, \n",
        "                     dtype={'fullVisitorId': 'str'}, \n",
        "                     nrows=nrows)\n",
        "    \n",
        "    for column in JSON_COLUMNS:\n",
        "        column_as_df = json_normalize(df[column])\n",
        "        column_as_df.columns = [f\"{column}.{subcolumn}\" for subcolumn in column_as_df.columns]\n",
        "        df = df.drop(column, axis=1).merge(column_as_df, right_index=True, left_index=True)\n",
        "    return df"
      ],
      "execution_count": null,
      "outputs": []
    },
    {
      "cell_type": "code",
      "metadata": {
        "id": "2B9dC8bkZ_R5"
      },
      "source": [
        "df_train = load_df()"
      ],
      "execution_count": null,
      "outputs": []
    },
    {
      "cell_type": "code",
      "metadata": {
        "id": "sicTraayqv_J"
      },
      "source": [
        "#df_train.to_csv('df_train.csv')"
      ],
      "execution_count": null,
      "outputs": []
    },
    {
      "cell_type": "code",
      "metadata": {
        "id": "k270uCERZ_Um",
        "colab": {
          "base_uri": "https://localhost:8080/",
          "height": 309
        },
        "outputId": "656a5c2a-3d8f-4aba-ded8-df8018ad2848"
      },
      "source": [
        "df_train.head()"
      ],
      "execution_count": null,
      "outputs": [
        {
          "output_type": "execute_result",
          "data": {
            "text/html": [
              "<div>\n",
              "<style scoped>\n",
              "    .dataframe tbody tr th:only-of-type {\n",
              "        vertical-align: middle;\n",
              "    }\n",
              "\n",
              "    .dataframe tbody tr th {\n",
              "        vertical-align: top;\n",
              "    }\n",
              "\n",
              "    .dataframe thead th {\n",
              "        text-align: right;\n",
              "    }\n",
              "</style>\n",
              "<table border=\"1\" class=\"dataframe\">\n",
              "  <thead>\n",
              "    <tr style=\"text-align: right;\">\n",
              "      <th></th>\n",
              "      <th>channelGrouping</th>\n",
              "      <th>date</th>\n",
              "      <th>fullVisitorId</th>\n",
              "      <th>sessionId</th>\n",
              "      <th>socialEngagementType</th>\n",
              "      <th>visitId</th>\n",
              "      <th>visitNumber</th>\n",
              "      <th>visitStartTime</th>\n",
              "      <th>device.browser</th>\n",
              "      <th>device.browserVersion</th>\n",
              "      <th>device.browserSize</th>\n",
              "      <th>device.operatingSystem</th>\n",
              "      <th>device.operatingSystemVersion</th>\n",
              "      <th>device.isMobile</th>\n",
              "      <th>device.mobileDeviceBranding</th>\n",
              "      <th>device.mobileDeviceModel</th>\n",
              "      <th>device.mobileInputSelector</th>\n",
              "      <th>device.mobileDeviceInfo</th>\n",
              "      <th>device.mobileDeviceMarketingName</th>\n",
              "      <th>device.flashVersion</th>\n",
              "      <th>device.language</th>\n",
              "      <th>device.screenColors</th>\n",
              "      <th>device.screenResolution</th>\n",
              "      <th>device.deviceCategory</th>\n",
              "      <th>geoNetwork.continent</th>\n",
              "      <th>geoNetwork.subContinent</th>\n",
              "      <th>geoNetwork.country</th>\n",
              "      <th>geoNetwork.region</th>\n",
              "      <th>geoNetwork.metro</th>\n",
              "      <th>geoNetwork.city</th>\n",
              "      <th>geoNetwork.cityId</th>\n",
              "      <th>geoNetwork.networkDomain</th>\n",
              "      <th>geoNetwork.latitude</th>\n",
              "      <th>geoNetwork.longitude</th>\n",
              "      <th>geoNetwork.networkLocation</th>\n",
              "      <th>totals.visits</th>\n",
              "      <th>totals.hits</th>\n",
              "      <th>totals.pageviews</th>\n",
              "      <th>totals.bounces</th>\n",
              "      <th>totals.newVisits</th>\n",
              "      <th>totals.transactionRevenue</th>\n",
              "      <th>trafficSource.campaign</th>\n",
              "      <th>trafficSource.source</th>\n",
              "      <th>trafficSource.medium</th>\n",
              "      <th>trafficSource.keyword</th>\n",
              "      <th>trafficSource.adwordsClickInfo.criteriaParameters</th>\n",
              "      <th>trafficSource.isTrueDirect</th>\n",
              "      <th>trafficSource.referralPath</th>\n",
              "      <th>trafficSource.adwordsClickInfo.page</th>\n",
              "      <th>trafficSource.adwordsClickInfo.slot</th>\n",
              "      <th>trafficSource.adwordsClickInfo.gclId</th>\n",
              "      <th>trafficSource.adwordsClickInfo.adNetworkType</th>\n",
              "      <th>trafficSource.adwordsClickInfo.isVideoAd</th>\n",
              "      <th>trafficSource.adContent</th>\n",
              "      <th>trafficSource.campaignCode</th>\n",
              "    </tr>\n",
              "  </thead>\n",
              "  <tbody>\n",
              "    <tr>\n",
              "      <th>0</th>\n",
              "      <td>Organic Search</td>\n",
              "      <td>20160902</td>\n",
              "      <td>1131660440785968503</td>\n",
              "      <td>1131660440785968503_1472830385</td>\n",
              "      <td>Not Socially Engaged</td>\n",
              "      <td>1472830385</td>\n",
              "      <td>1</td>\n",
              "      <td>1472830385</td>\n",
              "      <td>Chrome</td>\n",
              "      <td>not available in demo dataset</td>\n",
              "      <td>not available in demo dataset</td>\n",
              "      <td>Windows</td>\n",
              "      <td>not available in demo dataset</td>\n",
              "      <td>False</td>\n",
              "      <td>not available in demo dataset</td>\n",
              "      <td>not available in demo dataset</td>\n",
              "      <td>not available in demo dataset</td>\n",
              "      <td>not available in demo dataset</td>\n",
              "      <td>not available in demo dataset</td>\n",
              "      <td>not available in demo dataset</td>\n",
              "      <td>not available in demo dataset</td>\n",
              "      <td>not available in demo dataset</td>\n",
              "      <td>not available in demo dataset</td>\n",
              "      <td>desktop</td>\n",
              "      <td>Asia</td>\n",
              "      <td>Western Asia</td>\n",
              "      <td>Turkey</td>\n",
              "      <td>Izmir</td>\n",
              "      <td>(not set)</td>\n",
              "      <td>Izmir</td>\n",
              "      <td>not available in demo dataset</td>\n",
              "      <td>ttnet.com.tr</td>\n",
              "      <td>not available in demo dataset</td>\n",
              "      <td>not available in demo dataset</td>\n",
              "      <td>not available in demo dataset</td>\n",
              "      <td>1</td>\n",
              "      <td>1</td>\n",
              "      <td>1</td>\n",
              "      <td>1</td>\n",
              "      <td>1</td>\n",
              "      <td>NaN</td>\n",
              "      <td>(not set)</td>\n",
              "      <td>google</td>\n",
              "      <td>organic</td>\n",
              "      <td>(not provided)</td>\n",
              "      <td>not available in demo dataset</td>\n",
              "      <td>NaN</td>\n",
              "      <td>NaN</td>\n",
              "      <td>NaN</td>\n",
              "      <td>NaN</td>\n",
              "      <td>NaN</td>\n",
              "      <td>NaN</td>\n",
              "      <td>NaN</td>\n",
              "      <td>NaN</td>\n",
              "      <td>NaN</td>\n",
              "    </tr>\n",
              "    <tr>\n",
              "      <th>1</th>\n",
              "      <td>Organic Search</td>\n",
              "      <td>20160902</td>\n",
              "      <td>377306020877927890</td>\n",
              "      <td>377306020877927890_1472880147</td>\n",
              "      <td>Not Socially Engaged</td>\n",
              "      <td>1472880147</td>\n",
              "      <td>1</td>\n",
              "      <td>1472880147</td>\n",
              "      <td>Firefox</td>\n",
              "      <td>not available in demo dataset</td>\n",
              "      <td>not available in demo dataset</td>\n",
              "      <td>Macintosh</td>\n",
              "      <td>not available in demo dataset</td>\n",
              "      <td>False</td>\n",
              "      <td>not available in demo dataset</td>\n",
              "      <td>not available in demo dataset</td>\n",
              "      <td>not available in demo dataset</td>\n",
              "      <td>not available in demo dataset</td>\n",
              "      <td>not available in demo dataset</td>\n",
              "      <td>not available in demo dataset</td>\n",
              "      <td>not available in demo dataset</td>\n",
              "      <td>not available in demo dataset</td>\n",
              "      <td>not available in demo dataset</td>\n",
              "      <td>desktop</td>\n",
              "      <td>Oceania</td>\n",
              "      <td>Australasia</td>\n",
              "      <td>Australia</td>\n",
              "      <td>not available in demo dataset</td>\n",
              "      <td>not available in demo dataset</td>\n",
              "      <td>not available in demo dataset</td>\n",
              "      <td>not available in demo dataset</td>\n",
              "      <td>dodo.net.au</td>\n",
              "      <td>not available in demo dataset</td>\n",
              "      <td>not available in demo dataset</td>\n",
              "      <td>not available in demo dataset</td>\n",
              "      <td>1</td>\n",
              "      <td>1</td>\n",
              "      <td>1</td>\n",
              "      <td>1</td>\n",
              "      <td>1</td>\n",
              "      <td>NaN</td>\n",
              "      <td>(not set)</td>\n",
              "      <td>google</td>\n",
              "      <td>organic</td>\n",
              "      <td>(not provided)</td>\n",
              "      <td>not available in demo dataset</td>\n",
              "      <td>NaN</td>\n",
              "      <td>NaN</td>\n",
              "      <td>NaN</td>\n",
              "      <td>NaN</td>\n",
              "      <td>NaN</td>\n",
              "      <td>NaN</td>\n",
              "      <td>NaN</td>\n",
              "      <td>NaN</td>\n",
              "      <td>NaN</td>\n",
              "    </tr>\n",
              "    <tr>\n",
              "      <th>2</th>\n",
              "      <td>Organic Search</td>\n",
              "      <td>20160902</td>\n",
              "      <td>3895546263509774583</td>\n",
              "      <td>3895546263509774583_1472865386</td>\n",
              "      <td>Not Socially Engaged</td>\n",
              "      <td>1472865386</td>\n",
              "      <td>1</td>\n",
              "      <td>1472865386</td>\n",
              "      <td>Chrome</td>\n",
              "      <td>not available in demo dataset</td>\n",
              "      <td>not available in demo dataset</td>\n",
              "      <td>Windows</td>\n",
              "      <td>not available in demo dataset</td>\n",
              "      <td>False</td>\n",
              "      <td>not available in demo dataset</td>\n",
              "      <td>not available in demo dataset</td>\n",
              "      <td>not available in demo dataset</td>\n",
              "      <td>not available in demo dataset</td>\n",
              "      <td>not available in demo dataset</td>\n",
              "      <td>not available in demo dataset</td>\n",
              "      <td>not available in demo dataset</td>\n",
              "      <td>not available in demo dataset</td>\n",
              "      <td>not available in demo dataset</td>\n",
              "      <td>desktop</td>\n",
              "      <td>Europe</td>\n",
              "      <td>Southern Europe</td>\n",
              "      <td>Spain</td>\n",
              "      <td>Community of Madrid</td>\n",
              "      <td>(not set)</td>\n",
              "      <td>Madrid</td>\n",
              "      <td>not available in demo dataset</td>\n",
              "      <td>unknown.unknown</td>\n",
              "      <td>not available in demo dataset</td>\n",
              "      <td>not available in demo dataset</td>\n",
              "      <td>not available in demo dataset</td>\n",
              "      <td>1</td>\n",
              "      <td>1</td>\n",
              "      <td>1</td>\n",
              "      <td>1</td>\n",
              "      <td>1</td>\n",
              "      <td>NaN</td>\n",
              "      <td>(not set)</td>\n",
              "      <td>google</td>\n",
              "      <td>organic</td>\n",
              "      <td>(not provided)</td>\n",
              "      <td>not available in demo dataset</td>\n",
              "      <td>NaN</td>\n",
              "      <td>NaN</td>\n",
              "      <td>NaN</td>\n",
              "      <td>NaN</td>\n",
              "      <td>NaN</td>\n",
              "      <td>NaN</td>\n",
              "      <td>NaN</td>\n",
              "      <td>NaN</td>\n",
              "      <td>NaN</td>\n",
              "    </tr>\n",
              "    <tr>\n",
              "      <th>3</th>\n",
              "      <td>Organic Search</td>\n",
              "      <td>20160902</td>\n",
              "      <td>4763447161404445595</td>\n",
              "      <td>4763447161404445595_1472881213</td>\n",
              "      <td>Not Socially Engaged</td>\n",
              "      <td>1472881213</td>\n",
              "      <td>1</td>\n",
              "      <td>1472881213</td>\n",
              "      <td>UC Browser</td>\n",
              "      <td>not available in demo dataset</td>\n",
              "      <td>not available in demo dataset</td>\n",
              "      <td>Linux</td>\n",
              "      <td>not available in demo dataset</td>\n",
              "      <td>False</td>\n",
              "      <td>not available in demo dataset</td>\n",
              "      <td>not available in demo dataset</td>\n",
              "      <td>not available in demo dataset</td>\n",
              "      <td>not available in demo dataset</td>\n",
              "      <td>not available in demo dataset</td>\n",
              "      <td>not available in demo dataset</td>\n",
              "      <td>not available in demo dataset</td>\n",
              "      <td>not available in demo dataset</td>\n",
              "      <td>not available in demo dataset</td>\n",
              "      <td>desktop</td>\n",
              "      <td>Asia</td>\n",
              "      <td>Southeast Asia</td>\n",
              "      <td>Indonesia</td>\n",
              "      <td>not available in demo dataset</td>\n",
              "      <td>not available in demo dataset</td>\n",
              "      <td>not available in demo dataset</td>\n",
              "      <td>not available in demo dataset</td>\n",
              "      <td>unknown.unknown</td>\n",
              "      <td>not available in demo dataset</td>\n",
              "      <td>not available in demo dataset</td>\n",
              "      <td>not available in demo dataset</td>\n",
              "      <td>1</td>\n",
              "      <td>1</td>\n",
              "      <td>1</td>\n",
              "      <td>1</td>\n",
              "      <td>1</td>\n",
              "      <td>NaN</td>\n",
              "      <td>(not set)</td>\n",
              "      <td>google</td>\n",
              "      <td>organic</td>\n",
              "      <td>google + online</td>\n",
              "      <td>not available in demo dataset</td>\n",
              "      <td>NaN</td>\n",
              "      <td>NaN</td>\n",
              "      <td>NaN</td>\n",
              "      <td>NaN</td>\n",
              "      <td>NaN</td>\n",
              "      <td>NaN</td>\n",
              "      <td>NaN</td>\n",
              "      <td>NaN</td>\n",
              "      <td>NaN</td>\n",
              "    </tr>\n",
              "    <tr>\n",
              "      <th>4</th>\n",
              "      <td>Organic Search</td>\n",
              "      <td>20160902</td>\n",
              "      <td>27294437909732085</td>\n",
              "      <td>27294437909732085_1472822600</td>\n",
              "      <td>Not Socially Engaged</td>\n",
              "      <td>1472822600</td>\n",
              "      <td>2</td>\n",
              "      <td>1472822600</td>\n",
              "      <td>Chrome</td>\n",
              "      <td>not available in demo dataset</td>\n",
              "      <td>not available in demo dataset</td>\n",
              "      <td>Android</td>\n",
              "      <td>not available in demo dataset</td>\n",
              "      <td>True</td>\n",
              "      <td>not available in demo dataset</td>\n",
              "      <td>not available in demo dataset</td>\n",
              "      <td>not available in demo dataset</td>\n",
              "      <td>not available in demo dataset</td>\n",
              "      <td>not available in demo dataset</td>\n",
              "      <td>not available in demo dataset</td>\n",
              "      <td>not available in demo dataset</td>\n",
              "      <td>not available in demo dataset</td>\n",
              "      <td>not available in demo dataset</td>\n",
              "      <td>mobile</td>\n",
              "      <td>Europe</td>\n",
              "      <td>Northern Europe</td>\n",
              "      <td>United Kingdom</td>\n",
              "      <td>not available in demo dataset</td>\n",
              "      <td>not available in demo dataset</td>\n",
              "      <td>not available in demo dataset</td>\n",
              "      <td>not available in demo dataset</td>\n",
              "      <td>unknown.unknown</td>\n",
              "      <td>not available in demo dataset</td>\n",
              "      <td>not available in demo dataset</td>\n",
              "      <td>not available in demo dataset</td>\n",
              "      <td>1</td>\n",
              "      <td>1</td>\n",
              "      <td>1</td>\n",
              "      <td>1</td>\n",
              "      <td>NaN</td>\n",
              "      <td>NaN</td>\n",
              "      <td>(not set)</td>\n",
              "      <td>google</td>\n",
              "      <td>organic</td>\n",
              "      <td>(not provided)</td>\n",
              "      <td>not available in demo dataset</td>\n",
              "      <td>True</td>\n",
              "      <td>NaN</td>\n",
              "      <td>NaN</td>\n",
              "      <td>NaN</td>\n",
              "      <td>NaN</td>\n",
              "      <td>NaN</td>\n",
              "      <td>NaN</td>\n",
              "      <td>NaN</td>\n",
              "      <td>NaN</td>\n",
              "    </tr>\n",
              "  </tbody>\n",
              "</table>\n",
              "</div>"
            ],
            "text/plain": [
              "  channelGrouping      date  ... trafficSource.adContent trafficSource.campaignCode\n",
              "0  Organic Search  20160902  ...                     NaN                        NaN\n",
              "1  Organic Search  20160902  ...                     NaN                        NaN\n",
              "2  Organic Search  20160902  ...                     NaN                        NaN\n",
              "3  Organic Search  20160902  ...                     NaN                        NaN\n",
              "4  Organic Search  20160902  ...                     NaN                        NaN\n",
              "\n",
              "[5 rows x 55 columns]"
            ]
          },
          "metadata": {
            "tags": []
          },
          "execution_count": 53
        }
      ]
    },
    {
      "cell_type": "code",
      "metadata": {
        "id": "fEkJXvGaZ_XO"
      },
      "source": [
        "df_train.info()"
      ],
      "execution_count": null,
      "outputs": []
    },
    {
      "cell_type": "code",
      "metadata": {
        "id": "OzbivpIsj3Rx"
      },
      "source": [
        "print(df_train.shape)"
      ],
      "execution_count": null,
      "outputs": []
    },
    {
      "cell_type": "markdown",
      "metadata": {
        "id": "6ItZhYb8j9Nz"
      },
      "source": [
        "Missing Value"
      ]
    },
    {
      "cell_type": "code",
      "metadata": {
        "id": "Cx7Ezibmj_77"
      },
      "source": [
        "percentage_na = df_train.isna().sum()/len(df_train)\n",
        "df_train.loc[:,percentage_na > 0.7] #columns with missing value over 70%"
      ],
      "execution_count": null,
      "outputs": []
    },
    {
      "cell_type": "markdown",
      "metadata": {
        "id": "m7KYu8uV71C8"
      },
      "source": [
        "Unique Value"
      ]
    },
    {
      "cell_type": "code",
      "metadata": {
        "id": "70Buowao75gH"
      },
      "source": [
        "col_unique = []\n",
        "for col in df_train.columns:\n",
        "  if len(df_train[col].unique()) == 1:\n",
        "    col_unique.append(col)\n",
        "\n",
        "unique_val = [df_train[col].unique() for col in col_unique]\n",
        "print(\"Number of attributes that only have one unique value is:\", len(col_unique))"
      ],
      "execution_count": null,
      "outputs": []
    },
    {
      "cell_type": "code",
      "metadata": {
        "id": "_bUZ5sE99QHW"
      },
      "source": [
        "unique_val_df = pd.DataFrame(list(zip(col_unique, unique_val)), columns=['attribute name','unique value'])\n",
        "unique_val_df"
      ],
      "execution_count": null,
      "outputs": []
    },
    {
      "cell_type": "markdown",
      "metadata": {
        "id": "T7DoMe1d0N7P"
      },
      "source": [
        "Target Variable"
      ]
    },
    {
      "cell_type": "code",
      "metadata": {
        "id": "kVKimpmyoRL7"
      },
      "source": [
        "#Target variable (ln(sum of all transactions per user +1))\n",
        "df_train['totals.transactionRevenue'] = df_train['totals.transactionRevenue'].astype(float)\n",
        "target = np.log1p(df_train.groupby('fullVisitorId')['totals.transactionRevenue'].sum())"
      ],
      "execution_count": null,
      "outputs": []
    },
    {
      "cell_type": "code",
      "metadata": {
        "id": "StQXD0BXy1aT",
        "colab": {
          "base_uri": "https://localhost:8080/"
        },
        "outputId": "1c36c135-6419-49c5-97fb-889f858c079a"
      },
      "source": [
        "target.describe()"
      ],
      "execution_count": null,
      "outputs": [
        {
          "output_type": "execute_result",
          "data": {
            "text/plain": [
              "count    714167.000000\n",
              "mean          0.249542\n",
              "std           2.099521\n",
              "min           0.000000\n",
              "25%           0.000000\n",
              "50%           0.000000\n",
              "75%           0.000000\n",
              "max          25.068543\n",
              "Name: totals.transactionRevenue, dtype: float64"
            ]
          },
          "metadata": {
            "tags": []
          },
          "execution_count": 55
        }
      ]
    },
    {
      "cell_type": "code",
      "metadata": {
        "id": "mzpOBMGFuIzC",
        "colab": {
          "base_uri": "https://localhost:8080/",
          "height": 1000
        },
        "outputId": "d9574919-2bb6-4009-8dcb-2051b144ba8f"
      },
      "source": [
        "plt.hist(x=target, bins='auto', color='#0504aa',\n",
        "                            alpha=0.5, rwidth=0.85)\n",
        "plt.xlabel('Log of Transaction Revenue')\n",
        "plt.ylabel('Frequency')\n",
        "plt.title('Histogram for Log of Transaction Revenue ')"
      ],
      "execution_count": null,
      "outputs": [
        {
          "output_type": "execute_result",
          "data": {
            "text/plain": [
              "Text(0.5, 1.0, 'Histogram for Log of Transaction Revenue ')"
            ]
          },
          "metadata": {
            "tags": []
          },
          "execution_count": 56
        },
        {
          "output_type": "display_data",
          "data": {
            "image/png": "[encoded data removed]",
            "text/plain": [
              "<Figure size 1440x1440 with 1 Axes>"
            ]
          },
          "metadata": {
            "tags": [],
            "needs_background": "light"
          }
        }
      ]
    },
    {
      "cell_type": "code",
      "metadata": {
        "id": "GwmZRufey065",
        "colab": {
          "base_uri": "https://localhost:8080/"
        },
        "outputId": "d061f790-99d3-4c28-c70d-91bec9f370ea"
      },
      "source": [
        "target.value_counts()\n",
        "print('Percentage of users that would not make a transaction is:',round(target[target == 0 ].count()/len(target)*100,2),'%')\n",
        "print('Percentage of users that would make a transaction is:',round(target[target > 0 ].count()/len(target)*100,2),'%')"
      ],
      "execution_count": null,
      "outputs": [
        {
          "output_type": "stream",
          "text": [
            "Percentage of users that would not make a transaction is: 98.6 %\n",
            "Percentage of users that would make a transaction is: 1.4 %\n"
          ],
          "name": "stdout"
        }
      ]
    },
    {
      "cell_type": "code",
      "metadata": {
        "id": "WPMs_xmT6V1o",
        "colab": {
          "base_uri": "https://localhost:8080/",
          "height": 1000
        },
        "outputId": "97f464a8-ff12-4586-afb6-f05fb8c7cba8"
      },
      "source": [
        "ax = sns.distplot(target[target>0], bins=40, kde=True)\n",
        "ax.set_xlabel('Log of Transaction Revenue', ) \n",
        "ax.set_ylabel('Distribuition') \n",
        "ax.set_title(\"Distribuition of Target Variable that is not 0\") "
      ],
      "execution_count": null,
      "outputs": [
        {
          "output_type": "execute_result",
          "data": {
            "text/plain": [
              "Text(0.5, 1.0, 'Distribuition of Target Variable that is not 0')"
            ]
          },
          "metadata": {
            "tags": []
          },
          "execution_count": 58
        },
        {
          "output_type": "display_data",
          "data": {
            "image/png": "[encoded data removed]",
            "text/plain": [
              "<Figure size 1440x1440 with 1 Axes>"
            ]
          },
          "metadata": {
            "tags": [],
            "needs_background": "light"
          }
        }
      ]
    },
    {
      "cell_type": "code",
      "metadata": {
        "id": "OtMrQBmfhSY5"
      },
      "source": [
        "#Sijia "
      ],
      "execution_count": null,
      "outputs": []
    },
    {
      "cell_type": "code",
      "metadata": {
        "id": "X5OSKQ7LR0LJ",
        "colab": {
          "base_uri": "https://localhost:8080/",
          "height": 1000
        },
        "outputId": "253d65a8-998f-461b-856d-0ec6d75274aa"
      },
      "source": [
        "#continent vs log_revenue\n",
        "log_revenue=np.log1p(df_train['totals.transactionRevenue'] )\n",
        "df_train['log_revenue']=log_revenue\n",
        "sns.barplot(x='geoNetwork.continent', y='log_revenue', data=df_train).set_title('Average log_revenue from Different Countinents')"
      ],
      "execution_count": null,
      "outputs": [
        {
          "output_type": "execute_result",
          "data": {
            "text/plain": [
              "Text(0.5, 1.0, 'Average log_revenue from Different Countinents')"
            ]
          },
          "metadata": {
            "tags": []
          },
          "execution_count": 59
        },
        {
          "output_type": "display_data",
          "data": {
            "image/png": "[encoded data removed]",
            "text/plain": [
              "<Figure size 1440x1440 with 1 Axes>"
            ]
          },
          "metadata": {
            "tags": [],
            "needs_background": "light"
          }
        }
      ]
    },
    {
      "cell_type": "code",
      "metadata": {
        "id": "Gh0EEzfQqAvJ",
        "colab": {
          "base_uri": "https://localhost:8080/"
        },
        "outputId": "8c1fd23f-226c-438c-94b5-cd8a0d634f51"
      },
      "source": [
        "df_train.info()"
      ],
      "execution_count": null,
      "outputs": [
        {
          "output_type": "stream",
          "text": [
            "<class 'pandas.core.frame.DataFrame'>\n",
            "RangeIndex: 903653 entries, 0 to 903652\n",
            "Data columns (total 56 columns):\n",
            " #   Column                                             Non-Null Count   Dtype  \n",
            "---  ------                                             --------------   -----  \n",
            " 0   channelGrouping                                    903653 non-null  object \n",
            " 1   date                                               903653 non-null  int64  \n",
            " 2   fullVisitorId                                      903653 non-null  object \n",
            " 3   sessionId                                          903653 non-null  object \n",
            " 4   socialEngagementType                               903653 non-null  object \n",
            " 5   visitId                                            903653 non-null  int64  \n",
            " 6   visitNumber                                        903653 non-null  int64  \n",
            " 7   visitStartTime                                     903653 non-null  int64  \n",
            " 8   device.browser                                     903653 non-null  object \n",
            " 9   device.browserVersion                              903653 non-null  object \n",
            " 10  device.browserSize                                 903653 non-null  object \n",
            " 11  device.operatingSystem                             903653 non-null  object \n",
            " 12  device.operatingSystemVersion                      903653 non-null  object \n",
            " 13  device.isMobile                                    903653 non-null  bool   \n",
            " 14  device.mobileDeviceBranding                        903653 non-null  object \n",
            " 15  device.mobileDeviceModel                           903653 non-null  object \n",
            " 16  device.mobileInputSelector                         903653 non-null  object \n",
            " 17  device.mobileDeviceInfo                            903653 non-null  object \n",
            " 18  device.mobileDeviceMarketingName                   903653 non-null  object \n",
            " 19  device.flashVersion                                903653 non-null  object \n",
            " 20  device.language                                    903653 non-null  object \n",
            " 21  device.screenColors                                903653 non-null  object \n",
            " 22  device.screenResolution                            903653 non-null  object \n",
            " 23  device.deviceCategory                              903653 non-null  object \n",
            " 24  geoNetwork.continent                               903653 non-null  object \n",
            " 25  geoNetwork.subContinent                            903653 non-null  object \n",
            " 26  geoNetwork.country                                 903653 non-null  object \n",
            " 27  geoNetwork.region                                  903653 non-null  object \n",
            " 28  geoNetwork.metro                                   903653 non-null  object \n",
            " 29  geoNetwork.city                                    903653 non-null  object \n",
            " 30  geoNetwork.cityId                                  903653 non-null  object \n",
            " 31  geoNetwork.networkDomain                           903653 non-null  object \n",
            " 32  geoNetwork.latitude                                903653 non-null  object \n",
            " 33  geoNetwork.longitude                               903653 non-null  object \n",
            " 34  geoNetwork.networkLocation                         903653 non-null  object \n",
            " 35  totals.visits                                      903653 non-null  object \n",
            " 36  totals.hits                                        903653 non-null  object \n",
            " 37  totals.pageviews                                   903553 non-null  object \n",
            " 38  totals.bounces                                     450630 non-null  object \n",
            " 39  totals.newVisits                                   703060 non-null  object \n",
            " 40  totals.transactionRevenue                          11515 non-null   float64\n",
            " 41  trafficSource.campaign                             903653 non-null  object \n",
            " 42  trafficSource.source                               903653 non-null  object \n",
            " 43  trafficSource.medium                               903653 non-null  object \n",
            " 44  trafficSource.keyword                              400724 non-null  object \n",
            " 45  trafficSource.adwordsClickInfo.criteriaParameters  903653 non-null  object \n",
            " 46  trafficSource.isTrueDirect                         274005 non-null  object \n",
            " 47  trafficSource.referralPath                         330941 non-null  object \n",
            " 48  trafficSource.adwordsClickInfo.page                21460 non-null   object \n",
            " 49  trafficSource.adwordsClickInfo.slot                21460 non-null   object \n",
            " 50  trafficSource.adwordsClickInfo.gclId               21561 non-null   object \n",
            " 51  trafficSource.adwordsClickInfo.adNetworkType       21460 non-null   object \n",
            " 52  trafficSource.adwordsClickInfo.isVideoAd           21460 non-null   object \n",
            " 53  trafficSource.adContent                            10946 non-null   object \n",
            " 54  trafficSource.campaignCode                         1 non-null       object \n",
            " 55  log_revenue                                        11515 non-null   float64\n",
            "dtypes: bool(1), float64(2), int64(4), object(49)\n",
            "memory usage: 380.0+ MB\n"
          ],
          "name": "stdout"
        }
      ]
    },
    {
      "cell_type": "code",
      "metadata": {
        "id": "sl_4uIi7qEF8",
        "colab": {
          "base_uri": "https://localhost:8080/",
          "height": 796
        },
        "outputId": "8e6194b8-4147-46fa-d406-977047ba9b77"
      },
      "source": [
        "#device\n",
        "lr_device=pd.pivot_table(df_train, values='log_revenue', index=['device.deviceCategory', 'device.operatingSystem'], aggfunc=np.sum)\n",
        "cm = sns.light_palette(\"green\", as_cmap=True)\n",
        "lr_device.style.background_gradient(cmap=cm)"
      ],
      "execution_count": null,
      "outputs": [
        {
          "output_type": "execute_result",
          "data": {
            "text/html": [
              "<style  type=\"text/css\" >\n",
              "#T_bf596138_c6fd_11eb_a2b1_0242ac1c0002row0_col0,#T_bf596138_c6fd_11eb_a2b1_0242ac1c0002row1_col0,#T_bf596138_c6fd_11eb_a2b1_0242ac1c0002row3_col0,#T_bf596138_c6fd_11eb_a2b1_0242ac1c0002row6_col0,#T_bf596138_c6fd_11eb_a2b1_0242ac1c0002row7_col0,#T_bf596138_c6fd_11eb_a2b1_0242ac1c0002row8_col0,#T_bf596138_c6fd_11eb_a2b1_0242ac1c0002row9_col0,#T_bf596138_c6fd_11eb_a2b1_0242ac1c0002row11_col0,#T_bf596138_c6fd_11eb_a2b1_0242ac1c0002row12_col0,#T_bf596138_c6fd_11eb_a2b1_0242ac1c0002row13_col0,#T_bf596138_c6fd_11eb_a2b1_0242ac1c0002row15_col0,#T_bf596138_c6fd_11eb_a2b1_0242ac1c0002row16_col0,#T_bf596138_c6fd_11eb_a2b1_0242ac1c0002row17_col0,#T_bf596138_c6fd_11eb_a2b1_0242ac1c0002row18_col0,#T_bf596138_c6fd_11eb_a2b1_0242ac1c0002row19_col0,#T_bf596138_c6fd_11eb_a2b1_0242ac1c0002row20_col0,#T_bf596138_c6fd_11eb_a2b1_0242ac1c0002row21_col0,#T_bf596138_c6fd_11eb_a2b1_0242ac1c0002row22_col0,#T_bf596138_c6fd_11eb_a2b1_0242ac1c0002row23_col0,#T_bf596138_c6fd_11eb_a2b1_0242ac1c0002row24_col0,#T_bf596138_c6fd_11eb_a2b1_0242ac1c0002row25_col0,#T_bf596138_c6fd_11eb_a2b1_0242ac1c0002row27_col0,#T_bf596138_c6fd_11eb_a2b1_0242ac1c0002row29_col0,#T_bf596138_c6fd_11eb_a2b1_0242ac1c0002row30_col0,#T_bf596138_c6fd_11eb_a2b1_0242ac1c0002row31_col0,#T_bf596138_c6fd_11eb_a2b1_0242ac1c0002row32_col0,#T_bf596138_c6fd_11eb_a2b1_0242ac1c0002row33_col0{\n",
              "            background-color:  #ebf3eb;\n",
              "            color:  #000000;\n",
              "        }#T_bf596138_c6fd_11eb_a2b1_0242ac1c0002row2_col0{\n",
              "            background-color:  #c6e1c6;\n",
              "            color:  #000000;\n",
              "        }#T_bf596138_c6fd_11eb_a2b1_0242ac1c0002row4_col0{\n",
              "            background-color:  #cfe5cf;\n",
              "            color:  #000000;\n",
              "        }#T_bf596138_c6fd_11eb_a2b1_0242ac1c0002row5_col0{\n",
              "            background-color:  #008000;\n",
              "            color:  #f1f1f1;\n",
              "        }#T_bf596138_c6fd_11eb_a2b1_0242ac1c0002row10_col0{\n",
              "            background-color:  #98ca98;\n",
              "            color:  #000000;\n",
              "        }#T_bf596138_c6fd_11eb_a2b1_0242ac1c0002row14_col0,#T_bf596138_c6fd_11eb_a2b1_0242ac1c0002row26_col0{\n",
              "            background-color:  #ddecdd;\n",
              "            color:  #000000;\n",
              "        }#T_bf596138_c6fd_11eb_a2b1_0242ac1c0002row28_col0{\n",
              "            background-color:  #eaf2ea;\n",
              "            color:  #000000;\n",
              "        }#T_bf596138_c6fd_11eb_a2b1_0242ac1c0002row34_col0{\n",
              "            background-color:  #e7f1e7;\n",
              "            color:  #000000;\n",
              "        }</style><table id=\"T_bf596138_c6fd_11eb_a2b1_0242ac1c0002\" ><thead>    <tr>        <th class=\"blank\" ></th>        <th class=\"blank level0\" ></th>        <th class=\"col_heading level0 col0\" >log_revenue</th>    </tr>    <tr>        <th class=\"index_name level0\" >device.deviceCategory</th>        <th class=\"index_name level1\" >device.operatingSystem</th>        <th class=\"blank\" ></th>    </tr></thead><tbody>\n",
              "                <tr>\n",
              "                        <th id=\"T_bf596138_c6fd_11eb_a2b1_0242ac1c0002level0_row0\" class=\"row_heading level0 row0\" rowspan=13>desktop</th>\n",
              "                        <th id=\"T_bf596138_c6fd_11eb_a2b1_0242ac1c0002level1_row0\" class=\"row_heading level1 row0\" >(not set)</th>\n",
              "                        <td id=\"T_bf596138_c6fd_11eb_a2b1_0242ac1c0002row0_col0\" class=\"data row0 col0\" >0.000000</td>\n",
              "            </tr>\n",
              "            <tr>\n",
              "                                <th id=\"T_bf596138_c6fd_11eb_a2b1_0242ac1c0002level1_row1\" class=\"row_heading level1 row1\" >Android</th>\n",
              "                        <td id=\"T_bf596138_c6fd_11eb_a2b1_0242ac1c0002row1_col0\" class=\"data row1 col0\" >17.370573</td>\n",
              "            </tr>\n",
              "            <tr>\n",
              "                                <th id=\"T_bf596138_c6fd_11eb_a2b1_0242ac1c0002level1_row2\" class=\"row_heading level1 row2\" >Chrome OS</th>\n",
              "                        <td id=\"T_bf596138_c6fd_11eb_a2b1_0242ac1c0002row2_col0\" class=\"data row2 col0\" >18104.075116</td>\n",
              "            </tr>\n",
              "            <tr>\n",
              "                                <th id=\"T_bf596138_c6fd_11eb_a2b1_0242ac1c0002level1_row3\" class=\"row_heading level1 row3\" >FreeBSD</th>\n",
              "                        <td id=\"T_bf596138_c6fd_11eb_a2b1_0242ac1c0002row3_col0\" class=\"data row3 col0\" >0.000000</td>\n",
              "            </tr>\n",
              "            <tr>\n",
              "                                <th id=\"T_bf596138_c6fd_11eb_a2b1_0242ac1c0002level1_row4\" class=\"row_heading level1 row4\" >Linux</th>\n",
              "                        <td id=\"T_bf596138_c6fd_11eb_a2b1_0242ac1c0002row4_col0\" class=\"data row4 col0\" >13650.757662</td>\n",
              "            </tr>\n",
              "            <tr>\n",
              "                                <th id=\"T_bf596138_c6fd_11eb_a2b1_0242ac1c0002level1_row5\" class=\"row_heading level1 row5\" >Macintosh</th>\n",
              "                        <td id=\"T_bf596138_c6fd_11eb_a2b1_0242ac1c0002row5_col0\" class=\"data row5 col0\" >115248.854295</td>\n",
              "            </tr>\n",
              "            <tr>\n",
              "                                <th id=\"T_bf596138_c6fd_11eb_a2b1_0242ac1c0002level1_row6\" class=\"row_heading level1 row6\" >Nintendo Wii</th>\n",
              "                        <td id=\"T_bf596138_c6fd_11eb_a2b1_0242ac1c0002row6_col0\" class=\"data row6 col0\" >0.000000</td>\n",
              "            </tr>\n",
              "            <tr>\n",
              "                                <th id=\"T_bf596138_c6fd_11eb_a2b1_0242ac1c0002level1_row7\" class=\"row_heading level1 row7\" >Nintendo WiiU</th>\n",
              "                        <td id=\"T_bf596138_c6fd_11eb_a2b1_0242ac1c0002row7_col0\" class=\"data row7 col0\" >0.000000</td>\n",
              "            </tr>\n",
              "            <tr>\n",
              "                                <th id=\"T_bf596138_c6fd_11eb_a2b1_0242ac1c0002level1_row8\" class=\"row_heading level1 row8\" >OpenBSD</th>\n",
              "                        <td id=\"T_bf596138_c6fd_11eb_a2b1_0242ac1c0002row8_col0\" class=\"data row8 col0\" >0.000000</td>\n",
              "            </tr>\n",
              "            <tr>\n",
              "                                <th id=\"T_bf596138_c6fd_11eb_a2b1_0242ac1c0002level1_row9\" class=\"row_heading level1 row9\" >SunOS</th>\n",
              "                        <td id=\"T_bf596138_c6fd_11eb_a2b1_0242ac1c0002row9_col0\" class=\"data row9 col0\" >0.000000</td>\n",
              "            </tr>\n",
              "            <tr>\n",
              "                                <th id=\"T_bf596138_c6fd_11eb_a2b1_0242ac1c0002level1_row10\" class=\"row_heading level1 row10\" >Windows</th>\n",
              "                        <td id=\"T_bf596138_c6fd_11eb_a2b1_0242ac1c0002row10_col0\" class=\"data row10 col0\" >40707.083671</td>\n",
              "            </tr>\n",
              "            <tr>\n",
              "                                <th id=\"T_bf596138_c6fd_11eb_a2b1_0242ac1c0002level1_row11\" class=\"row_heading level1 row11\" >Xbox</th>\n",
              "                        <td id=\"T_bf596138_c6fd_11eb_a2b1_0242ac1c0002row11_col0\" class=\"data row11 col0\" >0.000000</td>\n",
              "            </tr>\n",
              "            <tr>\n",
              "                                <th id=\"T_bf596138_c6fd_11eb_a2b1_0242ac1c0002level1_row12\" class=\"row_heading level1 row12\" >iOS</th>\n",
              "                        <td id=\"T_bf596138_c6fd_11eb_a2b1_0242ac1c0002row12_col0\" class=\"data row12 col0\" >0.000000</td>\n",
              "            </tr>\n",
              "            <tr>\n",
              "                        <th id=\"T_bf596138_c6fd_11eb_a2b1_0242ac1c0002level0_row13\" class=\"row_heading level0 row13\" rowspan=14>mobile</th>\n",
              "                        <th id=\"T_bf596138_c6fd_11eb_a2b1_0242ac1c0002level1_row13\" class=\"row_heading level1 row13\" >(not set)</th>\n",
              "                        <td id=\"T_bf596138_c6fd_11eb_a2b1_0242ac1c0002row13_col0\" class=\"data row13 col0\" >0.000000</td>\n",
              "            </tr>\n",
              "            <tr>\n",
              "                                <th id=\"T_bf596138_c6fd_11eb_a2b1_0242ac1c0002level1_row14\" class=\"row_heading level1 row14\" >Android</th>\n",
              "                        <td id=\"T_bf596138_c6fd_11eb_a2b1_0242ac1c0002row14_col0\" class=\"data row14 col0\" >7149.333099</td>\n",
              "            </tr>\n",
              "            <tr>\n",
              "                                <th id=\"T_bf596138_c6fd_11eb_a2b1_0242ac1c0002level1_row15\" class=\"row_heading level1 row15\" >BlackBerry</th>\n",
              "                        <td id=\"T_bf596138_c6fd_11eb_a2b1_0242ac1c0002row15_col0\" class=\"data row15 col0\" >0.000000</td>\n",
              "            </tr>\n",
              "            <tr>\n",
              "                                <th id=\"T_bf596138_c6fd_11eb_a2b1_0242ac1c0002level1_row16\" class=\"row_heading level1 row16\" >Firefox OS</th>\n",
              "                        <td id=\"T_bf596138_c6fd_11eb_a2b1_0242ac1c0002row16_col0\" class=\"data row16 col0\" >0.000000</td>\n",
              "            </tr>\n",
              "            <tr>\n",
              "                                <th id=\"T_bf596138_c6fd_11eb_a2b1_0242ac1c0002level1_row17\" class=\"row_heading level1 row17\" >Linux</th>\n",
              "                        <td id=\"T_bf596138_c6fd_11eb_a2b1_0242ac1c0002row17_col0\" class=\"data row17 col0\" >14.743730</td>\n",
              "            </tr>\n",
              "            <tr>\n",
              "                                <th id=\"T_bf596138_c6fd_11eb_a2b1_0242ac1c0002level1_row18\" class=\"row_heading level1 row18\" >Macintosh</th>\n",
              "                        <td id=\"T_bf596138_c6fd_11eb_a2b1_0242ac1c0002row18_col0\" class=\"data row18 col0\" >0.000000</td>\n",
              "            </tr>\n",
              "            <tr>\n",
              "                                <th id=\"T_bf596138_c6fd_11eb_a2b1_0242ac1c0002level1_row19\" class=\"row_heading level1 row19\" >NTT DoCoMo</th>\n",
              "                        <td id=\"T_bf596138_c6fd_11eb_a2b1_0242ac1c0002row19_col0\" class=\"data row19 col0\" >0.000000</td>\n",
              "            </tr>\n",
              "            <tr>\n",
              "                                <th id=\"T_bf596138_c6fd_11eb_a2b1_0242ac1c0002level1_row20\" class=\"row_heading level1 row20\" >Nintendo 3DS</th>\n",
              "                        <td id=\"T_bf596138_c6fd_11eb_a2b1_0242ac1c0002row20_col0\" class=\"data row20 col0\" >0.000000</td>\n",
              "            </tr>\n",
              "            <tr>\n",
              "                                <th id=\"T_bf596138_c6fd_11eb_a2b1_0242ac1c0002level1_row21\" class=\"row_heading level1 row21\" >Nintendo WiiU</th>\n",
              "                        <td id=\"T_bf596138_c6fd_11eb_a2b1_0242ac1c0002row21_col0\" class=\"data row21 col0\" >0.000000</td>\n",
              "            </tr>\n",
              "            <tr>\n",
              "                                <th id=\"T_bf596138_c6fd_11eb_a2b1_0242ac1c0002level1_row22\" class=\"row_heading level1 row22\" >Nokia</th>\n",
              "                        <td id=\"T_bf596138_c6fd_11eb_a2b1_0242ac1c0002row22_col0\" class=\"data row22 col0\" >0.000000</td>\n",
              "            </tr>\n",
              "            <tr>\n",
              "                                <th id=\"T_bf596138_c6fd_11eb_a2b1_0242ac1c0002level1_row23\" class=\"row_heading level1 row23\" >Samsung</th>\n",
              "                        <td id=\"T_bf596138_c6fd_11eb_a2b1_0242ac1c0002row23_col0\" class=\"data row23 col0\" >0.000000</td>\n",
              "            </tr>\n",
              "            <tr>\n",
              "                                <th id=\"T_bf596138_c6fd_11eb_a2b1_0242ac1c0002level1_row24\" class=\"row_heading level1 row24\" >Windows</th>\n",
              "                        <td id=\"T_bf596138_c6fd_11eb_a2b1_0242ac1c0002row24_col0\" class=\"data row24 col0\" >245.106933</td>\n",
              "            </tr>\n",
              "            <tr>\n",
              "                                <th id=\"T_bf596138_c6fd_11eb_a2b1_0242ac1c0002level1_row25\" class=\"row_heading level1 row25\" >Windows Phone</th>\n",
              "                        <td id=\"T_bf596138_c6fd_11eb_a2b1_0242ac1c0002row25_col0\" class=\"data row25 col0\" >17.088875</td>\n",
              "            </tr>\n",
              "            <tr>\n",
              "                                <th id=\"T_bf596138_c6fd_11eb_a2b1_0242ac1c0002level1_row26\" class=\"row_heading level1 row26\" >iOS</th>\n",
              "                        <td id=\"T_bf596138_c6fd_11eb_a2b1_0242ac1c0002row26_col0\" class=\"data row26 col0\" >7161.114927</td>\n",
              "            </tr>\n",
              "            <tr>\n",
              "                        <th id=\"T_bf596138_c6fd_11eb_a2b1_0242ac1c0002level0_row27\" class=\"row_heading level0 row27\" rowspan=8>tablet</th>\n",
              "                        <th id=\"T_bf596138_c6fd_11eb_a2b1_0242ac1c0002level1_row27\" class=\"row_heading level1 row27\" >(not set)</th>\n",
              "                        <td id=\"T_bf596138_c6fd_11eb_a2b1_0242ac1c0002row27_col0\" class=\"data row27 col0\" >0.000000</td>\n",
              "            </tr>\n",
              "            <tr>\n",
              "                                <th id=\"T_bf596138_c6fd_11eb_a2b1_0242ac1c0002level1_row28\" class=\"row_heading level1 row28\" >Android</th>\n",
              "                        <td id=\"T_bf596138_c6fd_11eb_a2b1_0242ac1c0002row28_col0\" class=\"data row28 col0\" >898.512510</td>\n",
              "            </tr>\n",
              "            <tr>\n",
              "                                <th id=\"T_bf596138_c6fd_11eb_a2b1_0242ac1c0002level1_row29\" class=\"row_heading level1 row29\" >Firefox OS</th>\n",
              "                        <td id=\"T_bf596138_c6fd_11eb_a2b1_0242ac1c0002row29_col0\" class=\"data row29 col0\" >0.000000</td>\n",
              "            </tr>\n",
              "            <tr>\n",
              "                                <th id=\"T_bf596138_c6fd_11eb_a2b1_0242ac1c0002level1_row30\" class=\"row_heading level1 row30\" >Linux</th>\n",
              "                        <td id=\"T_bf596138_c6fd_11eb_a2b1_0242ac1c0002row30_col0\" class=\"data row30 col0\" >0.000000</td>\n",
              "            </tr>\n",
              "            <tr>\n",
              "                                <th id=\"T_bf596138_c6fd_11eb_a2b1_0242ac1c0002level1_row31\" class=\"row_heading level1 row31\" >Macintosh</th>\n",
              "                        <td id=\"T_bf596138_c6fd_11eb_a2b1_0242ac1c0002row31_col0\" class=\"data row31 col0\" >0.000000</td>\n",
              "            </tr>\n",
              "            <tr>\n",
              "                                <th id=\"T_bf596138_c6fd_11eb_a2b1_0242ac1c0002level1_row32\" class=\"row_heading level1 row32\" >Windows</th>\n",
              "                        <td id=\"T_bf596138_c6fd_11eb_a2b1_0242ac1c0002row32_col0\" class=\"data row32 col0\" >33.821489</td>\n",
              "            </tr>\n",
              "            <tr>\n",
              "                                <th id=\"T_bf596138_c6fd_11eb_a2b1_0242ac1c0002level1_row33\" class=\"row_heading level1 row33\" >Windows Phone</th>\n",
              "                        <td id=\"T_bf596138_c6fd_11eb_a2b1_0242ac1c0002row33_col0\" class=\"data row33 col0\" >0.000000</td>\n",
              "            </tr>\n",
              "            <tr>\n",
              "                                <th id=\"T_bf596138_c6fd_11eb_a2b1_0242ac1c0002level1_row34\" class=\"row_heading level1 row34\" >iOS</th>\n",
              "                        <td id=\"T_bf596138_c6fd_11eb_a2b1_0242ac1c0002row34_col0\" class=\"data row34 col0\" >1988.154038</td>\n",
              "            </tr>\n",
              "    </tbody></table>"
            ],
            "text/plain": [
              "<pandas.io.formats.style.Styler at 0x7f35d7cc9890>"
            ]
          },
          "metadata": {
            "tags": []
          },
          "execution_count": 61
        }
      ]
    },
    {
      "cell_type": "code",
      "metadata": {
        "id": "eH4y2UjpR0Ic",
        "colab": {
          "base_uri": "https://localhost:8080/",
          "height": 985
        },
        "outputId": "7fc0e624-0450-45a0-90bd-6d784837c34d"
      },
      "source": [
        "#sources\n",
        "lr_source=pd.pivot_table(df_train, values='log_revenue', index=['trafficSource.source'], aggfunc=np.mean)\n",
        "cm = sns.light_palette(\"green\", as_cmap=True)\n",
        "lr_source.style.background_gradient(cmap=cm)\n"
      ],
      "execution_count": null,
      "outputs": [
        {
          "output_type": "execute_result",
          "data": {
            "text/html": [
              "<style  type=\"text/css\" >\n",
              "#T_c2b74d2c_c6fd_11eb_a2b1_0242ac1c0002row0_col0{\n",
              "            background-color:  #3e9e3e;\n",
              "            color:  #000000;\n",
              "        }#T_c2b74d2c_c6fd_11eb_a2b1_0242ac1c0002row1_col0{\n",
              "            background-color:  #81bf81;\n",
              "            color:  #000000;\n",
              "        }#T_c2b74d2c_c6fd_11eb_a2b1_0242ac1c0002row2_col0{\n",
              "            background-color:  #ebf3eb;\n",
              "            color:  #000000;\n",
              "        }#T_c2b74d2c_c6fd_11eb_a2b1_0242ac1c0002row3_col0,#T_c2b74d2c_c6fd_11eb_a2b1_0242ac1c0002row9_col0{\n",
              "            background-color:  #1d8e1d;\n",
              "            color:  #000000;\n",
              "        }#T_c2b74d2c_c6fd_11eb_a2b1_0242ac1c0002row4_col0{\n",
              "            background-color:  #77ba77;\n",
              "            color:  #000000;\n",
              "        }#T_c2b74d2c_c6fd_11eb_a2b1_0242ac1c0002row5_col0{\n",
              "            background-color:  #4fa74f;\n",
              "            color:  #000000;\n",
              "        }#T_c2b74d2c_c6fd_11eb_a2b1_0242ac1c0002row6_col0{\n",
              "            background-color:  #40a040;\n",
              "            color:  #000000;\n",
              "        }#T_c2b74d2c_c6fd_11eb_a2b1_0242ac1c0002row7_col0{\n",
              "            background-color:  #1f8f1f;\n",
              "            color:  #000000;\n",
              "        }#T_c2b74d2c_c6fd_11eb_a2b1_0242ac1c0002row8_col0{\n",
              "            background-color:  #359a35;\n",
              "            color:  #000000;\n",
              "        }#T_c2b74d2c_c6fd_11eb_a2b1_0242ac1c0002row10_col0{\n",
              "            background-color:  #73b873;\n",
              "            color:  #000000;\n",
              "        }#T_c2b74d2c_c6fd_11eb_a2b1_0242ac1c0002row11_col0{\n",
              "            background-color:  #2e972e;\n",
              "            color:  #000000;\n",
              "        }#T_c2b74d2c_c6fd_11eb_a2b1_0242ac1c0002row12_col0{\n",
              "            background-color:  #63b163;\n",
              "            color:  #000000;\n",
              "        }#T_c2b74d2c_c6fd_11eb_a2b1_0242ac1c0002row13_col0,#T_c2b74d2c_c6fd_11eb_a2b1_0242ac1c0002row26_col0{\n",
              "            background-color:  #3a9c3a;\n",
              "            color:  #000000;\n",
              "        }#T_c2b74d2c_c6fd_11eb_a2b1_0242ac1c0002row14_col0{\n",
              "            background-color:  #369b36;\n",
              "            color:  #000000;\n",
              "        }#T_c2b74d2c_c6fd_11eb_a2b1_0242ac1c0002row15_col0{\n",
              "            background-color:  #60af60;\n",
              "            color:  #000000;\n",
              "        }#T_c2b74d2c_c6fd_11eb_a2b1_0242ac1c0002row16_col0{\n",
              "            background-color:  #6db56d;\n",
              "            color:  #000000;\n",
              "        }#T_c2b74d2c_c6fd_11eb_a2b1_0242ac1c0002row17_col0{\n",
              "            background-color:  #6bb46b;\n",
              "            color:  #000000;\n",
              "        }#T_c2b74d2c_c6fd_11eb_a2b1_0242ac1c0002row18_col0{\n",
              "            background-color:  #68b368;\n",
              "            color:  #000000;\n",
              "        }#T_c2b74d2c_c6fd_11eb_a2b1_0242ac1c0002row19_col0,#T_c2b74d2c_c6fd_11eb_a2b1_0242ac1c0002row28_col0{\n",
              "            background-color:  #7bbc7b;\n",
              "            color:  #000000;\n",
              "        }#T_c2b74d2c_c6fd_11eb_a2b1_0242ac1c0002row20_col0{\n",
              "            background-color:  #4ea64e;\n",
              "            color:  #000000;\n",
              "        }#T_c2b74d2c_c6fd_11eb_a2b1_0242ac1c0002row21_col0{\n",
              "            background-color:  #aed5ae;\n",
              "            color:  #000000;\n",
              "        }#T_c2b74d2c_c6fd_11eb_a2b1_0242ac1c0002row22_col0{\n",
              "            background-color:  #a7d2a7;\n",
              "            color:  #000000;\n",
              "        }#T_c2b74d2c_c6fd_11eb_a2b1_0242ac1c0002row23_col0,#T_c2b74d2c_c6fd_11eb_a2b1_0242ac1c0002row35_col0{\n",
              "            background-color:  #4ba54b;\n",
              "            color:  #000000;\n",
              "        }#T_c2b74d2c_c6fd_11eb_a2b1_0242ac1c0002row24_col0{\n",
              "            background-color:  #008000;\n",
              "            color:  #f1f1f1;\n",
              "        }#T_c2b74d2c_c6fd_11eb_a2b1_0242ac1c0002row25_col0{\n",
              "            background-color:  #48a348;\n",
              "            color:  #000000;\n",
              "        }#T_c2b74d2c_c6fd_11eb_a2b1_0242ac1c0002row27_col0{\n",
              "            background-color:  #5dae5d;\n",
              "            color:  #000000;\n",
              "        }#T_c2b74d2c_c6fd_11eb_a2b1_0242ac1c0002row29_col0{\n",
              "            background-color:  #7dbd7d;\n",
              "            color:  #000000;\n",
              "        }#T_c2b74d2c_c6fd_11eb_a2b1_0242ac1c0002row30_col0,#T_c2b74d2c_c6fd_11eb_a2b1_0242ac1c0002row38_col0{\n",
              "            background-color:  #5aac5a;\n",
              "            color:  #000000;\n",
              "        }#T_c2b74d2c_c6fd_11eb_a2b1_0242ac1c0002row31_col0{\n",
              "            background-color:  #67b267;\n",
              "            color:  #000000;\n",
              "        }#T_c2b74d2c_c6fd_11eb_a2b1_0242ac1c0002row32_col0{\n",
              "            background-color:  #85c185;\n",
              "            color:  #000000;\n",
              "        }#T_c2b74d2c_c6fd_11eb_a2b1_0242ac1c0002row33_col0{\n",
              "            background-color:  #deedde;\n",
              "            color:  #000000;\n",
              "        }#T_c2b74d2c_c6fd_11eb_a2b1_0242ac1c0002row34_col0{\n",
              "            background-color:  #209020;\n",
              "            color:  #000000;\n",
              "        }#T_c2b74d2c_c6fd_11eb_a2b1_0242ac1c0002row36_col0{\n",
              "            background-color:  #4ca54c;\n",
              "            color:  #000000;\n",
              "        }#T_c2b74d2c_c6fd_11eb_a2b1_0242ac1c0002row37_col0{\n",
              "            background-color:  #52a852;\n",
              "            color:  #000000;\n",
              "        }#T_c2b74d2c_c6fd_11eb_a2b1_0242ac1c0002row39_col0{\n",
              "            background-color:  #8dc58d;\n",
              "            color:  #000000;\n",
              "        }#T_c2b74d2c_c6fd_11eb_a2b1_0242ac1c0002row40_col0{\n",
              "            background-color:  #a1cfa1;\n",
              "            color:  #000000;\n",
              "        }#T_c2b74d2c_c6fd_11eb_a2b1_0242ac1c0002row41_col0{\n",
              "            background-color:  #9dcd9d;\n",
              "            color:  #000000;\n",
              "        }#T_c2b74d2c_c6fd_11eb_a2b1_0242ac1c0002row42_col0{\n",
              "            background-color:  #59ac59;\n",
              "            color:  #000000;\n",
              "        }#T_c2b74d2c_c6fd_11eb_a2b1_0242ac1c0002row43_col0{\n",
              "            background-color:  #a3d0a3;\n",
              "            color:  #000000;\n",
              "        }</style><table id=\"T_c2b74d2c_c6fd_11eb_a2b1_0242ac1c0002\" ><thead>    <tr>        <th class=\"blank level0\" ></th>        <th class=\"col_heading level0 col0\" >log_revenue</th>    </tr>    <tr>        <th class=\"index_name level0\" >trafficSource.source</th>        <th class=\"blank\" ></th>    </tr></thead><tbody>\n",
              "                <tr>\n",
              "                        <th id=\"T_c2b74d2c_c6fd_11eb_a2b1_0242ac1c0002level0_row0\" class=\"row_heading level0 row0\" >(direct)</th>\n",
              "                        <td id=\"T_c2b74d2c_c6fd_11eb_a2b1_0242ac1c0002row0_col0\" class=\"data row0 col0\" >18.033891</td>\n",
              "            </tr>\n",
              "            <tr>\n",
              "                        <th id=\"T_c2b74d2c_c6fd_11eb_a2b1_0242ac1c0002level0_row1\" class=\"row_heading level0 row1\" >Partners</th>\n",
              "                        <td id=\"T_c2b74d2c_c6fd_11eb_a2b1_0242ac1c0002row1_col0\" class=\"data row1 col0\" >17.141930</td>\n",
              "            </tr>\n",
              "            <tr>\n",
              "                        <th id=\"T_c2b74d2c_c6fd_11eb_a2b1_0242ac1c0002level0_row2\" class=\"row_heading level0 row2\" >ask</th>\n",
              "                        <td id=\"T_c2b74d2c_c6fd_11eb_a2b1_0242ac1c0002row2_col0\" class=\"data row2 col0\" >15.713248</td>\n",
              "            </tr>\n",
              "            <tr>\n",
              "                        <th id=\"T_c2b74d2c_c6fd_11eb_a2b1_0242ac1c0002level0_row3\" class=\"row_heading level0 row3\" >basecamp.com</th>\n",
              "                        <td id=\"T_c2b74d2c_c6fd_11eb_a2b1_0242ac1c0002row3_col0\" class=\"data row3 col0\" >18.477061</td>\n",
              "            </tr>\n",
              "            <tr>\n",
              "                        <th id=\"T_c2b74d2c_c6fd_11eb_a2b1_0242ac1c0002level0_row4\" class=\"row_heading level0 row4\" >bing</th>\n",
              "                        <td id=\"T_c2b74d2c_c6fd_11eb_a2b1_0242ac1c0002row4_col0\" class=\"data row4 col0\" >17.279366</td>\n",
              "            </tr>\n",
              "            <tr>\n",
              "                        <th id=\"T_c2b74d2c_c6fd_11eb_a2b1_0242ac1c0002level0_row5\" class=\"row_heading level0 row5\" >calendar.google.com</th>\n",
              "                        <td id=\"T_c2b74d2c_c6fd_11eb_a2b1_0242ac1c0002row5_col0\" class=\"data row5 col0\" >17.808929</td>\n",
              "            </tr>\n",
              "            <tr>\n",
              "                        <th id=\"T_c2b74d2c_c6fd_11eb_a2b1_0242ac1c0002level0_row6\" class=\"row_heading level0 row6\" >chat.google.com</th>\n",
              "                        <td id=\"T_c2b74d2c_c6fd_11eb_a2b1_0242ac1c0002row6_col0\" class=\"data row6 col0\" >18.005620</td>\n",
              "            </tr>\n",
              "            <tr>\n",
              "                        <th id=\"T_c2b74d2c_c6fd_11eb_a2b1_0242ac1c0002level0_row7\" class=\"row_heading level0 row7\" >connect.googleforwork.com</th>\n",
              "                        <td id=\"T_c2b74d2c_c6fd_11eb_a2b1_0242ac1c0002row7_col0\" class=\"data row7 col0\" >18.447529</td>\n",
              "            </tr>\n",
              "            <tr>\n",
              "                        <th id=\"T_c2b74d2c_c6fd_11eb_a2b1_0242ac1c0002level0_row8\" class=\"row_heading level0 row8\" >dealspotr.com</th>\n",
              "                        <td id=\"T_c2b74d2c_c6fd_11eb_a2b1_0242ac1c0002row8_col0\" class=\"data row8 col0\" >18.155345</td>\n",
              "            </tr>\n",
              "            <tr>\n",
              "                        <th id=\"T_c2b74d2c_c6fd_11eb_a2b1_0242ac1c0002level0_row9\" class=\"row_heading level0 row9\" >dfa</th>\n",
              "                        <td id=\"T_c2b74d2c_c6fd_11eb_a2b1_0242ac1c0002row9_col0\" class=\"data row9 col0\" >18.489386</td>\n",
              "            </tr>\n",
              "            <tr>\n",
              "                        <th id=\"T_c2b74d2c_c6fd_11eb_a2b1_0242ac1c0002level0_row10\" class=\"row_heading level0 row10\" >docs.google.com</th>\n",
              "                        <td id=\"T_c2b74d2c_c6fd_11eb_a2b1_0242ac1c0002row10_col0\" class=\"data row10 col0\" >17.329739</td>\n",
              "            </tr>\n",
              "            <tr>\n",
              "                        <th id=\"T_c2b74d2c_c6fd_11eb_a2b1_0242ac1c0002level0_row11\" class=\"row_heading level0 row11\" >duckduckgo.com</th>\n",
              "                        <td id=\"T_c2b74d2c_c6fd_11eb_a2b1_0242ac1c0002row11_col0\" class=\"data row11 col0\" >18.247160</td>\n",
              "            </tr>\n",
              "            <tr>\n",
              "                        <th id=\"T_c2b74d2c_c6fd_11eb_a2b1_0242ac1c0002level0_row12\" class=\"row_heading level0 row12\" >facebook.com</th>\n",
              "                        <td id=\"T_c2b74d2c_c6fd_11eb_a2b1_0242ac1c0002row12_col0\" class=\"data row12 col0\" >17.539477</td>\n",
              "            </tr>\n",
              "            <tr>\n",
              "                        <th id=\"T_c2b74d2c_c6fd_11eb_a2b1_0242ac1c0002level0_row13\" class=\"row_heading level0 row13\" >gatewaycdi.com</th>\n",
              "                        <td id=\"T_c2b74d2c_c6fd_11eb_a2b1_0242ac1c0002row13_col0\" class=\"data row13 col0\" >18.088001</td>\n",
              "            </tr>\n",
              "            <tr>\n",
              "                        <th id=\"T_c2b74d2c_c6fd_11eb_a2b1_0242ac1c0002level0_row14\" class=\"row_heading level0 row14\" >gdeals.googleplex.com</th>\n",
              "                        <td id=\"T_c2b74d2c_c6fd_11eb_a2b1_0242ac1c0002row14_col0\" class=\"data row14 col0\" >18.138665</td>\n",
              "            </tr>\n",
              "            <tr>\n",
              "                        <th id=\"T_c2b74d2c_c6fd_11eb_a2b1_0242ac1c0002level0_row15\" class=\"row_heading level0 row15\" >google</th>\n",
              "                        <td id=\"T_c2b74d2c_c6fd_11eb_a2b1_0242ac1c0002row15_col0\" class=\"data row15 col0\" >17.584830</td>\n",
              "            </tr>\n",
              "            <tr>\n",
              "                        <th id=\"T_c2b74d2c_c6fd_11eb_a2b1_0242ac1c0002level0_row16\" class=\"row_heading level0 row16\" >google.com</th>\n",
              "                        <td id=\"T_c2b74d2c_c6fd_11eb_a2b1_0242ac1c0002row16_col0\" class=\"data row16 col0\" >17.412686</td>\n",
              "            </tr>\n",
              "            <tr>\n",
              "                        <th id=\"T_c2b74d2c_c6fd_11eb_a2b1_0242ac1c0002level0_row17\" class=\"row_heading level0 row17\" >googleux.perksplus.com</th>\n",
              "                        <td id=\"T_c2b74d2c_c6fd_11eb_a2b1_0242ac1c0002row17_col0\" class=\"data row17 col0\" >17.432588</td>\n",
              "            </tr>\n",
              "            <tr>\n",
              "                        <th id=\"T_c2b74d2c_c6fd_11eb_a2b1_0242ac1c0002level0_row18\" class=\"row_heading level0 row18\" >groups.google.com</th>\n",
              "                        <td id=\"T_c2b74d2c_c6fd_11eb_a2b1_0242ac1c0002row18_col0\" class=\"data row18 col0\" >17.471693</td>\n",
              "            </tr>\n",
              "            <tr>\n",
              "                        <th id=\"T_c2b74d2c_c6fd_11eb_a2b1_0242ac1c0002level0_row19\" class=\"row_heading level0 row19\" >keep.google.com</th>\n",
              "                        <td id=\"T_c2b74d2c_c6fd_11eb_a2b1_0242ac1c0002row19_col0\" class=\"data row19 col0\" >17.214119</td>\n",
              "            </tr>\n",
              "            <tr>\n",
              "                        <th id=\"T_c2b74d2c_c6fd_11eb_a2b1_0242ac1c0002level0_row20\" class=\"row_heading level0 row20\" >l.facebook.com</th>\n",
              "                        <td id=\"T_c2b74d2c_c6fd_11eb_a2b1_0242ac1c0002row20_col0\" class=\"data row20 col0\" >17.823336</td>\n",
              "            </tr>\n",
              "            <tr>\n",
              "                        <th id=\"T_c2b74d2c_c6fd_11eb_a2b1_0242ac1c0002level0_row21\" class=\"row_heading level0 row21\" >l.messenger.com</th>\n",
              "                        <td id=\"T_c2b74d2c_c6fd_11eb_a2b1_0242ac1c0002row21_col0\" class=\"data row21 col0\" >16.536148</td>\n",
              "            </tr>\n",
              "            <tr>\n",
              "                        <th id=\"T_c2b74d2c_c6fd_11eb_a2b1_0242ac1c0002level0_row22\" class=\"row_heading level0 row22\" >m.facebook.com</th>\n",
              "                        <td id=\"T_c2b74d2c_c6fd_11eb_a2b1_0242ac1c0002row22_col0\" class=\"data row22 col0\" >16.626405</td>\n",
              "            </tr>\n",
              "            <tr>\n",
              "                        <th id=\"T_c2b74d2c_c6fd_11eb_a2b1_0242ac1c0002level0_row23\" class=\"row_heading level0 row23\" >mail.aol.com</th>\n",
              "                        <td id=\"T_c2b74d2c_c6fd_11eb_a2b1_0242ac1c0002row23_col0\" class=\"data row23 col0\" >17.855927</td>\n",
              "            </tr>\n",
              "            <tr>\n",
              "                        <th id=\"T_c2b74d2c_c6fd_11eb_a2b1_0242ac1c0002level0_row24\" class=\"row_heading level0 row24\" >mail.google.com</th>\n",
              "                        <td id=\"T_c2b74d2c_c6fd_11eb_a2b1_0242ac1c0002row24_col0\" class=\"data row24 col0\" >18.872680</td>\n",
              "            </tr>\n",
              "            <tr>\n",
              "                        <th id=\"T_c2b74d2c_c6fd_11eb_a2b1_0242ac1c0002level0_row25\" class=\"row_heading level0 row25\" >mall.googleplex.com</th>\n",
              "                        <td id=\"T_c2b74d2c_c6fd_11eb_a2b1_0242ac1c0002row25_col0\" class=\"data row25 col0\" >17.906655</td>\n",
              "            </tr>\n",
              "            <tr>\n",
              "                        <th id=\"T_c2b74d2c_c6fd_11eb_a2b1_0242ac1c0002level0_row26\" class=\"row_heading level0 row26\" >mg.mail.yahoo.com</th>\n",
              "                        <td id=\"T_c2b74d2c_c6fd_11eb_a2b1_0242ac1c0002row26_col0\" class=\"data row26 col0\" >18.089737</td>\n",
              "            </tr>\n",
              "            <tr>\n",
              "                        <th id=\"T_c2b74d2c_c6fd_11eb_a2b1_0242ac1c0002level0_row27\" class=\"row_heading level0 row27\" >moma.corp.google.com</th>\n",
              "                        <td id=\"T_c2b74d2c_c6fd_11eb_a2b1_0242ac1c0002row27_col0\" class=\"data row27 col0\" >17.617495</td>\n",
              "            </tr>\n",
              "            <tr>\n",
              "                        <th id=\"T_c2b74d2c_c6fd_11eb_a2b1_0242ac1c0002level0_row28\" class=\"row_heading level0 row28\" >outlook.live.com</th>\n",
              "                        <td id=\"T_c2b74d2c_c6fd_11eb_a2b1_0242ac1c0002row28_col0\" class=\"data row28 col0\" >17.216375</td>\n",
              "            </tr>\n",
              "            <tr>\n",
              "                        <th id=\"T_c2b74d2c_c6fd_11eb_a2b1_0242ac1c0002level0_row29\" class=\"row_heading level0 row29\" >phandroid.com</th>\n",
              "                        <td id=\"T_c2b74d2c_c6fd_11eb_a2b1_0242ac1c0002row29_col0\" class=\"data row29 col0\" >17.188966</td>\n",
              "            </tr>\n",
              "            <tr>\n",
              "                        <th id=\"T_c2b74d2c_c6fd_11eb_a2b1_0242ac1c0002level0_row30\" class=\"row_heading level0 row30\" >pinterest.com</th>\n",
              "                        <td id=\"T_c2b74d2c_c6fd_11eb_a2b1_0242ac1c0002row30_col0\" class=\"data row30 col0\" >17.653998</td>\n",
              "            </tr>\n",
              "            <tr>\n",
              "                        <th id=\"T_c2b74d2c_c6fd_11eb_a2b1_0242ac1c0002level0_row31\" class=\"row_heading level0 row31\" >plus.google.com</th>\n",
              "                        <td id=\"T_c2b74d2c_c6fd_11eb_a2b1_0242ac1c0002row31_col0\" class=\"data row31 col0\" >17.490284</td>\n",
              "            </tr>\n",
              "            <tr>\n",
              "                        <th id=\"T_c2b74d2c_c6fd_11eb_a2b1_0242ac1c0002level0_row32\" class=\"row_heading level0 row32\" >quora.com</th>\n",
              "                        <td id=\"T_c2b74d2c_c6fd_11eb_a2b1_0242ac1c0002row32_col0\" class=\"data row32 col0\" >17.072838</td>\n",
              "            </tr>\n",
              "            <tr>\n",
              "                        <th id=\"T_c2b74d2c_c6fd_11eb_a2b1_0242ac1c0002level0_row33\" class=\"row_heading level0 row33\" >reddit.com</th>\n",
              "                        <td id=\"T_c2b74d2c_c6fd_11eb_a2b1_0242ac1c0002row33_col0\" class=\"data row33 col0\" >15.891195</td>\n",
              "            </tr>\n",
              "            <tr>\n",
              "                        <th id=\"T_c2b74d2c_c6fd_11eb_a2b1_0242ac1c0002level0_row34\" class=\"row_heading level0 row34\" >search.myway.com</th>\n",
              "                        <td id=\"T_c2b74d2c_c6fd_11eb_a2b1_0242ac1c0002row34_col0\" class=\"data row34 col0\" >18.430037</td>\n",
              "            </tr>\n",
              "            <tr>\n",
              "                        <th id=\"T_c2b74d2c_c6fd_11eb_a2b1_0242ac1c0002level0_row35\" class=\"row_heading level0 row35\" >search.xfinity.com</th>\n",
              "                        <td id=\"T_c2b74d2c_c6fd_11eb_a2b1_0242ac1c0002row35_col0\" class=\"data row35 col0\" >17.849397</td>\n",
              "            </tr>\n",
              "            <tr>\n",
              "                        <th id=\"T_c2b74d2c_c6fd_11eb_a2b1_0242ac1c0002level0_row36\" class=\"row_heading level0 row36\" >seroundtable.com</th>\n",
              "                        <td id=\"T_c2b74d2c_c6fd_11eb_a2b1_0242ac1c0002row36_col0\" class=\"data row36 col0\" >17.840684</td>\n",
              "            </tr>\n",
              "            <tr>\n",
              "                        <th id=\"T_c2b74d2c_c6fd_11eb_a2b1_0242ac1c0002level0_row37\" class=\"row_heading level0 row37\" >siliconvalley.about.com</th>\n",
              "                        <td id=\"T_c2b74d2c_c6fd_11eb_a2b1_0242ac1c0002row37_col0\" class=\"data row37 col0\" >17.767737</td>\n",
              "            </tr>\n",
              "            <tr>\n",
              "                        <th id=\"T_c2b74d2c_c6fd_11eb_a2b1_0242ac1c0002level0_row38\" class=\"row_heading level0 row38\" >sites.google.com</th>\n",
              "                        <td id=\"T_c2b74d2c_c6fd_11eb_a2b1_0242ac1c0002row38_col0\" class=\"data row38 col0\" >17.652518</td>\n",
              "            </tr>\n",
              "            <tr>\n",
              "                        <th id=\"T_c2b74d2c_c6fd_11eb_a2b1_0242ac1c0002level0_row39\" class=\"row_heading level0 row39\" >t.co</th>\n",
              "                        <td id=\"T_c2b74d2c_c6fd_11eb_a2b1_0242ac1c0002row39_col0\" class=\"data row39 col0\" >16.981069</td>\n",
              "            </tr>\n",
              "            <tr>\n",
              "                        <th id=\"T_c2b74d2c_c6fd_11eb_a2b1_0242ac1c0002level0_row40\" class=\"row_heading level0 row40\" >trainup.withgoogle.com</th>\n",
              "                        <td id=\"T_c2b74d2c_c6fd_11eb_a2b1_0242ac1c0002row40_col0\" class=\"data row40 col0\" >16.702306</td>\n",
              "            </tr>\n",
              "            <tr>\n",
              "                        <th id=\"T_c2b74d2c_c6fd_11eb_a2b1_0242ac1c0002level0_row41\" class=\"row_heading level0 row41\" >us-mg5.mail.yahoo.com</th>\n",
              "                        <td id=\"T_c2b74d2c_c6fd_11eb_a2b1_0242ac1c0002row41_col0\" class=\"data row41 col0\" >16.759423</td>\n",
              "            </tr>\n",
              "            <tr>\n",
              "                        <th id=\"T_c2b74d2c_c6fd_11eb_a2b1_0242ac1c0002level0_row42\" class=\"row_heading level0 row42\" >yahoo</th>\n",
              "                        <td id=\"T_c2b74d2c_c6fd_11eb_a2b1_0242ac1c0002row42_col0\" class=\"data row42 col0\" >17.671546</td>\n",
              "            </tr>\n",
              "            <tr>\n",
              "                        <th id=\"T_c2b74d2c_c6fd_11eb_a2b1_0242ac1c0002level0_row43\" class=\"row_heading level0 row43\" >youtube.com</th>\n",
              "                        <td id=\"T_c2b74d2c_c6fd_11eb_a2b1_0242ac1c0002row43_col0\" class=\"data row43 col0\" >16.682741</td>\n",
              "            </tr>\n",
              "    </tbody></table>"
            ],
            "text/plain": [
              "<pandas.io.formats.style.Styler at 0x7f35d7c92690>"
            ]
          },
          "metadata": {
            "tags": []
          },
          "execution_count": 62
        }
      ]
    },
    {
      "cell_type": "code",
      "metadata": {
        "id": "ACicxrslR0Ty"
      },
      "source": [
        "# Jiekai"
      ],
      "execution_count": null,
      "outputs": []
    },
    {
      "cell_type": "code",
      "metadata": {
        "id": "oTGhzVwjR0Wp"
      },
      "source": [
        "df_train.info()"
      ],
      "execution_count": null,
      "outputs": []
    },
    {
      "cell_type": "code",
      "metadata": {
        "id": "VpB04XqprwKI"
      },
      "source": [
        "df_train.head()"
      ],
      "execution_count": null,
      "outputs": []
    },
    {
      "cell_type": "code",
      "metadata": {
        "id": "5YCxUELTr3MY"
      },
      "source": [
        "# date vs target\n",
        "# change the date column from integer to date \n",
        "date = df_train['date'].astype(str).apply(lambda x: pd.to_datetime(x,format = '%Y%m%d'))"
      ],
      "execution_count": null,
      "outputs": []
    },
    {
      "cell_type": "code",
      "metadata": {
        "id": "OXLn9VgOtDr4",
        "colab": {
          "base_uri": "https://localhost:8080/",
          "height": 597
        },
        "outputId": "c630190c-8f78-4792-ca0f-b6490109c548"
      },
      "source": [
        "# the plot of target variables based on time\n",
        "plt.rc('font', size=12)\n",
        "fig, ax = plt.subplots(figsize=(10, 6))\n",
        "# Specify how the lines should look\n",
        "ax.plot(date, np.log1p(df_train['totals.transactionRevenue']), color='tab:orange', label='log Revenue')\n",
        "ax.plot(date, df_train['totals.transactionRevenue'], color='tab:blue', label='Revenue')\n",
        "ax.set_xlabel('Time')\n",
        "ax.set_ylabel('Revenue')\n",
        "ax.set_title('Revenue Based on Time')\n",
        "ax.grid(True)\n",
        "ax.legend(loc='upper left')"
      ],
      "execution_count": null,
      "outputs": [
        {
          "output_type": "error",
          "ename": "NameError",
          "evalue": "ignored",
          "traceback": [
            "\u001b[0;31m---------------------------------------------------------------------------\u001b[0m",
            "\u001b[0;31mNameError\u001b[0m                                 Traceback (most recent call last)",
            "\u001b[0;32m<ipython-input-63-62cc3f9f7248>\u001b[0m in \u001b[0;36m<module>\u001b[0;34m()\u001b[0m\n\u001b[1;32m      3\u001b[0m \u001b[0mfig\u001b[0m\u001b[0;34m,\u001b[0m \u001b[0max\u001b[0m \u001b[0;34m=\u001b[0m \u001b[0mplt\u001b[0m\u001b[0;34m.\u001b[0m\u001b[0msubplots\u001b[0m\u001b[0;34m(\u001b[0m\u001b[0mfigsize\u001b[0m\u001b[0;34m=\u001b[0m\u001b[0;34m(\u001b[0m\u001b[0;36m10\u001b[0m\u001b[0;34m,\u001b[0m \u001b[0;36m6\u001b[0m\u001b[0;34m)\u001b[0m\u001b[0;34m)\u001b[0m\u001b[0;34m\u001b[0m\u001b[0;34m\u001b[0m\u001b[0m\n\u001b[1;32m      4\u001b[0m \u001b[0;31m# Specify how the lines should look\u001b[0m\u001b[0;34m\u001b[0m\u001b[0;34m\u001b[0m\u001b[0;34m\u001b[0m\u001b[0m\n\u001b[0;32m----> 5\u001b[0;31m \u001b[0max\u001b[0m\u001b[0;34m.\u001b[0m\u001b[0mplot\u001b[0m\u001b[0;34m(\u001b[0m\u001b[0mdate\u001b[0m\u001b[0;34m,\u001b[0m \u001b[0mnp\u001b[0m\u001b[0;34m.\u001b[0m\u001b[0mlog1p\u001b[0m\u001b[0;34m(\u001b[0m\u001b[0mdf_train\u001b[0m\u001b[0;34m[\u001b[0m\u001b[0;34m'totals.transactionRevenue'\u001b[0m\u001b[0;34m]\u001b[0m\u001b[0;34m)\u001b[0m\u001b[0;34m,\u001b[0m \u001b[0mcolor\u001b[0m\u001b[0;34m=\u001b[0m\u001b[0;34m'tab:orange'\u001b[0m\u001b[0;34m,\u001b[0m \u001b[0mlabel\u001b[0m\u001b[0;34m=\u001b[0m\u001b[0;34m'log Revenue'\u001b[0m\u001b[0;34m)\u001b[0m\u001b[0;34m\u001b[0m\u001b[0;34m\u001b[0m\u001b[0m\n\u001b[0m\u001b[1;32m      6\u001b[0m \u001b[0max\u001b[0m\u001b[0;34m.\u001b[0m\u001b[0mplot\u001b[0m\u001b[0;34m(\u001b[0m\u001b[0mdate\u001b[0m\u001b[0;34m,\u001b[0m \u001b[0mdf_train\u001b[0m\u001b[0;34m[\u001b[0m\u001b[0;34m'totals.transactionRevenue'\u001b[0m\u001b[0;34m]\u001b[0m\u001b[0;34m,\u001b[0m \u001b[0mcolor\u001b[0m\u001b[0;34m=\u001b[0m\u001b[0;34m'tab:blue'\u001b[0m\u001b[0;34m,\u001b[0m \u001b[0mlabel\u001b[0m\u001b[0;34m=\u001b[0m\u001b[0;34m'Revenue'\u001b[0m\u001b[0;34m)\u001b[0m\u001b[0;34m\u001b[0m\u001b[0;34m\u001b[0m\u001b[0m\n\u001b[1;32m      7\u001b[0m \u001b[0max\u001b[0m\u001b[0;34m.\u001b[0m\u001b[0mset_xlabel\u001b[0m\u001b[0;34m(\u001b[0m\u001b[0;34m'Time'\u001b[0m\u001b[0;34m)\u001b[0m\u001b[0;34m\u001b[0m\u001b[0;34m\u001b[0m\u001b[0m\n",
            "\u001b[0;31mNameError\u001b[0m: name 'date' is not defined"
          ]
        },
        {
          "output_type": "display_data",
          "data": {
            "image/png": "[encoded data removed]",
            "text/plain": [
              "<Figure size 720x432 with 1 Axes>"
            ]
          },
          "metadata": {
            "tags": [],
            "needs_background": "light"
          }
        }
      ]
    },
    {
      "cell_type": "code",
      "metadata": {
        "id": "e2GV4Y_2R2mS"
      },
      "source": [
        "# device is mobile\n",
        "plt.bar(x = ['False','True'],height = df_train['device.isMobile'].value_counts())\n",
        "plt.xlabel('Is mobile or not')\n",
        "plt.ylabel('Count')\n",
        "plt.title('Mobile Device Counts')\n"
      ],
      "execution_count": null,
      "outputs": []
    },
    {
      "cell_type": "code",
      "metadata": {
        "id": "-95EA_LYR2o6"
      },
      "source": [
        "# non - modile device revenue\n",
        "nonmoblie = df_train[df_train['device.isMobile']==False]\n",
        "moblie = df_train[df_train['device.isMobile']==True]\n",
        "plt.bar(x = ['False','True'],height = [nonmoblie['totals.transactionRevenue'].sum(),moblie['totals.transactionRevenue'].sum()])\n",
        "plt.xlabel('Is mobile or not')\n",
        "plt.ylabel('Revenue')\n",
        "plt.title('Revenue based on IsMobile')"
      ],
      "execution_count": null,
      "outputs": []
    },
    {
      "cell_type": "code",
      "metadata": {
        "id": "FgYxSflwpah9"
      },
      "source": [
        "# operation system\n",
        "# At index I will use isin to substitute the loop and get just the values with more than 1%\n",
        "crosstab_eda = pd.crosstab(index=df_train[df_train['device.operatingSystem']\\\n",
        "                                          .isin(df_train['device.operatingSystem']\\\n",
        "                                                .value_counts()[:6].index.values)]['device.operatingSystem'], \n",
        "                           \n",
        "                           # at this line, I am using the isin to select just the top 5 of browsers\n",
        "                           columns=df_train[df_train['device.browser'].isin(df_train['device.browser']\\\n",
        "                                                                            .value_counts()[:5].index.values)]['device.browser'])\n",
        "# Ploting the crosstab that we did above\n",
        "crosstab_eda.plot(kind=\"bar\",    # select the bar to plot the count of categoricals\n",
        "                 figsize=(14,7), # adjusting the size of graphs\n",
        "                 stacked=True)   # code to unstack \n",
        "plt.title(\"Most frequent OS's by Browsers of users\", fontsize=22) # adjusting title and fontsize\n",
        "plt.xlabel(\"Operational System Name\", fontsize=19) # adjusting x label and fontsize\n",
        "plt.ylabel(\"Count OS\", fontsize=19) # adjusting y label and fontsize\n",
        "plt.xticks(rotation=0) # Adjust the xticks, rotating the labels\n",
        "\n",
        "plt.show() # rendering"
      ],
      "execution_count": null,
      "outputs": []
    },
    {
      "cell_type": "code",
      "metadata": {
        "id": "u09LHHt6R2ry"
      },
      "source": [
        "# Renjie"
      ],
      "execution_count": null,
      "outputs": []
    },
    {
      "cell_type": "code",
      "metadata": {
        "id": "45fqGeKnR4WT"
      },
      "source": [
        "# Check the corelation of the numerical variables\n",
        "sns.set(font_scale=1.6)\n",
        "plt.figure(figsize=(16, 6))\n",
        "heatmap = sns.heatmap(df_train.corr(), vmin=-1, vmax=1, annot=True)\n",
        "heatmap.set_title('Correlation Heatmap', fontdict={'fontsize':12}, pad=12);"
      ],
      "execution_count": null,
      "outputs": []
    },
    {
      "cell_type": "code",
      "metadata": {
        "id": "CHO-jUzxSfng"
      },
      "source": [
        "# Rank correlation with the target variable\n",
        "plt.figure(figsize=(8, 12))\n",
        "sns.set(font_scale=1.6)\n",
        "heatmap = sns.heatmap(df_train.corr()[['totals.transactionRevenue']].sort_values(by='totals.transactionRevenue', ascending=False), vmin=-1, vmax=1, annot=True, cmap='BrBG')\n",
        "heatmap.set_title('Features Correlating with totals.transactionRevenue', fontdict={'fontsize':30}, pad=16);"
      ],
      "execution_count": null,
      "outputs": []
    },
    {
      "cell_type": "code",
      "metadata": {
        "id": "VVYNY4MkUaZC"
      },
      "source": [
        "#Visualize Transaction Revenue vs visitnumber\n",
        "sns.jointplot(y = 'totals.transactionRevenue',  x = 'visitNumber', data=df_train,\n",
        "              kind=\"scatter\", color=\"g\");"
      ],
      "execution_count": null,
      "outputs": []
    },
    {
      "cell_type": "code",
      "metadata": {
        "id": "kU5Hr-2vXtH-"
      },
      "source": [
        "def horizontal_bar_chart(cnt_srs, color):\n",
        "    trace = go.Bar(\n",
        "        y=cnt_srs.index[::-1],\n",
        "        x=cnt_srs.values[::-1],\n",
        "        showlegend=False,\n",
        "        orientation = 'h',\n",
        "        marker=dict(\n",
        "            color=color,\n",
        "        ),\n",
        "    )\n",
        "    return trace\n",
        "\n",
        "\n",
        "from plotly import tools\n",
        "import plotly.offline as py"
      ],
      "execution_count": null,
      "outputs": []
    },
    {
      "cell_type": "code",
      "metadata": {
        "id": "1neMwkXRXiKT"
      },
      "source": [
        "# Continent\n",
        "cnt_srs = df_train.groupby('trafficSource.source')['totals.transactionRevenue'].agg(['size', 'count', 'mean'])\n",
        "cnt_srs.columns = [\"count\", \"count of non-zero revenue\", \"mean\"]\n",
        "cnt_srs = cnt_srs.sort_values(by=\"count\", ascending=False)\n",
        "trace1 = horizontal_bar_chart(cnt_srs[\"count\"].head(10), 'green')\n",
        "trace2 = horizontal_bar_chart(cnt_srs[\"count of non-zero revenue\"].head(10), 'green')\n",
        "trace3 = horizontal_bar_chart(cnt_srs[\"mean\"].head(10), 'green')\n",
        "\n",
        "# Sub-continent\n",
        "cnt_srs = df_train.groupby('trafficSource.medium')['totals.transactionRevenue'].agg(['size', 'count', 'mean'])\n",
        "cnt_srs.columns = [\"count\", \"count of non-zero revenue\", \"mean\"]\n",
        "cnt_srs = cnt_srs.sort_values(by=\"count\", ascending=False)\n",
        "trace4 = horizontal_bar_chart(cnt_srs[\"count\"], 'purple')\n",
        "trace5 = horizontal_bar_chart(cnt_srs[\"count of non-zero revenue\"], 'purple')\n",
        "trace6 = horizontal_bar_chart(cnt_srs[\"mean\"], 'purple')\n",
        "\n",
        "# Creating two subplots\n",
        "fig = tools.make_subplots(rows=2, cols=3, vertical_spacing=0.08, horizontal_spacing=0.15, \n",
        "                          subplot_titles=[\"Traffic Source - Count\", \"Traffic Source - Non-zero Revenue Count\", \"Traffic Source - Mean Revenue\",\n",
        "                                          \"Traffic Source Medium - Count\",  \"Traffic Source Medium - Non-zero Revenue Count\", \"Traffic Source Medium - Mean Revenue\"\n",
        "                                          ])\n",
        "\n",
        "fig.append_trace(trace1, 1, 1)\n",
        "fig.append_trace(trace2, 1, 2)\n",
        "fig.append_trace(trace3, 1, 3)\n",
        "fig.append_trace(trace4, 2, 1)\n",
        "fig.append_trace(trace5, 2, 2)\n",
        "fig.append_trace(trace6, 2, 3)\n",
        "\n",
        "fig['layout'].update(height=1000, width=1200, paper_bgcolor='rgb(233,233,233)', title=\"Traffic Source Plots\")\n",
        "py.iplot(fig, filename='traffic-source-plots')"
      ],
      "execution_count": null,
      "outputs": []
    },
    {
      "cell_type": "markdown",
      "metadata": {
        "id": "RBfIfUjbolqo"
      },
      "source": [
        "### 2. Data Preprocessing"
      ]
    },
    {
      "cell_type": "code",
      "metadata": {
        "id": "VQD871SrAsPv",
        "colab": {
          "base_uri": "https://localhost:8080/"
        },
        "outputId": "115da018-b171-4271-da91-053f39f39978"
      },
      "source": [
        "df_train = pd.read_csv('df_train.csv')\n",
        "df_train.shape"
      ],
      "execution_count": null,
      "outputs": [
        {
          "output_type": "execute_result",
          "data": {
            "text/plain": [
              "(903653, 56)"
            ]
          },
          "metadata": {
            "tags": []
          },
          "execution_count": 5
        }
      ]
    },
    {
      "cell_type": "code",
      "metadata": {
        "id": "mvk3pTS7fXHE"
      },
      "source": [
        "#drop the columns that are not available in demo\n",
        "columns_not_available=df_train.iloc[1,:][df_train.iloc[1,:]=='not available in demo dataset'].index\n",
        "df_train_all_available=df_train.drop(columns=columns_not_available)"
      ],
      "execution_count": null,
      "outputs": []
    },
    {
      "cell_type": "code",
      "metadata": {
        "id": "Kn3o0QcFhAuT"
      },
      "source": [
        "#drop the columns that has more than 30% of missing values  \n",
        "null_columns=df_train_all_available.columns[df_train_all_available.isnull().sum()/len(df_train_all_available)>0.3]\n",
        "df_train_available_notnull=df_train_all_available.drop(columns=null_columns)\n",
        "#add back the taeget variable \n",
        "df_train_available_notnull['totals.transactionRevenue']=df_train_all_available['totals.transactionRevenue']"
      ],
      "execution_count": null,
      "outputs": []
    },
    {
      "cell_type": "code",
      "metadata": {
        "id": "dZFNiA-wosnW"
      },
      "source": [
        "# fill zeros for the missing values in the target variable \n",
        "df_train_available_notnull['totals.transactionRevenue'] = df_train_available_notnull['totals.transactionRevenue'] .fillna(0)"
      ],
      "execution_count": null,
      "outputs": []
    },
    {
      "cell_type": "code",
      "metadata": {
        "colab": {
          "base_uri": "https://localhost:8080/"
        },
        "id": "-lD0jXKRm4GY",
        "outputId": "1b27fff4-f033-40e4-bd99-d5d51cfbf7f8"
      },
      "source": [
        "df_train_available_notnull.info()"
      ],
      "execution_count": null,
      "outputs": [
        {
          "output_type": "stream",
          "text": [
            "<class 'pandas.core.frame.DataFrame'>\n",
            "RangeIndex: 903653 entries, 0 to 903652\n",
            "Data columns (total 25 columns):\n",
            " #   Column                     Non-Null Count   Dtype  \n",
            "---  ------                     --------------   -----  \n",
            " 0   Unnamed: 0                 903653 non-null  int64  \n",
            " 1   channelGrouping            903653 non-null  object \n",
            " 2   date                       903653 non-null  int64  \n",
            " 3   fullVisitorId              903653 non-null  object \n",
            " 4   sessionId                  903653 non-null  object \n",
            " 5   socialEngagementType       903653 non-null  object \n",
            " 6   visitId                    903653 non-null  int64  \n",
            " 7   visitNumber                903653 non-null  int64  \n",
            " 8   visitStartTime             903653 non-null  int64  \n",
            " 9   device.browser             903653 non-null  object \n",
            " 10  device.operatingSystem     903653 non-null  object \n",
            " 11  device.isMobile            903653 non-null  bool   \n",
            " 12  device.deviceCategory      903653 non-null  object \n",
            " 13  geoNetwork.continent       903653 non-null  object \n",
            " 14  geoNetwork.subContinent    903653 non-null  object \n",
            " 15  geoNetwork.country         903653 non-null  object \n",
            " 16  geoNetwork.networkDomain   903653 non-null  object \n",
            " 17  totals.visits              903653 non-null  int64  \n",
            " 18  totals.hits                903653 non-null  int64  \n",
            " 19  totals.pageviews           903553 non-null  float64\n",
            " 20  totals.newVisits           703060 non-null  float64\n",
            " 21  trafficSource.campaign     903653 non-null  object \n",
            " 22  trafficSource.source       903653 non-null  object \n",
            " 23  trafficSource.medium       903653 non-null  object \n",
            " 24  totals.transactionRevenue  903653 non-null  float64\n",
            "dtypes: bool(1), float64(3), int64(7), object(14)\n",
            "memory usage: 166.3+ MB\n"
          ],
          "name": "stdout"
        }
      ]
    },
    {
      "cell_type": "code",
      "metadata": {
        "id": "VbaNI1xhpk9C"
      },
      "source": [
        "#train_encoded=pd.get_dummies(df_train_available_notnull)"
      ],
      "execution_count": null,
      "outputs": []
    },
    {
      "cell_type": "code",
      "metadata": {
        "colab": {
          "base_uri": "https://localhost:8080/",
          "height": 380
        },
        "id": "aub1VerPBrR7",
        "outputId": "52280b3f-525f-4d5e-cefe-e4f2dc9cd8f9"
      },
      "source": [
        "df_train_available_notnull.sample(10)"
      ],
      "execution_count": null,
      "outputs": [
        {
          "output_type": "execute_result",
          "data": {
            "text/html": [
              "<div>\n",
              "<style scoped>\n",
              "    .dataframe tbody tr th:only-of-type {\n",
              "        vertical-align: middle;\n",
              "    }\n",
              "\n",
              "    .dataframe tbody tr th {\n",
              "        vertical-align: top;\n",
              "    }\n",
              "\n",
              "    .dataframe thead th {\n",
              "        text-align: right;\n",
              "    }\n",
              "</style>\n",
              "<table border=\"1\" class=\"dataframe\">\n",
              "  <thead>\n",
              "    <tr style=\"text-align: right;\">\n",
              "      <th></th>\n",
              "      <th>Unnamed: 0</th>\n",
              "      <th>channelGrouping</th>\n",
              "      <th>date</th>\n",
              "      <th>fullVisitorId</th>\n",
              "      <th>sessionId</th>\n",
              "      <th>socialEngagementType</th>\n",
              "      <th>visitId</th>\n",
              "      <th>visitNumber</th>\n",
              "      <th>visitStartTime</th>\n",
              "      <th>device.browser</th>\n",
              "      <th>device.operatingSystem</th>\n",
              "      <th>device.isMobile</th>\n",
              "      <th>device.deviceCategory</th>\n",
              "      <th>geoNetwork.continent</th>\n",
              "      <th>geoNetwork.subContinent</th>\n",
              "      <th>geoNetwork.country</th>\n",
              "      <th>geoNetwork.networkDomain</th>\n",
              "      <th>totals.visits</th>\n",
              "      <th>totals.hits</th>\n",
              "      <th>totals.pageviews</th>\n",
              "      <th>totals.newVisits</th>\n",
              "      <th>trafficSource.campaign</th>\n",
              "      <th>trafficSource.source</th>\n",
              "      <th>trafficSource.medium</th>\n",
              "      <th>totals.transactionRevenue</th>\n",
              "    </tr>\n",
              "  </thead>\n",
              "  <tbody>\n",
              "    <tr>\n",
              "      <th>537419</th>\n",
              "      <td>537419</td>\n",
              "      <td>Social</td>\n",
              "      <td>20170219</td>\n",
              "      <td>5088989242583385481</td>\n",
              "      <td>5088989242583385481_1487520411</td>\n",
              "      <td>Not Socially Engaged</td>\n",
              "      <td>1487520411</td>\n",
              "      <td>1</td>\n",
              "      <td>1487520411</td>\n",
              "      <td>Edge</td>\n",
              "      <td>Windows</td>\n",
              "      <td>False</td>\n",
              "      <td>desktop</td>\n",
              "      <td>Americas</td>\n",
              "      <td>Northern America</td>\n",
              "      <td>United States</td>\n",
              "      <td>verizon.net</td>\n",
              "      <td>1</td>\n",
              "      <td>1</td>\n",
              "      <td>1.0</td>\n",
              "      <td>1.0</td>\n",
              "      <td>(not set)</td>\n",
              "      <td>youtube.com</td>\n",
              "      <td>referral</td>\n",
              "      <td>0.0</td>\n",
              "    </tr>\n",
              "    <tr>\n",
              "      <th>50257</th>\n",
              "      <td>50257</td>\n",
              "      <td>Organic Search</td>\n",
              "      <td>20170624</td>\n",
              "      <td>0316063145559908242</td>\n",
              "      <td>0316063145559908242_1498292354</td>\n",
              "      <td>Not Socially Engaged</td>\n",
              "      <td>1498292354</td>\n",
              "      <td>1</td>\n",
              "      <td>1498292354</td>\n",
              "      <td>Chrome</td>\n",
              "      <td>Windows</td>\n",
              "      <td>False</td>\n",
              "      <td>desktop</td>\n",
              "      <td>Asia</td>\n",
              "      <td>Southern Asia</td>\n",
              "      <td>Sri Lanka</td>\n",
              "      <td>slt.lk</td>\n",
              "      <td>1</td>\n",
              "      <td>32</td>\n",
              "      <td>30.0</td>\n",
              "      <td>1.0</td>\n",
              "      <td>(not set)</td>\n",
              "      <td>google</td>\n",
              "      <td>organic</td>\n",
              "      <td>0.0</td>\n",
              "    </tr>\n",
              "    <tr>\n",
              "      <th>54557</th>\n",
              "      <td>54557</td>\n",
              "      <td>Referral</td>\n",
              "      <td>20170529</td>\n",
              "      <td>6079332925846512370</td>\n",
              "      <td>6079332925846512370_1496059169</td>\n",
              "      <td>Not Socially Engaged</td>\n",
              "      <td>1496059169</td>\n",
              "      <td>1</td>\n",
              "      <td>1496059169</td>\n",
              "      <td>Chrome</td>\n",
              "      <td>Macintosh</td>\n",
              "      <td>False</td>\n",
              "      <td>desktop</td>\n",
              "      <td>Asia</td>\n",
              "      <td>Eastern Asia</td>\n",
              "      <td>Japan</td>\n",
              "      <td>nuro.jp</td>\n",
              "      <td>1</td>\n",
              "      <td>2</td>\n",
              "      <td>2.0</td>\n",
              "      <td>1.0</td>\n",
              "      <td>(not set)</td>\n",
              "      <td>qiita.com</td>\n",
              "      <td>referral</td>\n",
              "      <td>0.0</td>\n",
              "    </tr>\n",
              "    <tr>\n",
              "      <th>760148</th>\n",
              "      <td>760148</td>\n",
              "      <td>Organic Search</td>\n",
              "      <td>20170526</td>\n",
              "      <td>6835462665586933727</td>\n",
              "      <td>6835462665586933727_1495848315</td>\n",
              "      <td>Not Socially Engaged</td>\n",
              "      <td>1495848315</td>\n",
              "      <td>1</td>\n",
              "      <td>1495848315</td>\n",
              "      <td>Safari</td>\n",
              "      <td>iOS</td>\n",
              "      <td>True</td>\n",
              "      <td>tablet</td>\n",
              "      <td>Oceania</td>\n",
              "      <td>Australasia</td>\n",
              "      <td>Australia</td>\n",
              "      <td>telstra.net</td>\n",
              "      <td>1</td>\n",
              "      <td>5</td>\n",
              "      <td>3.0</td>\n",
              "      <td>1.0</td>\n",
              "      <td>(not set)</td>\n",
              "      <td>google</td>\n",
              "      <td>organic</td>\n",
              "      <td>0.0</td>\n",
              "    </tr>\n",
              "    <tr>\n",
              "      <th>676104</th>\n",
              "      <td>676104</td>\n",
              "      <td>Organic Search</td>\n",
              "      <td>20160815</td>\n",
              "      <td>230701588685937364</td>\n",
              "      <td>230701588685937364_1471286692</td>\n",
              "      <td>Not Socially Engaged</td>\n",
              "      <td>1471286692</td>\n",
              "      <td>2</td>\n",
              "      <td>1471286692</td>\n",
              "      <td>Chrome</td>\n",
              "      <td>Windows</td>\n",
              "      <td>False</td>\n",
              "      <td>desktop</td>\n",
              "      <td>Asia</td>\n",
              "      <td>Western Asia</td>\n",
              "      <td>Israel</td>\n",
              "      <td>unknown.unknown</td>\n",
              "      <td>1</td>\n",
              "      <td>3</td>\n",
              "      <td>3.0</td>\n",
              "      <td>NaN</td>\n",
              "      <td>(not set)</td>\n",
              "      <td>google</td>\n",
              "      <td>organic</td>\n",
              "      <td>0.0</td>\n",
              "    </tr>\n",
              "    <tr>\n",
              "      <th>203537</th>\n",
              "      <td>203537</td>\n",
              "      <td>Organic Search</td>\n",
              "      <td>20170606</td>\n",
              "      <td>9098674951788305438</td>\n",
              "      <td>9098674951788305438_1496780997</td>\n",
              "      <td>Not Socially Engaged</td>\n",
              "      <td>1496780997</td>\n",
              "      <td>3</td>\n",
              "      <td>1496780997</td>\n",
              "      <td>Chrome</td>\n",
              "      <td>Macintosh</td>\n",
              "      <td>False</td>\n",
              "      <td>desktop</td>\n",
              "      <td>Americas</td>\n",
              "      <td>Northern America</td>\n",
              "      <td>United States</td>\n",
              "      <td>(not set)</td>\n",
              "      <td>1</td>\n",
              "      <td>2</td>\n",
              "      <td>2.0</td>\n",
              "      <td>NaN</td>\n",
              "      <td>(not set)</td>\n",
              "      <td>google</td>\n",
              "      <td>organic</td>\n",
              "      <td>0.0</td>\n",
              "    </tr>\n",
              "    <tr>\n",
              "      <th>582298</th>\n",
              "      <td>582298</td>\n",
              "      <td>Social</td>\n",
              "      <td>20161116</td>\n",
              "      <td>6510776761908785039</td>\n",
              "      <td>6510776761908785039_1479304530</td>\n",
              "      <td>Not Socially Engaged</td>\n",
              "      <td>1479304530</td>\n",
              "      <td>1</td>\n",
              "      <td>1479304530</td>\n",
              "      <td>Safari</td>\n",
              "      <td>Macintosh</td>\n",
              "      <td>False</td>\n",
              "      <td>desktop</td>\n",
              "      <td>Asia</td>\n",
              "      <td>Western Asia</td>\n",
              "      <td>Azerbaijan</td>\n",
              "      <td>unknown.unknown</td>\n",
              "      <td>1</td>\n",
              "      <td>1</td>\n",
              "      <td>1.0</td>\n",
              "      <td>1.0</td>\n",
              "      <td>(not set)</td>\n",
              "      <td>youtube.com</td>\n",
              "      <td>referral</td>\n",
              "      <td>0.0</td>\n",
              "    </tr>\n",
              "    <tr>\n",
              "      <th>139193</th>\n",
              "      <td>139193</td>\n",
              "      <td>Organic Search</td>\n",
              "      <td>20170320</td>\n",
              "      <td>7900571925123939049</td>\n",
              "      <td>7900571925123939049_1490036904</td>\n",
              "      <td>Not Socially Engaged</td>\n",
              "      <td>1490036904</td>\n",
              "      <td>1</td>\n",
              "      <td>1490036904</td>\n",
              "      <td>Firefox</td>\n",
              "      <td>Windows</td>\n",
              "      <td>False</td>\n",
              "      <td>desktop</td>\n",
              "      <td>Asia</td>\n",
              "      <td>Southern Asia</td>\n",
              "      <td>India</td>\n",
              "      <td>in</td>\n",
              "      <td>1</td>\n",
              "      <td>1</td>\n",
              "      <td>1.0</td>\n",
              "      <td>1.0</td>\n",
              "      <td>(not set)</td>\n",
              "      <td>google</td>\n",
              "      <td>organic</td>\n",
              "      <td>0.0</td>\n",
              "    </tr>\n",
              "    <tr>\n",
              "      <th>798557</th>\n",
              "      <td>798557</td>\n",
              "      <td>Organic Search</td>\n",
              "      <td>20170418</td>\n",
              "      <td>6596626487478581226</td>\n",
              "      <td>6596626487478581226_1492499210</td>\n",
              "      <td>Not Socially Engaged</td>\n",
              "      <td>1492499210</td>\n",
              "      <td>1</td>\n",
              "      <td>1492499210</td>\n",
              "      <td>Internet Explorer</td>\n",
              "      <td>Windows</td>\n",
              "      <td>False</td>\n",
              "      <td>desktop</td>\n",
              "      <td>Asia</td>\n",
              "      <td>Eastern Asia</td>\n",
              "      <td>Japan</td>\n",
              "      <td>ucom.ne.jp</td>\n",
              "      <td>1</td>\n",
              "      <td>2</td>\n",
              "      <td>2.0</td>\n",
              "      <td>1.0</td>\n",
              "      <td>(not set)</td>\n",
              "      <td>bing</td>\n",
              "      <td>organic</td>\n",
              "      <td>0.0</td>\n",
              "    </tr>\n",
              "    <tr>\n",
              "      <th>239545</th>\n",
              "      <td>239545</td>\n",
              "      <td>Organic Search</td>\n",
              "      <td>20170503</td>\n",
              "      <td>8194906584823233059</td>\n",
              "      <td>8194906584823233059_1493815387</td>\n",
              "      <td>Not Socially Engaged</td>\n",
              "      <td>1493815387</td>\n",
              "      <td>1</td>\n",
              "      <td>1493815387</td>\n",
              "      <td>Safari</td>\n",
              "      <td>Macintosh</td>\n",
              "      <td>False</td>\n",
              "      <td>desktop</td>\n",
              "      <td>Americas</td>\n",
              "      <td>Northern America</td>\n",
              "      <td>United States</td>\n",
              "      <td>verizon.net</td>\n",
              "      <td>1</td>\n",
              "      <td>1</td>\n",
              "      <td>1.0</td>\n",
              "      <td>1.0</td>\n",
              "      <td>(not set)</td>\n",
              "      <td>google</td>\n",
              "      <td>organic</td>\n",
              "      <td>0.0</td>\n",
              "    </tr>\n",
              "  </tbody>\n",
              "</table>\n",
              "</div>"
            ],
            "text/plain": [
              "        Unnamed: 0  ... totals.transactionRevenue\n",
              "537419      537419  ...                       0.0\n",
              "50257        50257  ...                       0.0\n",
              "54557        54557  ...                       0.0\n",
              "760148      760148  ...                       0.0\n",
              "676104      676104  ...                       0.0\n",
              "203537      203537  ...                       0.0\n",
              "582298      582298  ...                       0.0\n",
              "139193      139193  ...                       0.0\n",
              "798557      798557  ...                       0.0\n",
              "239545      239545  ...                       0.0\n",
              "\n",
              "[10 rows x 25 columns]"
            ]
          },
          "metadata": {
            "tags": []
          },
          "execution_count": 9
        }
      ]
    },
    {
      "cell_type": "code",
      "metadata": {
        "colab": {
          "base_uri": "https://localhost:8080/"
        },
        "id": "DYvphXIZBegK",
        "outputId": "3e25d126-387c-448e-9198-5bf03996d045"
      },
      "source": [
        "df_train_available_notnull.nunique()"
      ],
      "execution_count": null,
      "outputs": [
        {
          "output_type": "execute_result",
          "data": {
            "text/plain": [
              "Unnamed: 0                   903653\n",
              "channelGrouping                   8\n",
              "date                            366\n",
              "fullVisitorId                723803\n",
              "sessionId                    902755\n",
              "socialEngagementType              1\n",
              "visitId                      886303\n",
              "visitNumber                     384\n",
              "visitStartTime               887159\n",
              "device.browser                   54\n",
              "device.operatingSystem           20\n",
              "device.isMobile                   2\n",
              "device.deviceCategory             3\n",
              "geoNetwork.continent              6\n",
              "geoNetwork.subContinent          23\n",
              "geoNetwork.country              222\n",
              "geoNetwork.networkDomain      28064\n",
              "totals.visits                     1\n",
              "totals.hits                     274\n",
              "totals.pageviews                213\n",
              "totals.newVisits                  1\n",
              "trafficSource.campaign           10\n",
              "trafficSource.source            380\n",
              "trafficSource.medium              7\n",
              "totals.transactionRevenue      5333\n",
              "dtype: int64"
            ]
          },
          "metadata": {
            "tags": []
          },
          "execution_count": 12
        }
      ]
    },
    {
      "cell_type": "code",
      "metadata": {
        "id": "NpJDSL16CZHt"
      },
      "source": [
        "df_train_available_notnull.drop(df_train_available_notnull.columns[[0, 2, 3,4,5,6,8,9,10,14,15,16,17,20,22]], axis = 1, inplace = True)"
      ],
      "execution_count": null,
      "outputs": []
    },
    {
      "cell_type": "code",
      "metadata": {
        "colab": {
          "base_uri": "https://localhost:8080/"
        },
        "id": "zYQOj9NDD0TW",
        "outputId": "286d9194-e72d-4797-8c00-51824ee36c2b"
      },
      "source": [
        "df_train_available_notnull.nunique()"
      ],
      "execution_count": null,
      "outputs": [
        {
          "output_type": "execute_result",
          "data": {
            "text/plain": [
              "channelGrouping                 8\n",
              "visitNumber                   384\n",
              "device.isMobile                 2\n",
              "device.deviceCategory           3\n",
              "geoNetwork.continent            6\n",
              "totals.hits                   274\n",
              "totals.pageviews              213\n",
              "trafficSource.campaign         10\n",
              "trafficSource.medium            7\n",
              "totals.transactionRevenue    5333\n",
              "dtype: int64"
            ]
          },
          "metadata": {
            "tags": []
          },
          "execution_count": 11
        }
      ]
    },
    {
      "cell_type": "code",
      "metadata": {
        "colab": {
          "base_uri": "https://localhost:8080/"
        },
        "id": "eNV0NpApEIMY",
        "outputId": "c3371b76-8166-4417-f402-506283c61cec"
      },
      "source": [
        "df_train_available_notnull = df_train_available_notnull.dropna()\n",
        "df_train_available_notnull.shape"
      ],
      "execution_count": null,
      "outputs": [
        {
          "output_type": "execute_result",
          "data": {
            "text/plain": [
              "(903553, 10)"
            ]
          },
          "metadata": {
            "tags": []
          },
          "execution_count": 11
        }
      ]
    },
    {
      "cell_type": "code",
      "metadata": {
        "id": "LmtDo7EXGO4R"
      },
      "source": [
        "train_encoded=pd.get_dummies(df_train_available_notnull, columns=['channelGrouping','device.isMobile','device.deviceCategory',\n",
        "                                                                  'geoNetwork.continent','trafficSource.campaign','trafficSource.medium'])"
      ],
      "execution_count": null,
      "outputs": []
    },
    {
      "cell_type": "code",
      "metadata": {
        "colab": {
          "base_uri": "https://localhost:8080/",
          "height": 413
        },
        "id": "Uu-d0i-RIH4E",
        "outputId": "f10eb164-d057-49a2-829a-69348e4f39d2"
      },
      "source": [
        "train_encoded.sample(10)"
      ],
      "execution_count": null,
      "outputs": [
        {
          "output_type": "execute_result",
          "data": {
            "text/html": [
              "<div>\n",
              "<style scoped>\n",
              "    .dataframe tbody tr th:only-of-type {\n",
              "        vertical-align: middle;\n",
              "    }\n",
              "\n",
              "    .dataframe tbody tr th {\n",
              "        vertical-align: top;\n",
              "    }\n",
              "\n",
              "    .dataframe thead th {\n",
              "        text-align: right;\n",
              "    }\n",
              "</style>\n",
              "<table border=\"1\" class=\"dataframe\">\n",
              "  <thead>\n",
              "    <tr style=\"text-align: right;\">\n",
              "      <th></th>\n",
              "      <th>visitNumber</th>\n",
              "      <th>totals.hits</th>\n",
              "      <th>totals.pageviews</th>\n",
              "      <th>totals.transactionRevenue</th>\n",
              "      <th>channelGrouping_(Other)</th>\n",
              "      <th>channelGrouping_Affiliates</th>\n",
              "      <th>channelGrouping_Direct</th>\n",
              "      <th>channelGrouping_Display</th>\n",
              "      <th>channelGrouping_Organic Search</th>\n",
              "      <th>channelGrouping_Paid Search</th>\n",
              "      <th>channelGrouping_Referral</th>\n",
              "      <th>channelGrouping_Social</th>\n",
              "      <th>device.isMobile_False</th>\n",
              "      <th>device.isMobile_True</th>\n",
              "      <th>device.deviceCategory_desktop</th>\n",
              "      <th>device.deviceCategory_mobile</th>\n",
              "      <th>device.deviceCategory_tablet</th>\n",
              "      <th>geoNetwork.continent_(not set)</th>\n",
              "      <th>geoNetwork.continent_Africa</th>\n",
              "      <th>geoNetwork.continent_Americas</th>\n",
              "      <th>geoNetwork.continent_Asia</th>\n",
              "      <th>geoNetwork.continent_Europe</th>\n",
              "      <th>geoNetwork.continent_Oceania</th>\n",
              "      <th>trafficSource.campaign_(not set)</th>\n",
              "      <th>trafficSource.campaign_AW - Accessories</th>\n",
              "      <th>trafficSource.campaign_AW - Apparel</th>\n",
              "      <th>trafficSource.campaign_AW - Dynamic Search Ads Whole Site</th>\n",
              "      <th>trafficSource.campaign_AW - Electronics</th>\n",
              "      <th>trafficSource.campaign_All Products</th>\n",
              "      <th>trafficSource.campaign_Data Share</th>\n",
              "      <th>trafficSource.campaign_Data Share Promo</th>\n",
              "      <th>trafficSource.campaign_Retail (DO NOT EDIT owners nophakun and tianyu)</th>\n",
              "      <th>trafficSource.campaign_test-liyuhz</th>\n",
              "      <th>trafficSource.medium_(none)</th>\n",
              "      <th>trafficSource.medium_(not set)</th>\n",
              "      <th>trafficSource.medium_affiliate</th>\n",
              "      <th>trafficSource.medium_cpc</th>\n",
              "      <th>trafficSource.medium_cpm</th>\n",
              "      <th>trafficSource.medium_organic</th>\n",
              "      <th>trafficSource.medium_referral</th>\n",
              "    </tr>\n",
              "  </thead>\n",
              "  <tbody>\n",
              "    <tr>\n",
              "      <th>216037</th>\n",
              "      <td>1</td>\n",
              "      <td>9</td>\n",
              "      <td>6.0</td>\n",
              "      <td>0.0</td>\n",
              "      <td>0</td>\n",
              "      <td>0</td>\n",
              "      <td>0</td>\n",
              "      <td>0</td>\n",
              "      <td>0</td>\n",
              "      <td>0</td>\n",
              "      <td>1</td>\n",
              "      <td>0</td>\n",
              "      <td>1</td>\n",
              "      <td>0</td>\n",
              "      <td>1</td>\n",
              "      <td>0</td>\n",
              "      <td>0</td>\n",
              "      <td>0</td>\n",
              "      <td>0</td>\n",
              "      <td>1</td>\n",
              "      <td>0</td>\n",
              "      <td>0</td>\n",
              "      <td>0</td>\n",
              "      <td>1</td>\n",
              "      <td>0</td>\n",
              "      <td>0</td>\n",
              "      <td>0</td>\n",
              "      <td>0</td>\n",
              "      <td>0</td>\n",
              "      <td>0</td>\n",
              "      <td>0</td>\n",
              "      <td>0</td>\n",
              "      <td>0</td>\n",
              "      <td>0</td>\n",
              "      <td>0</td>\n",
              "      <td>0</td>\n",
              "      <td>0</td>\n",
              "      <td>0</td>\n",
              "      <td>0</td>\n",
              "      <td>1</td>\n",
              "    </tr>\n",
              "    <tr>\n",
              "      <th>117215</th>\n",
              "      <td>1</td>\n",
              "      <td>1</td>\n",
              "      <td>1.0</td>\n",
              "      <td>0.0</td>\n",
              "      <td>0</td>\n",
              "      <td>0</td>\n",
              "      <td>0</td>\n",
              "      <td>1</td>\n",
              "      <td>0</td>\n",
              "      <td>0</td>\n",
              "      <td>0</td>\n",
              "      <td>0</td>\n",
              "      <td>0</td>\n",
              "      <td>1</td>\n",
              "      <td>0</td>\n",
              "      <td>0</td>\n",
              "      <td>1</td>\n",
              "      <td>0</td>\n",
              "      <td>0</td>\n",
              "      <td>1</td>\n",
              "      <td>0</td>\n",
              "      <td>0</td>\n",
              "      <td>0</td>\n",
              "      <td>1</td>\n",
              "      <td>0</td>\n",
              "      <td>0</td>\n",
              "      <td>0</td>\n",
              "      <td>0</td>\n",
              "      <td>0</td>\n",
              "      <td>0</td>\n",
              "      <td>0</td>\n",
              "      <td>0</td>\n",
              "      <td>0</td>\n",
              "      <td>0</td>\n",
              "      <td>0</td>\n",
              "      <td>0</td>\n",
              "      <td>0</td>\n",
              "      <td>1</td>\n",
              "      <td>0</td>\n",
              "      <td>0</td>\n",
              "    </tr>\n",
              "    <tr>\n",
              "      <th>508167</th>\n",
              "      <td>1</td>\n",
              "      <td>1</td>\n",
              "      <td>1.0</td>\n",
              "      <td>0.0</td>\n",
              "      <td>0</td>\n",
              "      <td>0</td>\n",
              "      <td>0</td>\n",
              "      <td>0</td>\n",
              "      <td>1</td>\n",
              "      <td>0</td>\n",
              "      <td>0</td>\n",
              "      <td>0</td>\n",
              "      <td>1</td>\n",
              "      <td>0</td>\n",
              "      <td>1</td>\n",
              "      <td>0</td>\n",
              "      <td>0</td>\n",
              "      <td>0</td>\n",
              "      <td>0</td>\n",
              "      <td>0</td>\n",
              "      <td>0</td>\n",
              "      <td>1</td>\n",
              "      <td>0</td>\n",
              "      <td>1</td>\n",
              "      <td>0</td>\n",
              "      <td>0</td>\n",
              "      <td>0</td>\n",
              "      <td>0</td>\n",
              "      <td>0</td>\n",
              "      <td>0</td>\n",
              "      <td>0</td>\n",
              "      <td>0</td>\n",
              "      <td>0</td>\n",
              "      <td>0</td>\n",
              "      <td>0</td>\n",
              "      <td>0</td>\n",
              "      <td>0</td>\n",
              "      <td>0</td>\n",
              "      <td>1</td>\n",
              "      <td>0</td>\n",
              "    </tr>\n",
              "    <tr>\n",
              "      <th>891219</th>\n",
              "      <td>1</td>\n",
              "      <td>1</td>\n",
              "      <td>1.0</td>\n",
              "      <td>0.0</td>\n",
              "      <td>0</td>\n",
              "      <td>0</td>\n",
              "      <td>0</td>\n",
              "      <td>0</td>\n",
              "      <td>0</td>\n",
              "      <td>0</td>\n",
              "      <td>0</td>\n",
              "      <td>1</td>\n",
              "      <td>1</td>\n",
              "      <td>0</td>\n",
              "      <td>1</td>\n",
              "      <td>0</td>\n",
              "      <td>0</td>\n",
              "      <td>0</td>\n",
              "      <td>0</td>\n",
              "      <td>0</td>\n",
              "      <td>0</td>\n",
              "      <td>1</td>\n",
              "      <td>0</td>\n",
              "      <td>1</td>\n",
              "      <td>0</td>\n",
              "      <td>0</td>\n",
              "      <td>0</td>\n",
              "      <td>0</td>\n",
              "      <td>0</td>\n",
              "      <td>0</td>\n",
              "      <td>0</td>\n",
              "      <td>0</td>\n",
              "      <td>0</td>\n",
              "      <td>0</td>\n",
              "      <td>0</td>\n",
              "      <td>0</td>\n",
              "      <td>0</td>\n",
              "      <td>0</td>\n",
              "      <td>0</td>\n",
              "      <td>1</td>\n",
              "    </tr>\n",
              "    <tr>\n",
              "      <th>155947</th>\n",
              "      <td>1</td>\n",
              "      <td>1</td>\n",
              "      <td>1.0</td>\n",
              "      <td>0.0</td>\n",
              "      <td>0</td>\n",
              "      <td>0</td>\n",
              "      <td>0</td>\n",
              "      <td>0</td>\n",
              "      <td>0</td>\n",
              "      <td>0</td>\n",
              "      <td>0</td>\n",
              "      <td>1</td>\n",
              "      <td>1</td>\n",
              "      <td>0</td>\n",
              "      <td>1</td>\n",
              "      <td>0</td>\n",
              "      <td>0</td>\n",
              "      <td>0</td>\n",
              "      <td>0</td>\n",
              "      <td>0</td>\n",
              "      <td>1</td>\n",
              "      <td>0</td>\n",
              "      <td>0</td>\n",
              "      <td>1</td>\n",
              "      <td>0</td>\n",
              "      <td>0</td>\n",
              "      <td>0</td>\n",
              "      <td>0</td>\n",
              "      <td>0</td>\n",
              "      <td>0</td>\n",
              "      <td>0</td>\n",
              "      <td>0</td>\n",
              "      <td>0</td>\n",
              "      <td>0</td>\n",
              "      <td>0</td>\n",
              "      <td>0</td>\n",
              "      <td>0</td>\n",
              "      <td>0</td>\n",
              "      <td>0</td>\n",
              "      <td>1</td>\n",
              "    </tr>\n",
              "    <tr>\n",
              "      <th>399143</th>\n",
              "      <td>1</td>\n",
              "      <td>1</td>\n",
              "      <td>1.0</td>\n",
              "      <td>0.0</td>\n",
              "      <td>0</td>\n",
              "      <td>0</td>\n",
              "      <td>1</td>\n",
              "      <td>0</td>\n",
              "      <td>0</td>\n",
              "      <td>0</td>\n",
              "      <td>0</td>\n",
              "      <td>0</td>\n",
              "      <td>1</td>\n",
              "      <td>0</td>\n",
              "      <td>1</td>\n",
              "      <td>0</td>\n",
              "      <td>0</td>\n",
              "      <td>0</td>\n",
              "      <td>0</td>\n",
              "      <td>0</td>\n",
              "      <td>1</td>\n",
              "      <td>0</td>\n",
              "      <td>0</td>\n",
              "      <td>1</td>\n",
              "      <td>0</td>\n",
              "      <td>0</td>\n",
              "      <td>0</td>\n",
              "      <td>0</td>\n",
              "      <td>0</td>\n",
              "      <td>0</td>\n",
              "      <td>0</td>\n",
              "      <td>0</td>\n",
              "      <td>0</td>\n",
              "      <td>1</td>\n",
              "      <td>0</td>\n",
              "      <td>0</td>\n",
              "      <td>0</td>\n",
              "      <td>0</td>\n",
              "      <td>0</td>\n",
              "      <td>0</td>\n",
              "    </tr>\n",
              "    <tr>\n",
              "      <th>541379</th>\n",
              "      <td>1</td>\n",
              "      <td>1</td>\n",
              "      <td>1.0</td>\n",
              "      <td>0.0</td>\n",
              "      <td>0</td>\n",
              "      <td>0</td>\n",
              "      <td>0</td>\n",
              "      <td>0</td>\n",
              "      <td>0</td>\n",
              "      <td>0</td>\n",
              "      <td>0</td>\n",
              "      <td>1</td>\n",
              "      <td>1</td>\n",
              "      <td>0</td>\n",
              "      <td>1</td>\n",
              "      <td>0</td>\n",
              "      <td>0</td>\n",
              "      <td>0</td>\n",
              "      <td>0</td>\n",
              "      <td>1</td>\n",
              "      <td>0</td>\n",
              "      <td>0</td>\n",
              "      <td>0</td>\n",
              "      <td>1</td>\n",
              "      <td>0</td>\n",
              "      <td>0</td>\n",
              "      <td>0</td>\n",
              "      <td>0</td>\n",
              "      <td>0</td>\n",
              "      <td>0</td>\n",
              "      <td>0</td>\n",
              "      <td>0</td>\n",
              "      <td>0</td>\n",
              "      <td>0</td>\n",
              "      <td>0</td>\n",
              "      <td>0</td>\n",
              "      <td>0</td>\n",
              "      <td>0</td>\n",
              "      <td>0</td>\n",
              "      <td>1</td>\n",
              "    </tr>\n",
              "    <tr>\n",
              "      <th>269322</th>\n",
              "      <td>2</td>\n",
              "      <td>1</td>\n",
              "      <td>1.0</td>\n",
              "      <td>0.0</td>\n",
              "      <td>0</td>\n",
              "      <td>0</td>\n",
              "      <td>0</td>\n",
              "      <td>0</td>\n",
              "      <td>1</td>\n",
              "      <td>0</td>\n",
              "      <td>0</td>\n",
              "      <td>0</td>\n",
              "      <td>0</td>\n",
              "      <td>1</td>\n",
              "      <td>0</td>\n",
              "      <td>1</td>\n",
              "      <td>0</td>\n",
              "      <td>0</td>\n",
              "      <td>0</td>\n",
              "      <td>1</td>\n",
              "      <td>0</td>\n",
              "      <td>0</td>\n",
              "      <td>0</td>\n",
              "      <td>1</td>\n",
              "      <td>0</td>\n",
              "      <td>0</td>\n",
              "      <td>0</td>\n",
              "      <td>0</td>\n",
              "      <td>0</td>\n",
              "      <td>0</td>\n",
              "      <td>0</td>\n",
              "      <td>0</td>\n",
              "      <td>0</td>\n",
              "      <td>0</td>\n",
              "      <td>0</td>\n",
              "      <td>0</td>\n",
              "      <td>0</td>\n",
              "      <td>0</td>\n",
              "      <td>1</td>\n",
              "      <td>0</td>\n",
              "    </tr>\n",
              "    <tr>\n",
              "      <th>33392</th>\n",
              "      <td>1</td>\n",
              "      <td>1</td>\n",
              "      <td>1.0</td>\n",
              "      <td>0.0</td>\n",
              "      <td>0</td>\n",
              "      <td>0</td>\n",
              "      <td>0</td>\n",
              "      <td>0</td>\n",
              "      <td>0</td>\n",
              "      <td>0</td>\n",
              "      <td>0</td>\n",
              "      <td>1</td>\n",
              "      <td>1</td>\n",
              "      <td>0</td>\n",
              "      <td>1</td>\n",
              "      <td>0</td>\n",
              "      <td>0</td>\n",
              "      <td>0</td>\n",
              "      <td>0</td>\n",
              "      <td>0</td>\n",
              "      <td>0</td>\n",
              "      <td>1</td>\n",
              "      <td>0</td>\n",
              "      <td>1</td>\n",
              "      <td>0</td>\n",
              "      <td>0</td>\n",
              "      <td>0</td>\n",
              "      <td>0</td>\n",
              "      <td>0</td>\n",
              "      <td>0</td>\n",
              "      <td>0</td>\n",
              "      <td>0</td>\n",
              "      <td>0</td>\n",
              "      <td>0</td>\n",
              "      <td>0</td>\n",
              "      <td>0</td>\n",
              "      <td>0</td>\n",
              "      <td>0</td>\n",
              "      <td>0</td>\n",
              "      <td>1</td>\n",
              "    </tr>\n",
              "    <tr>\n",
              "      <th>422855</th>\n",
              "      <td>2</td>\n",
              "      <td>1</td>\n",
              "      <td>1.0</td>\n",
              "      <td>0.0</td>\n",
              "      <td>0</td>\n",
              "      <td>0</td>\n",
              "      <td>0</td>\n",
              "      <td>0</td>\n",
              "      <td>1</td>\n",
              "      <td>0</td>\n",
              "      <td>0</td>\n",
              "      <td>0</td>\n",
              "      <td>1</td>\n",
              "      <td>0</td>\n",
              "      <td>1</td>\n",
              "      <td>0</td>\n",
              "      <td>0</td>\n",
              "      <td>0</td>\n",
              "      <td>0</td>\n",
              "      <td>0</td>\n",
              "      <td>0</td>\n",
              "      <td>1</td>\n",
              "      <td>0</td>\n",
              "      <td>1</td>\n",
              "      <td>0</td>\n",
              "      <td>0</td>\n",
              "      <td>0</td>\n",
              "      <td>0</td>\n",
              "      <td>0</td>\n",
              "      <td>0</td>\n",
              "      <td>0</td>\n",
              "      <td>0</td>\n",
              "      <td>0</td>\n",
              "      <td>0</td>\n",
              "      <td>0</td>\n",
              "      <td>0</td>\n",
              "      <td>0</td>\n",
              "      <td>0</td>\n",
              "      <td>1</td>\n",
              "      <td>0</td>\n",
              "    </tr>\n",
              "  </tbody>\n",
              "</table>\n",
              "</div>"
            ],
            "text/plain": [
              "        visitNumber  ...  trafficSource.medium_referral\n",
              "216037            1  ...                              1\n",
              "117215            1  ...                              0\n",
              "508167            1  ...                              0\n",
              "891219            1  ...                              1\n",
              "155947            1  ...                              1\n",
              "399143            1  ...                              0\n",
              "541379            1  ...                              1\n",
              "269322            2  ...                              0\n",
              "33392             1  ...                              1\n",
              "422855            2  ...                              0\n",
              "\n",
              "[10 rows x 40 columns]"
            ]
          },
          "metadata": {
            "tags": []
          },
          "execution_count": 14
        }
      ]
    },
    {
      "cell_type": "code",
      "metadata": {
        "colab": {
          "base_uri": "https://localhost:8080/"
        },
        "id": "zuAXB_IbFCSa",
        "outputId": "d111fe0f-7434-4e9b-ef78-bfd7a7645253"
      },
      "source": [
        "#identify target variable and independent variable \n",
        "y=train_encoded['totals.transactionRevenue']\n",
        "y = np.log1p(y)\n",
        "X=train_encoded.drop(['totals.transactionRevenue'],1)\n",
        "#split into train and test data\n",
        "X_train,X_test,y_train,y_test=train_test_split(X,y, train_size=0.8, test_size=0.2, random_state=0)\n",
        "print(X_train.shape)\n",
        "print(X_test.shape)\n",
        "print(y_train.shape)\n",
        "print(y_test.shape)"
      ],
      "execution_count": null,
      "outputs": [
        {
          "output_type": "stream",
          "text": [
            "(722842, 39)\n",
            "(180711, 39)\n",
            "(722842,)\n",
            "(180711,)\n"
          ],
          "name": "stdout"
        }
      ]
    },
    {
      "cell_type": "markdown",
      "metadata": {
        "id": "6Vbahm_RPZ0u"
      },
      "source": [
        "### 3. Modeling"
      ]
    },
    {
      "cell_type": "markdown",
      "metadata": {
        "id": "6VEh8J4DD8E5"
      },
      "source": [
        "####  LightGBM"
      ]
    },
    {
      "cell_type": "code",
      "metadata": {
        "colab": {
          "base_uri": "https://localhost:8080/"
        },
        "id": "8X3kWhL1D5an",
        "outputId": "d1b81d2a-3d0a-41ea-f88f-01a0342fb553"
      },
      "source": [
        "#find the best hyper parameters \n",
        "# Create the parameter grid based on the definition of the problem\n",
        "param_grid = {\n",
        "    'num_leaves':[20,30,50,70],\n",
        "    'max_depth': [30,50,70,90,100],\n",
        "    'feature_fraction': [0.6,0.7,0.8,0.9]\n",
        "}\n",
        "# Create a based model\n",
        "lgbm_model = LGBMRegressor(n_estimators=100,random_state=0)\n",
        "# Instantiate the grid search model\n",
        "grid_search = GridSearchCV(estimator = lgbm_model, param_grid = param_grid, \n",
        "                          cv = 5, n_jobs = -1, verbose = 2)\n",
        "#fit the data\n",
        "grid_search.fit(X_train, y_train)\n",
        "grid_search.best_params_"
      ],
      "execution_count": null,
      "outputs": [
        {
          "output_type": "stream",
          "text": [
            "Fitting 5 folds for each of 80 candidates, totalling 400 fits\n"
          ],
          "name": "stdout"
        },
        {
          "output_type": "stream",
          "text": [
            "[Parallel(n_jobs=-1)]: Using backend LokyBackend with 2 concurrent workers.\n",
            "[Parallel(n_jobs=-1)]: Done  37 tasks      | elapsed:  1.9min\n",
            "[Parallel(n_jobs=-1)]: Done 158 tasks      | elapsed:  7.9min\n",
            "[Parallel(n_jobs=-1)]: Done 361 tasks      | elapsed: 18.1min\n",
            "[Parallel(n_jobs=-1)]: Done 400 out of 400 | elapsed: 20.2min finished\n"
          ],
          "name": "stderr"
        },
        {
          "output_type": "execute_result",
          "data": {
            "text/plain": [
              "{'feature_fraction': 0.9, 'max_depth': 30, 'num_leaves': 30}"
            ]
          },
          "metadata": {
            "tags": []
          },
          "execution_count": 41
        }
      ]
    },
    {
      "cell_type": "code",
      "metadata": {
        "colab": {
          "base_uri": "https://localhost:8080/"
        },
        "id": "a1YmWs3tkQ3C",
        "outputId": "8c33c98d-ddad-43a1-9c1f-3bb489025e8a"
      },
      "source": [
        "#fit model\n",
        "lgbm_model = LGBMRegressor(n_estimators=100,random_state=0,feature_fraction=0.9, max_depth=30, num_leaves=30).fit(X_train, y_train)\n",
        "#feature selection\n",
        "lgbm_features=X_train.columns[lgbm_model.feature_importances_>5]\n",
        "\n",
        "#fit model with the important features \n",
        "lgbm_model_fs=LGBMRegressor(n_estimators=100,random_state=0,feature_fraction=0.9, max_depth=30, num_leaves=30).fit(X_train[lgbm_features], y_train)\n",
        "#predict \n",
        "lgbm_model_fs_pred=lgbm_model_fs.predict(X_test[lgbm_features])\n",
        "#performance (rmse)\n",
        "lgbm_model_fs_train_rmse=math.sqrt(statistics.mean(-cross_val_score(lgbm_model_fs, X_train[lgbm_features], y_train, cv=5, scoring='neg_mean_squared_error')))\n",
        "lgbm_model_fs_test_rmse=math.sqrt(statistics.mean(-cross_val_score(lgbm_model_fs, X_test[lgbm_features], y_test, cv=5, scoring='neg_mean_squared_error')))\n",
        "print(lgbm_model_fs_train_rmse)\n",
        "print(lgbm_model_fs_test_rmse)"
      ],
      "execution_count": null,
      "outputs": [
        {
          "output_type": "stream",
          "text": [
            "1.6612313941966983\n",
            "1.7090455661877857\n"
          ],
          "name": "stdout"
        }
      ]
    },
    {
      "cell_type": "code",
      "metadata": {
        "colab": {
          "base_uri": "https://localhost:8080/"
        },
        "id": "YnSTMioU0Y6r",
        "outputId": "435a3edf-d61f-4977-ce99-e45b89d37797"
      },
      "source": [
        "lgbm_model.feature_importances_"
      ],
      "execution_count": null,
      "outputs": [
        {
          "output_type": "execute_result",
          "data": {
            "text/plain": [
              "array([531, 875, 876,   0,   6,  61,  23,  53,   9,  84,  17,  48,   8,\n",
              "        33,  15,  10,   0,   0, 141,  14,   9,   0,   8,  11,   0,  13,\n",
              "         6,   0,   0,   3,   0,   0,  11,   0,   0,   1,   2,   7,  25])"
            ]
          },
          "metadata": {
            "tags": []
          },
          "execution_count": 15
        }
      ]
    },
    {
      "cell_type": "code",
      "metadata": {
        "colab": {
          "base_uri": "https://localhost:8080/"
        },
        "id": "tOy7TIBzxygH",
        "outputId": "657bf24c-983b-47aa-fe2f-83ccd8e549ef"
      },
      "source": [
        "lgbm_features"
      ],
      "execution_count": null,
      "outputs": [
        {
          "output_type": "execute_result",
          "data": {
            "text/plain": [
              "Index(['visitNumber', 'totals.hits', 'totals.pageviews',\n",
              "       'channelGrouping_Affiliates', 'channelGrouping_Direct',\n",
              "       'channelGrouping_Display', 'channelGrouping_Organic Search',\n",
              "       'channelGrouping_Paid Search', 'channelGrouping_Referral',\n",
              "       'channelGrouping_Social', 'device.isMobile_False',\n",
              "       'device.isMobile_True', 'device.deviceCategory_desktop',\n",
              "       'device.deviceCategory_mobile', 'device.deviceCategory_tablet',\n",
              "       'geoNetwork.continent_Americas', 'geoNetwork.continent_Asia',\n",
              "       'geoNetwork.continent_Europe', 'trafficSource.campaign_(not set)',\n",
              "       'trafficSource.campaign_AW - Accessories',\n",
              "       'trafficSource.campaign_AW - Dynamic Search Ads Whole Site',\n",
              "       'trafficSource.campaign_AW - Electronics',\n",
              "       'trafficSource.medium_(none)', 'trafficSource.medium_organic',\n",
              "       'trafficSource.medium_referral'],\n",
              "      dtype='object')"
            ]
          },
          "metadata": {
            "tags": []
          },
          "execution_count": 43
        }
      ]
    },
    {
      "cell_type": "code",
      "metadata": {
        "colab": {
          "base_uri": "https://localhost:8080/"
        },
        "id": "W4RY_Gg_c5PA",
        "outputId": "59d39a27-b525-47f8-f572-0896812c8740"
      },
      "source": [
        "%%time\n",
        "#fit model with 'min_data_in_leaf' to see if there is overfitting problem\n",
        "lgbm_model = LGBMRegressor(n_estimators=100,random_state=0,feature_fraction=0.9, max_depth=30, num_leaves=30,min_data_in_leaf=300).fit(X_train, y_train)\n",
        "#feature selection\n",
        "lgbm_features=X_train.columns[lgbm_model.feature_importances_>5]\n",
        "\n",
        "#fit model with the important features \n",
        "lgbm_model_fs=LGBMRegressor(n_estimators=100,random_state=0,feature_fraction=0.9, max_depth=30, num_leaves=30,min_data_in_leaf=300).fit(X_train[lgbm_features], y_train)\n",
        "#predict \n",
        "lgbm_model_fs_pred=lgbm_model_fs.predict(X_test[lgbm_features])\n",
        "#performance (rmse)\n",
        "lgbm_model_fs_train_rmse=math.sqrt(statistics.mean(-cross_val_score(lgbm_model_fs, X_train[lgbm_features], y_train, cv=5, scoring='neg_mean_squared_error')))\n",
        "lgbm_model_fs_test_rmse=math.sqrt(statistics.mean(-cross_val_score(lgbm_model_fs, X_test[lgbm_features], y_test, cv=5, scoring='neg_mean_squared_error')))\n",
        "print(lgbm_model_fs_train_rmse)\n",
        "print(lgbm_model_fs_test_rmse)"
      ],
      "execution_count": null,
      "outputs": [
        {
          "output_type": "stream",
          "text": [
            "1.65964043745461\n",
            "1.6946854375590736\n",
            "CPU times: user 56.5 s, sys: 314 ms, total: 56.8 s\n",
            "Wall time: 29.9 s\n"
          ],
          "name": "stdout"
        }
      ]
    },
    {
      "cell_type": "code",
      "metadata": {
        "colab": {
          "base_uri": "https://localhost:8080/"
        },
        "id": "BHYm11ML01AX",
        "outputId": "ca321227-70a6-4368-fac9-91129cb8626e"
      },
      "source": [
        "lgbm_model.feature_importances_"
      ],
      "execution_count": null,
      "outputs": [
        {
          "output_type": "execute_result",
          "data": {
            "text/plain": [
              "array([ 406, 1015,  940,    0,    6,   50,    6,   60,    1,   88,   14,\n",
              "         57,    7,   39,    8,    0,    0,    0,  148,    3,    6,    0,\n",
              "          2,    1,    0,    0,    0,    0,    0,    0,    0,    0,    7,\n",
              "          0,    0,    0,    2,   12,   22])"
            ]
          },
          "metadata": {
            "tags": []
          },
          "execution_count": 17
        }
      ]
    },
    {
      "cell_type": "code",
      "metadata": {
        "colab": {
          "base_uri": "https://localhost:8080/"
        },
        "id": "m8ZY2vlXx2b6",
        "outputId": "69bf173e-257e-4caf-aa3f-04bbeb1660d7"
      },
      "source": [
        "lgbm_features"
      ],
      "execution_count": null,
      "outputs": [
        {
          "output_type": "execute_result",
          "data": {
            "text/plain": [
              "Index(['visitNumber', 'totals.hits', 'totals.pageviews',\n",
              "       'channelGrouping_Affiliates', 'channelGrouping_Direct',\n",
              "       'channelGrouping_Display', 'channelGrouping_Organic Search',\n",
              "       'channelGrouping_Referral', 'channelGrouping_Social',\n",
              "       'device.isMobile_False', 'device.isMobile_True',\n",
              "       'device.deviceCategory_desktop', 'device.deviceCategory_mobile',\n",
              "       'geoNetwork.continent_Americas', 'geoNetwork.continent_Europe',\n",
              "       'trafficSource.medium_(none)', 'trafficSource.medium_organic',\n",
              "       'trafficSource.medium_referral'],\n",
              "      dtype='object')"
            ]
          },
          "metadata": {
            "tags": []
          },
          "execution_count": 58
        }
      ]
    },
    {
      "cell_type": "markdown",
      "metadata": {
        "id": "Gl20q0qu-0nS"
      },
      "source": [
        "####XGB"
      ]
    },
    {
      "cell_type": "code",
      "metadata": {
        "id": "TO2Fhwgx-5dV"
      },
      "source": [
        "import xgboost as xgb\n",
        "from sklearn.metrics import mean_squared_error\n",
        "def mod_xgb(X_train,y_train,X_test,y_test):\n",
        "  params = {'objective': 'reg:linear',\n",
        "              'eval_metric': 'rmse',\n",
        "              'eta': 0.005,\n",
        "              'max_depth': 10,\n",
        "              'colsample_bytree': 0.6,\n",
        "              'alpha':0.001,\n",
        "              'random_state': 24,\n",
        "              'silent':True}\n",
        "  xgb_train  = xgb.DMatrix(X_train,y_train)\n",
        "  xgb_test = xgb.DMatrix(X_test,y_test)\n",
        "  evals = [(xgb_train,'train'), (xgb_test,'valid')]\n",
        "  #XGB Model\n",
        "  xgb_model  = xgb.train(params, xgb_train, num_boost_round=200, \n",
        "                        evals = evals,\n",
        "                        early_stopping_rounds = 100,\n",
        "                         verbose_eval = 10)\n",
        "  #Predict\n",
        "  y_pred_train=xgb_model.predict(xgb_train, ntree_limit=xgb_model.best_ntree_limit)\n",
        "  y_pred_test=xgb_model.predict(xgb_test, ntree_limit=xgb_model.best_ntree_limit)\n",
        "  #performance (rmse)\n",
        "  xgb_train_rmse = sqrt(mean_squared_error(y_train, y_pred_train))\n",
        "  xgb_test_rmse = sqrt(mean_squared_error(y_test, y_pred_test))\n",
        "  print(f\"XGB : RMSE test: {xgb_test_rmse}  - RMSE train: {xgb_train_rmse}\")\n",
        "  return xgb_model"
      ],
      "execution_count": null,
      "outputs": []
    },
    {
      "cell_type": "code",
      "metadata": {
        "colab": {
          "base_uri": "https://localhost:8080/"
        },
        "id": "MpASjhCuK0Du",
        "outputId": "d47fa43d-590a-4898-9467-533783a753ab"
      },
      "source": [
        "%%time\n",
        "xgbpred = mod_xgb(X_train,y_train,X_test,y_test)"
      ],
      "execution_count": null,
      "outputs": [
        {
          "output_type": "stream",
          "text": [
            "[0]\ttrain-rmse:2.01584\tvalid-rmse:2.03552\n",
            "Multiple eval metrics have been passed: 'valid-rmse' will be used for early stopping.\n",
            "\n",
            "Will train until valid-rmse hasn't improved in 100 rounds.\n",
            "[10]\ttrain-rmse:1.99147\tvalid-rmse:2.0084\n",
            "[20]\ttrain-rmse:1.96475\tvalid-rmse:1.98556\n",
            "[30]\ttrain-rmse:1.93683\tvalid-rmse:1.96249\n",
            "[40]\ttrain-rmse:1.91948\tvalid-rmse:1.94437\n",
            "[50]\ttrain-rmse:1.90077\tvalid-rmse:1.9292\n",
            "[60]\ttrain-rmse:1.88327\tvalid-rmse:1.91152\n",
            "[70]\ttrain-rmse:1.86608\tvalid-rmse:1.89398\n",
            "[80]\ttrain-rmse:1.85264\tvalid-rmse:1.8799\n",
            "[90]\ttrain-rmse:1.83938\tvalid-rmse:1.86645\n",
            "[100]\ttrain-rmse:1.82394\tvalid-rmse:1.85499\n",
            "[110]\ttrain-rmse:1.8122\tvalid-rmse:1.84439\n",
            "[120]\ttrain-rmse:1.799\tvalid-rmse:1.83245\n",
            "[130]\ttrain-rmse:1.78991\tvalid-rmse:1.82313\n",
            "[140]\ttrain-rmse:1.77746\tvalid-rmse:1.81286\n",
            "[150]\ttrain-rmse:1.76713\tvalid-rmse:1.80349\n",
            "[160]\ttrain-rmse:1.75728\tvalid-rmse:1.79396\n",
            "[170]\ttrain-rmse:1.75035\tvalid-rmse:1.78773\n",
            "[180]\ttrain-rmse:1.7428\tvalid-rmse:1.78083\n",
            "[190]\ttrain-rmse:1.73523\tvalid-rmse:1.77335\n",
            "[199]\ttrain-rmse:1.7279\tvalid-rmse:1.76661\n",
            "XGB : RMSE test: 1.7668632621602682  - RMSE train: 1.7253954832498553\n",
            "CPU times: user 10min 48s, sys: 919 ms, total: 10min 49s\n",
            "Wall time: 5min 30s\n"
          ],
          "name": "stdout"
        }
      ]
    },
    {
      "cell_type": "code",
      "metadata": {
        "colab": {
          "base_uri": "https://localhost:8080/",
          "height": 1000
        },
        "id": "rzyp-BE6PuQc",
        "outputId": "1c4c771b-1fdd-42c3-fcfb-5fdb326b59d3"
      },
      "source": [
        "#Cross-validation\n",
        "arams = {'objective': 'reg:linear',\n",
        "              'eval_metric': 'rmse',\n",
        "              'eta': 0.005,\n",
        "              'max_depth': 10,\n",
        "              'colsample_bytree': 0.6,\n",
        "              'alpha':0.001,\n",
        "              'random_state': 24,\n",
        "              'silent':True}\n",
        "data_dmatrix = xgb.DMatrix(data=X,label=y)\n",
        "cv_results = xgb.cv(dtrain=data_dmatrix, params=params, nfold=3,\n",
        "                    num_boost_round=50,early_stopping_rounds=10,metrics=\"rmse\", as_pandas=True, seed=123)\n",
        "cv_results"
      ],
      "execution_count": null,
      "outputs": [
        {
          "output_type": "execute_result",
          "data": {
            "text/html": [
              "<div>\n",
              "<style scoped>\n",
              "    .dataframe tbody tr th:only-of-type {\n",
              "        vertical-align: middle;\n",
              "    }\n",
              "\n",
              "    .dataframe tbody tr th {\n",
              "        vertical-align: top;\n",
              "    }\n",
              "\n",
              "    .dataframe thead th {\n",
              "        text-align: right;\n",
              "    }\n",
              "</style>\n",
              "<table border=\"1\" class=\"dataframe\">\n",
              "  <thead>\n",
              "    <tr style=\"text-align: right;\">\n",
              "      <th></th>\n",
              "      <th>train-rmse-mean</th>\n",
              "      <th>train-rmse-std</th>\n",
              "      <th>test-rmse-mean</th>\n",
              "      <th>test-rmse-std</th>\n",
              "    </tr>\n",
              "  </thead>\n",
              "  <tbody>\n",
              "    <tr>\n",
              "      <th>0</th>\n",
              "      <td>2.019766</td>\n",
              "      <td>0.004126</td>\n",
              "      <td>2.019895</td>\n",
              "      <td>0.008270</td>\n",
              "    </tr>\n",
              "    <tr>\n",
              "      <th>1</th>\n",
              "      <td>2.017079</td>\n",
              "      <td>0.004069</td>\n",
              "      <td>2.017298</td>\n",
              "      <td>0.008318</td>\n",
              "    </tr>\n",
              "    <tr>\n",
              "      <th>2</th>\n",
              "      <td>2.014615</td>\n",
              "      <td>0.004140</td>\n",
              "      <td>2.014949</td>\n",
              "      <td>0.008218</td>\n",
              "    </tr>\n",
              "    <tr>\n",
              "      <th>3</th>\n",
              "      <td>2.012584</td>\n",
              "      <td>0.005259</td>\n",
              "      <td>2.012614</td>\n",
              "      <td>0.007124</td>\n",
              "    </tr>\n",
              "    <tr>\n",
              "      <th>4</th>\n",
              "      <td>2.009892</td>\n",
              "      <td>0.005233</td>\n",
              "      <td>2.009936</td>\n",
              "      <td>0.007167</td>\n",
              "    </tr>\n",
              "    <tr>\n",
              "      <th>5</th>\n",
              "      <td>2.007383</td>\n",
              "      <td>0.005539</td>\n",
              "      <td>2.007522</td>\n",
              "      <td>0.006959</td>\n",
              "    </tr>\n",
              "    <tr>\n",
              "      <th>6</th>\n",
              "      <td>2.003648</td>\n",
              "      <td>0.005762</td>\n",
              "      <td>2.002548</td>\n",
              "      <td>0.006521</td>\n",
              "    </tr>\n",
              "    <tr>\n",
              "      <th>7</th>\n",
              "      <td>2.002118</td>\n",
              "      <td>0.006639</td>\n",
              "      <td>2.001036</td>\n",
              "      <td>0.005773</td>\n",
              "    </tr>\n",
              "    <tr>\n",
              "      <th>8</th>\n",
              "      <td>1.999619</td>\n",
              "      <td>0.006555</td>\n",
              "      <td>1.998510</td>\n",
              "      <td>0.005934</td>\n",
              "    </tr>\n",
              "    <tr>\n",
              "      <th>9</th>\n",
              "      <td>1.997037</td>\n",
              "      <td>0.006432</td>\n",
              "      <td>1.995698</td>\n",
              "      <td>0.006005</td>\n",
              "    </tr>\n",
              "    <tr>\n",
              "      <th>10</th>\n",
              "      <td>1.994611</td>\n",
              "      <td>0.006453</td>\n",
              "      <td>1.993245</td>\n",
              "      <td>0.006106</td>\n",
              "    </tr>\n",
              "    <tr>\n",
              "      <th>11</th>\n",
              "      <td>1.993035</td>\n",
              "      <td>0.005832</td>\n",
              "      <td>1.991620</td>\n",
              "      <td>0.006735</td>\n",
              "    </tr>\n",
              "    <tr>\n",
              "      <th>12</th>\n",
              "      <td>1.990824</td>\n",
              "      <td>0.005982</td>\n",
              "      <td>1.989473</td>\n",
              "      <td>0.006594</td>\n",
              "    </tr>\n",
              "    <tr>\n",
              "      <th>13</th>\n",
              "      <td>1.983626</td>\n",
              "      <td>0.006856</td>\n",
              "      <td>1.986051</td>\n",
              "      <td>0.006254</td>\n",
              "    </tr>\n",
              "    <tr>\n",
              "      <th>14</th>\n",
              "      <td>1.981424</td>\n",
              "      <td>0.006083</td>\n",
              "      <td>1.984334</td>\n",
              "      <td>0.006847</td>\n",
              "    </tr>\n",
              "    <tr>\n",
              "      <th>15</th>\n",
              "      <td>1.980230</td>\n",
              "      <td>0.004802</td>\n",
              "      <td>1.983252</td>\n",
              "      <td>0.007979</td>\n",
              "    </tr>\n",
              "    <tr>\n",
              "      <th>16</th>\n",
              "      <td>1.977730</td>\n",
              "      <td>0.004541</td>\n",
              "      <td>1.980901</td>\n",
              "      <td>0.008170</td>\n",
              "    </tr>\n",
              "    <tr>\n",
              "      <th>17</th>\n",
              "      <td>1.975786</td>\n",
              "      <td>0.005740</td>\n",
              "      <td>1.978975</td>\n",
              "      <td>0.007197</td>\n",
              "    </tr>\n",
              "    <tr>\n",
              "      <th>18</th>\n",
              "      <td>1.973147</td>\n",
              "      <td>0.005718</td>\n",
              "      <td>1.976511</td>\n",
              "      <td>0.007119</td>\n",
              "    </tr>\n",
              "    <tr>\n",
              "      <th>19</th>\n",
              "      <td>1.971428</td>\n",
              "      <td>0.005754</td>\n",
              "      <td>1.974896</td>\n",
              "      <td>0.007585</td>\n",
              "    </tr>\n",
              "    <tr>\n",
              "      <th>20</th>\n",
              "      <td>1.969006</td>\n",
              "      <td>0.006748</td>\n",
              "      <td>1.971839</td>\n",
              "      <td>0.006587</td>\n",
              "    </tr>\n",
              "    <tr>\n",
              "      <th>21</th>\n",
              "      <td>1.966407</td>\n",
              "      <td>0.006851</td>\n",
              "      <td>1.968985</td>\n",
              "      <td>0.006667</td>\n",
              "    </tr>\n",
              "    <tr>\n",
              "      <th>22</th>\n",
              "      <td>1.963870</td>\n",
              "      <td>0.007005</td>\n",
              "      <td>1.966427</td>\n",
              "      <td>0.006565</td>\n",
              "    </tr>\n",
              "    <tr>\n",
              "      <th>23</th>\n",
              "      <td>1.961669</td>\n",
              "      <td>0.006786</td>\n",
              "      <td>1.964255</td>\n",
              "      <td>0.006618</td>\n",
              "    </tr>\n",
              "    <tr>\n",
              "      <th>24</th>\n",
              "      <td>1.959128</td>\n",
              "      <td>0.006700</td>\n",
              "      <td>1.961656</td>\n",
              "      <td>0.006642</td>\n",
              "    </tr>\n",
              "    <tr>\n",
              "      <th>25</th>\n",
              "      <td>1.958141</td>\n",
              "      <td>0.005709</td>\n",
              "      <td>1.960626</td>\n",
              "      <td>0.007629</td>\n",
              "    </tr>\n",
              "    <tr>\n",
              "      <th>26</th>\n",
              "      <td>1.955701</td>\n",
              "      <td>0.005683</td>\n",
              "      <td>1.958235</td>\n",
              "      <td>0.007566</td>\n",
              "    </tr>\n",
              "    <tr>\n",
              "      <th>27</th>\n",
              "      <td>1.953480</td>\n",
              "      <td>0.005900</td>\n",
              "      <td>1.956038</td>\n",
              "      <td>0.007436</td>\n",
              "    </tr>\n",
              "    <tr>\n",
              "      <th>28</th>\n",
              "      <td>1.950909</td>\n",
              "      <td>0.005153</td>\n",
              "      <td>1.954702</td>\n",
              "      <td>0.007610</td>\n",
              "    </tr>\n",
              "    <tr>\n",
              "      <th>29</th>\n",
              "      <td>1.948928</td>\n",
              "      <td>0.006106</td>\n",
              "      <td>1.953265</td>\n",
              "      <td>0.006706</td>\n",
              "    </tr>\n",
              "    <tr>\n",
              "      <th>30</th>\n",
              "      <td>1.946784</td>\n",
              "      <td>0.006201</td>\n",
              "      <td>1.951305</td>\n",
              "      <td>0.006662</td>\n",
              "    </tr>\n",
              "    <tr>\n",
              "      <th>31</th>\n",
              "      <td>1.944340</td>\n",
              "      <td>0.006488</td>\n",
              "      <td>1.949169</td>\n",
              "      <td>0.006423</td>\n",
              "    </tr>\n",
              "    <tr>\n",
              "      <th>32</th>\n",
              "      <td>1.942688</td>\n",
              "      <td>0.007375</td>\n",
              "      <td>1.947534</td>\n",
              "      <td>0.005512</td>\n",
              "    </tr>\n",
              "    <tr>\n",
              "      <th>33</th>\n",
              "      <td>1.941174</td>\n",
              "      <td>0.006627</td>\n",
              "      <td>1.945948</td>\n",
              "      <td>0.006128</td>\n",
              "    </tr>\n",
              "    <tr>\n",
              "      <th>34</th>\n",
              "      <td>1.939322</td>\n",
              "      <td>0.006410</td>\n",
              "      <td>1.944124</td>\n",
              "      <td>0.006371</td>\n",
              "    </tr>\n",
              "    <tr>\n",
              "      <th>35</th>\n",
              "      <td>1.938437</td>\n",
              "      <td>0.005353</td>\n",
              "      <td>1.943238</td>\n",
              "      <td>0.007323</td>\n",
              "    </tr>\n",
              "    <tr>\n",
              "      <th>36</th>\n",
              "      <td>1.936853</td>\n",
              "      <td>0.006294</td>\n",
              "      <td>1.941713</td>\n",
              "      <td>0.006449</td>\n",
              "    </tr>\n",
              "    <tr>\n",
              "      <th>37</th>\n",
              "      <td>1.934038</td>\n",
              "      <td>0.006344</td>\n",
              "      <td>1.938236</td>\n",
              "      <td>0.006408</td>\n",
              "    </tr>\n",
              "    <tr>\n",
              "      <th>38</th>\n",
              "      <td>1.931852</td>\n",
              "      <td>0.006132</td>\n",
              "      <td>1.935875</td>\n",
              "      <td>0.006581</td>\n",
              "    </tr>\n",
              "    <tr>\n",
              "      <th>39</th>\n",
              "      <td>1.930204</td>\n",
              "      <td>0.005694</td>\n",
              "      <td>1.934128</td>\n",
              "      <td>0.007030</td>\n",
              "    </tr>\n",
              "    <tr>\n",
              "      <th>40</th>\n",
              "      <td>1.927960</td>\n",
              "      <td>0.005789</td>\n",
              "      <td>1.931928</td>\n",
              "      <td>0.007008</td>\n",
              "    </tr>\n",
              "    <tr>\n",
              "      <th>41</th>\n",
              "      <td>1.926682</td>\n",
              "      <td>0.006480</td>\n",
              "      <td>1.930529</td>\n",
              "      <td>0.006456</td>\n",
              "    </tr>\n",
              "    <tr>\n",
              "      <th>42</th>\n",
              "      <td>1.925023</td>\n",
              "      <td>0.005946</td>\n",
              "      <td>1.928743</td>\n",
              "      <td>0.007187</td>\n",
              "    </tr>\n",
              "    <tr>\n",
              "      <th>43</th>\n",
              "      <td>1.923546</td>\n",
              "      <td>0.006811</td>\n",
              "      <td>1.927205</td>\n",
              "      <td>0.006290</td>\n",
              "    </tr>\n",
              "    <tr>\n",
              "      <th>44</th>\n",
              "      <td>1.921501</td>\n",
              "      <td>0.006896</td>\n",
              "      <td>1.925133</td>\n",
              "      <td>0.006285</td>\n",
              "    </tr>\n",
              "    <tr>\n",
              "      <th>45</th>\n",
              "      <td>1.919745</td>\n",
              "      <td>0.006785</td>\n",
              "      <td>1.923368</td>\n",
              "      <td>0.006317</td>\n",
              "    </tr>\n",
              "    <tr>\n",
              "      <th>46</th>\n",
              "      <td>1.915720</td>\n",
              "      <td>0.007286</td>\n",
              "      <td>1.921225</td>\n",
              "      <td>0.006331</td>\n",
              "    </tr>\n",
              "    <tr>\n",
              "      <th>47</th>\n",
              "      <td>1.911893</td>\n",
              "      <td>0.006979</td>\n",
              "      <td>1.919089</td>\n",
              "      <td>0.006338</td>\n",
              "    </tr>\n",
              "    <tr>\n",
              "      <th>48</th>\n",
              "      <td>1.909370</td>\n",
              "      <td>0.006836</td>\n",
              "      <td>1.917155</td>\n",
              "      <td>0.006309</td>\n",
              "    </tr>\n",
              "    <tr>\n",
              "      <th>49</th>\n",
              "      <td>1.906605</td>\n",
              "      <td>0.006961</td>\n",
              "      <td>1.915027</td>\n",
              "      <td>0.006391</td>\n",
              "    </tr>\n",
              "  </tbody>\n",
              "</table>\n",
              "</div>"
            ],
            "text/plain": [
              "    train-rmse-mean  train-rmse-std  test-rmse-mean  test-rmse-std\n",
              "0          2.019766        0.004126        2.019895       0.008270\n",
              "1          2.017079        0.004069        2.017298       0.008318\n",
              "2          2.014615        0.004140        2.014949       0.008218\n",
              "3          2.012584        0.005259        2.012614       0.007124\n",
              "4          2.009892        0.005233        2.009936       0.007167\n",
              "5          2.007383        0.005539        2.007522       0.006959\n",
              "6          2.003648        0.005762        2.002548       0.006521\n",
              "7          2.002118        0.006639        2.001036       0.005773\n",
              "8          1.999619        0.006555        1.998510       0.005934\n",
              "9          1.997037        0.006432        1.995698       0.006005\n",
              "10         1.994611        0.006453        1.993245       0.006106\n",
              "11         1.993035        0.005832        1.991620       0.006735\n",
              "12         1.990824        0.005982        1.989473       0.006594\n",
              "13         1.983626        0.006856        1.986051       0.006254\n",
              "14         1.981424        0.006083        1.984334       0.006847\n",
              "15         1.980230        0.004802        1.983252       0.007979\n",
              "16         1.977730        0.004541        1.980901       0.008170\n",
              "17         1.975786        0.005740        1.978975       0.007197\n",
              "18         1.973147        0.005718        1.976511       0.007119\n",
              "19         1.971428        0.005754        1.974896       0.007585\n",
              "20         1.969006        0.006748        1.971839       0.006587\n",
              "21         1.966407        0.006851        1.968985       0.006667\n",
              "22         1.963870        0.007005        1.966427       0.006565\n",
              "23         1.961669        0.006786        1.964255       0.006618\n",
              "24         1.959128        0.006700        1.961656       0.006642\n",
              "25         1.958141        0.005709        1.960626       0.007629\n",
              "26         1.955701        0.005683        1.958235       0.007566\n",
              "27         1.953480        0.005900        1.956038       0.007436\n",
              "28         1.950909        0.005153        1.954702       0.007610\n",
              "29         1.948928        0.006106        1.953265       0.006706\n",
              "30         1.946784        0.006201        1.951305       0.006662\n",
              "31         1.944340        0.006488        1.949169       0.006423\n",
              "32         1.942688        0.007375        1.947534       0.005512\n",
              "33         1.941174        0.006627        1.945948       0.006128\n",
              "34         1.939322        0.006410        1.944124       0.006371\n",
              "35         1.938437        0.005353        1.943238       0.007323\n",
              "36         1.936853        0.006294        1.941713       0.006449\n",
              "37         1.934038        0.006344        1.938236       0.006408\n",
              "38         1.931852        0.006132        1.935875       0.006581\n",
              "39         1.930204        0.005694        1.934128       0.007030\n",
              "40         1.927960        0.005789        1.931928       0.007008\n",
              "41         1.926682        0.006480        1.930529       0.006456\n",
              "42         1.925023        0.005946        1.928743       0.007187\n",
              "43         1.923546        0.006811        1.927205       0.006290\n",
              "44         1.921501        0.006896        1.925133       0.006285\n",
              "45         1.919745        0.006785        1.923368       0.006317\n",
              "46         1.915720        0.007286        1.921225       0.006331\n",
              "47         1.911893        0.006979        1.919089       0.006338\n",
              "48         1.909370        0.006836        1.917155       0.006309\n",
              "49         1.906605        0.006961        1.915027       0.006391"
            ]
          },
          "metadata": {
            "tags": []
          },
          "execution_count": 24
        }
      ]
    },
    {
      "cell_type": "code",
      "metadata": {
        "colab": {
          "base_uri": "https://localhost:8080/"
        },
        "id": "YxtNDtSdQG5n",
        "outputId": "5c50fa4d-10bd-4420-be01-42c835fe859d"
      },
      "source": [
        "#Hyperparameter (eta, colsample)\n",
        "dtrain  = xgb.DMatrix(X_train,y_train)\n",
        "gridsearch_params = [\n",
        "    (eta, colsample)\n",
        "    for eta in [.05, .01, .005]\n",
        "    for colsample in [i/10. for i in range(6,9)]\n",
        "]\n",
        "\n",
        "min_rmse = float(\"Inf\")\n",
        "best_params = None\n",
        "\n",
        "for eta, colsample in (gridsearch_params):\n",
        "    print(\"CV with eta={}, colsample={}\".format(\n",
        "                             eta,\n",
        "                             colsample))\n",
        "    #update parameters\n",
        "    params['eta'] = eta\n",
        "    params['colsample_bytree'] = colsample\n",
        "    # Run CV\n",
        "    cv_results = xgb.cv(\n",
        "        params,\n",
        "        dtrain,\n",
        "        num_boost_round=30,\n",
        "        seed=34,\n",
        "        nfold=3,\n",
        "        metrics={'rmse'},\n",
        "        early_stopping_rounds=10\n",
        "    )\n",
        "    # Update best score\n",
        "    mean_rmse = cv_results['test-rmse-mean'].min()\n",
        "    boost_rounds = cv_results['test-rmse-mean'].argmin()\n",
        "    print(\"\\tRMSE {} for {} rounds\".format(mean_rmse, boost_rounds))\n",
        "    if mean_rmse < min_rmse:\n",
        "        min_rmse = mean_rmse\n",
        "        best_params = (eta,colsample)\n",
        "print(\"Best params: {}, {}, RMSE: {}\".format(best_params[0], best_params[1], min_rmse))"
      ],
      "execution_count": null,
      "outputs": [
        {
          "output_type": "stream",
          "text": [
            "CV with eta=0.05, colsample=0.6\n",
            "\tRMSE 1.7057346666666666 for 29 rounds\n",
            "CV with eta=0.05, colsample=0.7\n",
            "\tRMSE 1.6931510000000003 for 29 rounds\n",
            "CV with eta=0.05, colsample=0.8\n",
            "\tRMSE 1.6880513333333331 for 29 rounds\n",
            "CV with eta=0.01, colsample=0.6\n",
            "\tRMSE 1.8929953333333334 for 29 rounds\n",
            "CV with eta=0.01, colsample=0.7\n",
            "\tRMSE 1.8819956666666666 for 29 rounds\n",
            "CV with eta=0.01, colsample=0.8\n",
            "\tRMSE 1.8751666666666669 for 29 rounds\n",
            "CV with eta=0.005, colsample=0.6\n",
            "\tRMSE 1.9494323333333334 for 29 rounds\n",
            "CV with eta=0.005, colsample=0.7\n",
            "\tRMSE 1.9429216666666669 for 29 rounds\n",
            "CV with eta=0.005, colsample=0.8\n",
            "\tRMSE 1.9388606666666668 for 29 rounds\n",
            "Best params: 0.05, 0.8, RMSE: 1.6880513333333331\n"
          ],
          "name": "stdout"
        }
      ]
    },
    {
      "cell_type": "code",
      "metadata": {
        "id": "6UokKef3c4n9",
        "colab": {
          "base_uri": "https://localhost:8080/"
        },
        "outputId": "ab836c34-02be-4a2f-e25f-2b0f11326af7"
      },
      "source": [
        "#Train with new Hyperparameter\n",
        "params = {'objective': 'reg:linear',\n",
        "              'eval_metric': 'rmse',\n",
        "              'eta': 0.05,\n",
        "              'max_depth': 10,\n",
        "              'colsample_bytree': 0.8,\n",
        "              'alpha':0.001,\n",
        "              'random_state': 24,\n",
        "              'silent':True}\n",
        "xgb_train  = xgb.DMatrix(X_train,y_train)\n",
        "xgb_test = xgb.DMatrix(X_test,y_test)\n",
        "evals = [(xgb_train,'train'), (xgb_test,'valid')]\n",
        "#XGB Model\n",
        "xgb_model  = xgb.train(params, xgb_train, num_boost_round=200, \n",
        "                        evals = evals,\n",
        "                        early_stopping_rounds = 100,\n",
        "                         verbose_eval = 10)\n",
        "#Predict\n",
        "y_pred_train=xgb_model.predict(xgb_train, ntree_limit=xgb_model.best_ntree_limit)\n",
        "y_pred_test=xgb_model.predict(xgb_test, ntree_limit=xgb_model.best_ntree_limit)\n",
        "#Feature Importance\n",
        "feature_important = xgb_model.get_score(importance_type='weight')\n",
        "keys = list(feature_important.keys())\n",
        "values = list(feature_important.values())\n",
        "xgb_importance = pd.DataFrame(data=values, index=keys, columns=[\"score\"]).sort_values(by = \"score\", ascending=False)\n",
        "xgb_importance = xgb_importance[xgb_importance.score > 500]"
      ],
      "execution_count": null,
      "outputs": [
        {
          "output_type": "stream",
          "text": [
            "[0]\ttrain-rmse:1.98886\tvalid-rmse:2.00595\n",
            "Multiple eval metrics have been passed: 'valid-rmse' will be used for early stopping.\n",
            "\n",
            "Will train until valid-rmse hasn't improved in 100 rounds.\n",
            "[10]\ttrain-rmse:1.77294\tvalid-rmse:1.81192\n",
            "[20]\ttrain-rmse:1.67825\tvalid-rmse:1.73429\n",
            "[30]\ttrain-rmse:1.63403\tvalid-rmse:1.70094\n",
            "[40]\ttrain-rmse:1.61017\tvalid-rmse:1.68617\n",
            "[50]\ttrain-rmse:1.59666\tvalid-rmse:1.68089\n",
            "[60]\ttrain-rmse:1.58133\tvalid-rmse:1.6776\n",
            "[70]\ttrain-rmse:1.57193\tvalid-rmse:1.67629\n",
            "[80]\ttrain-rmse:1.55979\tvalid-rmse:1.67589\n",
            "[90]\ttrain-rmse:1.54889\tvalid-rmse:1.67575\n",
            "[100]\ttrain-rmse:1.54133\tvalid-rmse:1.67627\n",
            "[110]\ttrain-rmse:1.53633\tvalid-rmse:1.67672\n",
            "[120]\ttrain-rmse:1.53257\tvalid-rmse:1.67742\n",
            "[130]\ttrain-rmse:1.52942\tvalid-rmse:1.67767\n",
            "[140]\ttrain-rmse:1.52657\tvalid-rmse:1.67825\n",
            "[150]\ttrain-rmse:1.52228\tvalid-rmse:1.67889\n",
            "[160]\ttrain-rmse:1.51875\tvalid-rmse:1.67901\n",
            "[170]\ttrain-rmse:1.51637\tvalid-rmse:1.67952\n",
            "[180]\ttrain-rmse:1.5131\tvalid-rmse:1.68002\n",
            "Stopping. Best iteration:\n",
            "[89]\ttrain-rmse:1.55007\tvalid-rmse:1.67562\n",
            "\n"
          ],
          "name": "stdout"
        }
      ]
    },
    {
      "cell_type": "code",
      "metadata": {
        "colab": {
          "base_uri": "https://localhost:8080/",
          "height": 1000
        },
        "id": "FmIK1105aRQQ",
        "outputId": "87a2b4fb-2a66-4fac-a0e5-903057773972"
      },
      "source": [
        "xgb.plot_importance(xgb_model)\n",
        "plt.rcParams['figure.figsize'] = [20,20]\n",
        "plt.show()"
      ],
      "execution_count": null,
      "outputs": [
        {
          "output_type": "display_data",
          "data": {
            "image/png": "[encoded data removed]",
            "text/plain": [
              "<Figure size 2160x2160 with 1 Axes>"
            ]
          },
          "metadata": {
            "tags": [],
            "needs_background": "light"
          }
        }
      ]
    },
    {
      "cell_type": "code",
      "metadata": {
        "id": "IA2FjrQ1fgZo",
        "colab": {
          "base_uri": "https://localhost:8080/"
        },
        "outputId": "df0c4ff4-5fa1-410e-dd1a-c28d014c922a"
      },
      "source": [
        "#Train with feature importance\n",
        "%%time\n",
        "xgb_train_fs  = xgb.DMatrix(X_train[xgb_importance.index],y_train)\n",
        "xgb_test_fs = xgb.DMatrix(X_test[xgb_importance.index],y_test)\n",
        "evals = [(xgb_train_fs,'train'), (xgb_test_fs,'valid')]\n",
        "#XGB Model\n",
        "xgb_model_fs  = xgb.train(params, xgb_train_fs, num_boost_round=200, \n",
        "                          evals = evals,\n",
        "                        early_stopping_rounds = 100,\n",
        "                         verbose_eval = 10)\n",
        "#Predict\n",
        "y_pred_train=xgb_model.predict(xgb_train, ntree_limit=xgb_model.best_ntree_limit)\n",
        "y_pred_test=xgb_model.predict(xgb_test, ntree_limit=xgb_model.best_ntree_limit)\n",
        "#Final Performance\n",
        "xgb_train_rmse = sqrt(mean_squared_error(y_train, y_pred_train))\n",
        "xgb_test_rmse = sqrt(mean_squared_error(y_test, y_pred_test))\n",
        "print(\"-----------Train RMSE: {}------Test RMSE: {}\".format(xgb_train_rmse, xgb_test_rmse))"
      ],
      "execution_count": null,
      "outputs": [
        {
          "output_type": "stream",
          "text": [
            "[0]\ttrain-rmse:2.01503\tvalid-rmse:2.03186\n",
            "Multiple eval metrics have been passed: 'valid-rmse' will be used for early stopping.\n",
            "\n",
            "Will train until valid-rmse hasn't improved in 100 rounds.\n",
            "[10]\ttrain-rmse:1.79018\tvalid-rmse:1.82514\n",
            "[20]\ttrain-rmse:1.6846\tvalid-rmse:1.73791\n",
            "[30]\ttrain-rmse:1.64089\tvalid-rmse:1.70517\n",
            "[40]\ttrain-rmse:1.61762\tvalid-rmse:1.68976\n",
            "[50]\ttrain-rmse:1.59506\tvalid-rmse:1.68099\n",
            "[60]\ttrain-rmse:1.58175\tvalid-rmse:1.67844\n",
            "[70]\ttrain-rmse:1.57119\tvalid-rmse:1.67705\n",
            "[80]\ttrain-rmse:1.55843\tvalid-rmse:1.67714\n",
            "[90]\ttrain-rmse:1.55239\tvalid-rmse:1.67757\n",
            "[100]\ttrain-rmse:1.54278\tvalid-rmse:1.67804\n",
            "[110]\ttrain-rmse:1.53717\tvalid-rmse:1.67833\n",
            "[120]\ttrain-rmse:1.53189\tvalid-rmse:1.67847\n",
            "[130]\ttrain-rmse:1.52702\tvalid-rmse:1.67893\n",
            "[140]\ttrain-rmse:1.52335\tvalid-rmse:1.67972\n",
            "[150]\ttrain-rmse:1.52132\tvalid-rmse:1.68019\n",
            "[160]\ttrain-rmse:1.51753\tvalid-rmse:1.68052\n",
            "[170]\ttrain-rmse:1.5147\tvalid-rmse:1.68114\n",
            "Stopping. Best iteration:\n",
            "[74]\ttrain-rmse:1.56682\tvalid-rmse:1.67683\n",
            "\n",
            "-----------Train RMSE: 1.5501328147709321------Test RMSE: 1.6756518480714262\n",
            "CPU times: user 6min 24s, sys: 452 ms, total: 6min 24s\n",
            "Wall time: 3min 15s\n"
          ],
          "name": "stdout"
        }
      ]
    },
    {
      "cell_type": "markdown",
      "metadata": {
        "id": "RzGQ9cX1kSja"
      },
      "source": [
        "####**Random Forest**"
      ]
    },
    {
      "cell_type": "code",
      "metadata": {
        "id": "3ko0dEHLkR5k"
      },
      "source": [
        "from sklearn.ensemble import RandomForestRegressor"
      ],
      "execution_count": null,
      "outputs": []
    },
    {
      "cell_type": "code",
      "metadata": {
        "colab": {
          "base_uri": "https://localhost:8080/"
        },
        "id": "n08Z4ir8BehU",
        "outputId": "c9945f56-b720-4a1e-d6e8-8de3f0795fca"
      },
      "source": [
        "X_train = X_train.dropna()\n",
        "X_train.shape"
      ],
      "execution_count": null,
      "outputs": [
        {
          "output_type": "execute_result",
          "data": {
            "text/plain": [
              "(722842, 39)"
            ]
          },
          "metadata": {
            "tags": []
          },
          "execution_count": 46
        }
      ]
    },
    {
      "cell_type": "code",
      "metadata": {
        "colab": {
          "base_uri": "https://localhost:8080/"
        },
        "id": "kNiWIQif_7Ok",
        "outputId": "79955b7b-19b4-4b69-fe44-0b7d3760252d"
      },
      "source": [
        "rf = RandomForestRegressor(random_state=42)\n",
        "rf.fit(X_train,y_train)"
      ],
      "execution_count": null,
      "outputs": [
        {
          "output_type": "execute_result",
          "data": {
            "text/plain": [
              "RandomForestRegressor(bootstrap=True, ccp_alpha=0.0, criterion='mse',\n",
              "                      max_depth=None, max_features='auto', max_leaf_nodes=None,\n",
              "                      max_samples=None, min_impurity_decrease=0.0,\n",
              "                      min_impurity_split=None, min_samples_leaf=1,\n",
              "                      min_samples_split=2, min_weight_fraction_leaf=0.0,\n",
              "                      n_estimators=100, n_jobs=None, oob_score=False,\n",
              "                      random_state=42, verbose=0, warm_start=False)"
            ]
          },
          "metadata": {
            "tags": []
          },
          "execution_count": 45
        }
      ]
    },
    {
      "cell_type": "code",
      "metadata": {
        "colab": {
          "base_uri": "https://localhost:8080/"
        },
        "id": "9CysY5IHFT7V",
        "outputId": "3a6c3ba0-bfd3-433b-999f-c1647e6b8f89"
      },
      "source": [
        "%%time\n",
        "rf = RandomForestRegressor(random_state=42)\n",
        "rf.fit(X_train,y_train)\n",
        "# Compute RMSE on training / test \n",
        "y_pred_train_rf = rf.predict(X_train)\n",
        "y_pred_test_rf = rf.predict(X_test)\n",
        "\n",
        "# Construct a vector of errors for train and test data sets\n",
        "rf_err_train = abs(y_pred_train_rf - y_train)\n",
        "rf_err_test = abs(y_pred_test_rf - y_test)\n",
        "\n",
        "# Compute MSE for Train set, Test set \n",
        "mse_rf_train = mean_squared_error(y_train, y_pred_train_rf)\n",
        "mse_rf_test = mean_squared_error(y_test, y_pred_test_rf)\n",
        "\n",
        "# Compute RMSE for Train set, Test set \n",
        "rmse_rf_train = sqrt(abs(mse_rf_train))\n",
        "rmse_rf_test = sqrt(abs(mse_rf_test))\n",
        "\n",
        "print(\"MSE - Random Forest - train:    %.4f\" % mse_rf_train)\n",
        "print(\"MSE - Random Forest - test:     %.4f\" % mse_rf_test)\n",
        "print(\"RMSE - Random Forest - train:    %.4f\" % rmse_rf_train)\n",
        "print(\"RMSE - Random Forest - test:     %.4f\" % rmse_rf_test)"
      ],
      "execution_count": null,
      "outputs": [
        {
          "output_type": "stream",
          "text": [
            "MSE - Random Forest - train:    1.6707\n",
            "MSE - Random Forest - test:     3.1740\n",
            "RMSE - Random Forest - train:    1.2925\n",
            "RMSE - Random Forest - test:     1.7816\n",
            "CPU times: user 3min 47s, sys: 237 ms, total: 3min 47s\n",
            "Wall time: 3min 46s\n"
          ],
          "name": "stdout"
        }
      ]
    },
    {
      "cell_type": "code",
      "metadata": {
        "id": "0ZqcGsgQHLsa"
      },
      "source": [
        "from sklearn import model_selection"
      ],
      "execution_count": null,
      "outputs": []
    },
    {
      "cell_type": "code",
      "metadata": {
        "colab": {
          "base_uri": "https://localhost:8080/"
        },
        "id": "wmn6q64fG411",
        "outputId": "3a665831-a16b-4fa7-c507-3652d66cd9cd"
      },
      "source": [
        "# Cross Validation Random Forest\n",
        "seed = 42\n",
        "kf = model_selection.KFold(n_splits=10, random_state=seed)\n",
        "rf_kf = RandomForestRegressor(random_state=42)\n",
        "scoring_kf = 'neg_mean_squared_error'\n",
        "results_kf_train = model_selection.cross_val_score(rf_kf, X_train, y_train, cv=kf, scoring=scoring_kf)\n",
        "results_kf_test  = model_selection.cross_val_score(rf_kf, X_test, y_test, cv=kf, scoring=scoring_kf)\n",
        "\n",
        "# Computing RMSE\n",
        "rmse_kf_train = sqrt(abs(results_kf_train.mean()))\n",
        "rmse_kf_test  = sqrt(abs(results_kf_test.mean()))\n",
        "\n",
        "# Compute Accuracy\n",
        "acc_rf_train = rf.score(X_train, y_train)\n",
        "acc_rf_test  = rf.score(X_test, y_test)\n",
        "\n",
        "# Print Accuracy & RMSE\n",
        "print('\\nRMSE Summary for Linear Regression')\n",
        "print('- - - - - - - - - - - - - - - - - - - -')\n",
        "print(\"RMSE - Lin Reg - train:      %.4f\" % rmse_rf_train)\n",
        "print(\"RMSE - Lin Reg - test:       %.4f\" % rmse_rf_test)\n",
        "\n",
        "print('\\nACCURACY Summary')\n",
        "print('- - - - - - - - - - - - - - - - - - - -')\n",
        "print('Accuracy: Lin Reg - train:   ', round(100 * acc_rf_train, 2), '%')\n",
        "print('Accuracy: Lin Reg - test:    ', round(100 * acc_rf_test, 2), '%')\n",
        "\n",
        "print('\\nRMSE Summary for 10-cv')\n",
        "print('- - - - - - - - - - - - - - - - - - - -')\n",
        "print(\"RMSE - 10cv - train:          %.4f\" % rmse_kf_train)\n",
        "print(\"RMSE - 10cv - test:           %.4f\" % rmse_kf_test)"
      ],
      "execution_count": null,
      "outputs": [
        {
          "output_type": "stream",
          "text": [
            "\n",
            "RMSE Summary for Linear Regression\n",
            "- - - - - - - - - - - - - - - - - - - -\n",
            "RMSE - Lin Reg - train:      1.2925\n",
            "RMSE - Lin Reg - test:       1.7816\n",
            "\n",
            "ACCURACY Summary\n",
            "- - - - - - - - - - - - - - - - - - - -\n",
            "Accuracy: Lin Reg - train:    58.22 %\n",
            "Accuracy: Lin Reg - test:     22.22 %\n",
            "\n",
            "RMSE Summary for 10-cv\n",
            "- - - - - - - - - - - - - - - - - - - -\n",
            "RMSE - 10cv - train:          1.7990\n",
            "RMSE - 10cv - test:           1.8557\n"
          ],
          "name": "stdout"
        }
      ]
    },
    {
      "cell_type": "code",
      "metadata": {
        "id": "AieqqL3cQmCO"
      },
      "source": [
        "from sklearn.model_selection import RandomizedSearchCV"
      ],
      "execution_count": null,
      "outputs": []
    },
    {
      "cell_type": "code",
      "metadata": {
        "colab": {
          "base_uri": "https://localhost:8080/"
        },
        "id": "C7xxSvmvSBmR",
        "outputId": "f851ffca-7a37-4e35-a24c-6dfc929c9d8f"
      },
      "source": [
        "distributions = {'bootstrap': [True, False],\n",
        " 'max_depth': [10, 20, 30,None],\n",
        " 'max_features': ['auto', 'sqrt'],\n",
        " 'n_estimators': [10,20,50,100]}\n",
        "\n",
        "# Create a based model\n",
        "rf = RandomForestRegressor(random_state=42)\n",
        "# Instantiate the grid search model\n",
        "rf1 = RandomizedSearchCV(rf, distributions, random_state=42,n_jobs = -1)\n",
        "#fit the data\n",
        "rf_search = rf1.fit(X_train, y_train)\n",
        "rf_search.best_params_"
      ],
      "execution_count": null,
      "outputs": [
        {
          "output_type": "execute_result",
          "data": {
            "text/plain": [
              "{'bootstrap': True,\n",
              " 'max_depth': 10,\n",
              " 'max_features': 'auto',\n",
              " 'n_estimators': 10}"
            ]
          },
          "metadata": {
            "tags": []
          },
          "execution_count": 59
        }
      ]
    },
    {
      "cell_type": "code",
      "metadata": {
        "colab": {
          "base_uri": "https://localhost:8080/"
        },
        "id": "Ols51lPu5Npg",
        "outputId": "dd3bc03f-defc-48a4-bbe7-29e4469add60"
      },
      "source": [
        "# Cross Validation Random Forest with best params\n",
        "%%time\n",
        "seed = 42\n",
        "kf = model_selection.KFold(n_splits=10, random_state=seed)\n",
        "rf_kf2 = RandomForestRegressor(random_state=42,bootstrap = True,\n",
        " max_depth = 10,\n",
        " max_features = 'auto',\n",
        " n_estimators=10)\n",
        "\n",
        "scoring_kf = 'neg_mean_squared_error'\n",
        "results_kf_train = model_selection.cross_val_score(rf_kf2, X_train, y_train, cv=kf, scoring=scoring_kf)\n",
        "results_kf_test  = model_selection.cross_val_score(rf_kf2, X_test, y_test, cv=kf, scoring=scoring_kf)\n",
        "\n",
        "# Computing RMSE\n",
        "rmse_kf_train = sqrt(abs(results_kf_train.mean()))\n",
        "rmse_kf_test  = sqrt(abs(results_kf_test.mean()))\n",
        "\n",
        "# Print Accuracy & RMSE\n",
        "print('\\nRMSE Summary for Random Forest')\n",
        "print('- - - - - - - - - - - - - - - - - - - -')\n",
        "print(\"RMSE - Lin Reg - train:      %.4f\" % rmse_rf_train)\n",
        "print(\"RMSE - Lin Reg - test:       %.4f\" % rmse_rf_test)\n",
        "\n",
        "\n",
        "print('\\nRMSE Summary for 10-cv')\n",
        "print('- - - - - - - - - - - - - - - - - - - -')\n",
        "print(\"RMSE - 10cv - train:          %.4f\" % rmse_kf_train)\n",
        "print(\"RMSE - 10cv - test:           %.4f\" % rmse_kf_test)"
      ],
      "execution_count": null,
      "outputs": [
        {
          "output_type": "stream",
          "text": [
            "\n",
            "RMSE Summary for Random Forest\n",
            "- - - - - - - - - - - - - - - - - - - -\n",
            "RMSE - Lin Reg - train:      1.2925\n",
            "RMSE - Lin Reg - test:       1.7816\n",
            "\n",
            "RMSE Summary for 10-cv\n",
            "- - - - - - - - - - - - - - - - - - - -\n",
            "RMSE - 10cv - train:          1.6712\n",
            "RMSE - 10cv - test:           1.7198\n",
            "CPU times: user 3min 32s, sys: 278 ms, total: 3min 32s\n",
            "Wall time: 3min 31s\n"
          ],
          "name": "stdout"
        }
      ]
    },
    {
      "cell_type": "markdown",
      "metadata": {
        "id": "rhe1NHk4-q7r"
      },
      "source": [
        "####ANN"
      ]
    },
    {
      "cell_type": "code",
      "metadata": {
        "id": "fbMcHn02-63m"
      },
      "source": [
        "from keras.models import Model, load_model\n",
        "from keras.layers import Input, Dropout, Dense, Embedding, SpatialDropout1D, concatenate, BatchNormalization, Flatten\n",
        "from keras.preprocessing.sequence import pad_sequences\n",
        "from keras.preprocessing import text, sequence\n",
        "from keras.callbacks import Callback\n",
        "from keras import backend as K\n",
        "from keras.models import Model\n",
        "from keras.losses import mean_squared_error as mse_loss\n",
        "from keras import optimizers\n",
        "from keras.optimizers import RMSprop, Adam\n",
        "from keras.callbacks import EarlyStopping, ModelCheckpoint, ReduceLROnPlateau\n",
        "from numpy import loadtxt\n",
        "from keras.models import Sequential\n",
        "from keras.layers import Dense\n",
        "from sklearn.preprocessing import StandardScaler"
      ],
      "execution_count": null,
      "outputs": []
    },
    {
      "cell_type": "code",
      "metadata": {
        "id": "H6D3ef3N-tjH"
      },
      "source": [
        "# resample: downsampling zeros\n",
        "# recreat X and y\n",
        "data = X.copy()\n",
        "data['target'] = y\n",
        "nonz = data[data['target'] != 0.0]\n",
        "import random\n",
        "z = data[data['target'] == 0.0].sample(nonz.shape[0],random_state = 1)\n",
        "pd.concat([z,nonz])\n",
        "new = pd.concat([z,nonz])\n",
        "y = new['target']\n",
        "X = new.drop(columns = ['target'])\n",
        "#split the data\n",
        "X_train,X_test,y_train,y_test=train_test_split(X,y, train_size=0.8, test_size=0.2, random_state=0)"
      ],
      "execution_count": null,
      "outputs": []
    },
    {
      "cell_type": "code",
      "metadata": {
        "id": "oGGiZLSr-zml"
      },
      "source": [
        "X1 = StandardScaler().fit_transform(X_train)\n",
        "X2 = StandardScaler().fit_transform(X_test)"
      ],
      "execution_count": null,
      "outputs": []
    },
    {
      "cell_type": "code",
      "metadata": {
        "id": "ORUaamQR_GOn"
      },
      "source": [
        "#eveluation metrics\n",
        "def rmse(y_true, y_pred):\n",
        "    return K.sqrt(K.mean(K.square(y_pred - y_true), axis=0))"
      ],
      "execution_count": null,
      "outputs": []
    },
    {
      "cell_type": "code",
      "metadata": {
        "id": "S_sEQuRk_IUu"
      },
      "source": [
        "from keras.layers import LeakyReLU\n",
        "def nn_model():\n",
        "  # add the NN output layers \n",
        "  model1 = Sequential()\n",
        "  model1.add(Dense(units = 512, activation = \"relu\", input_dim = 39))\n",
        "  model1.add(Dense(units = 256, activation = \"relu\"))\n",
        "  model1.add(Dense(units = 128, activation = \"relu\"))\n",
        "  model1.add(Dropout(0.25))\n",
        "  model1.add(Dense(units = 64, activation = \"relu\"))\n",
        "  model1.add(Dropout(0.25))\n",
        "  model1.add(Dense(units = 32, activation = \"relu\"))\n",
        "  model1.add(BatchNormalization())\n",
        "  model1.add(Dropout(0.25))\n",
        "  model1.add(Dense(units = 1, activation = \"linear\"))\n",
        "  model1.compile(loss = \"mean_squared_error\",\n",
        "                 metrics = rmse,\n",
        "                 optimizer = Adam(learning_rate=0.0001))\n",
        "  return model1"
      ],
      "execution_count": null,
      "outputs": []
    },
    {
      "cell_type": "code",
      "metadata": {
        "colab": {
          "base_uri": "https://localhost:8080/"
        },
        "id": "MOXRnW7w_Kk1",
        "outputId": "80c8d2a2-4fe1-4187-9936-8225b965c792"
      },
      "source": [
        "nn1 = nn_model()\n",
        "nn1.summary()"
      ],
      "execution_count": null,
      "outputs": [
        {
          "output_type": "stream",
          "text": [
            "Model: \"sequential\"\n",
            "_________________________________________________________________\n",
            "Layer (type)                 Output Shape              Param #   \n",
            "=================================================================\n",
            "dense (Dense)                (None, 512)               20480     \n",
            "_________________________________________________________________\n",
            "dense_1 (Dense)              (None, 256)               131328    \n",
            "_________________________________________________________________\n",
            "dense_2 (Dense)              (None, 128)               32896     \n",
            "_________________________________________________________________\n",
            "dropout (Dropout)            (None, 128)               0         \n",
            "_________________________________________________________________\n",
            "dense_3 (Dense)              (None, 64)                8256      \n",
            "_________________________________________________________________\n",
            "dropout_1 (Dropout)          (None, 64)                0         \n",
            "_________________________________________________________________\n",
            "dense_4 (Dense)              (None, 32)                2080      \n",
            "_________________________________________________________________\n",
            "batch_normalization (BatchNo (None, 32)                128       \n",
            "_________________________________________________________________\n",
            "dropout_2 (Dropout)          (None, 32)                0         \n",
            "_________________________________________________________________\n",
            "dense_5 (Dense)              (None, 1)                 33        \n",
            "=================================================================\n",
            "Total params: 195,201\n",
            "Trainable params: 195,137\n",
            "Non-trainable params: 64\n",
            "_________________________________________________________________\n"
          ],
          "name": "stdout"
        }
      ]
    },
    {
      "cell_type": "code",
      "metadata": {
        "colab": {
          "base_uri": "https://localhost:8080/"
        },
        "id": "UHfxD2mH_Nl4",
        "outputId": "4fd20e80-23df-4bac-c2c7-5363c9f4ed8c"
      },
      "source": [
        "# set earlystopping to reduce the overfitting\n",
        "from keras.callbacks import EarlyStopping, ReduceLROnPlateau\n",
        "earlystop = EarlyStopping(patience = 10)\n",
        "\n",
        "# fit the model2\n",
        "history = nn1.fit(\n",
        "    X_train,y_train,\n",
        "    steps_per_epoch = 20,\n",
        "    validation_data = (X_test,y_test),\n",
        "    validation_steps = 2,\n",
        "    epochs = 50, callbacks = earlystop)"
      ],
      "execution_count": null,
      "outputs": [
        {
          "output_type": "stream",
          "text": [
            "Epoch 1/50\n",
            "20/20 [==============================] - 20s 77ms/step - loss: 162.1719 - rmse: 12.7317 - val_loss: 117.2587 - val_rmse: 10.8276\n",
            "Epoch 2/50\n",
            "20/20 [==============================] - 1s 38ms/step - loss: 148.6257 - rmse: 12.1890 - val_loss: 122.9793 - val_rmse: 11.0886\n",
            "Epoch 3/50\n",
            "20/20 [==============================] - 1s 39ms/step - loss: 139.0441 - rmse: 11.7899 - val_loss: 134.9559 - val_rmse: 11.6161\n",
            "Epoch 4/50\n",
            "20/20 [==============================] - 1s 38ms/step - loss: 130.4057 - rmse: 11.4169 - val_loss: 139.9977 - val_rmse: 11.8311\n",
            "Epoch 5/50\n",
            "20/20 [==============================] - 1s 40ms/step - loss: 125.3764 - rmse: 11.1924 - val_loss: 144.6493 - val_rmse: 12.0262\n",
            "Epoch 6/50\n",
            "20/20 [==============================] - 1s 37ms/step - loss: 115.5989 - rmse: 10.7502 - val_loss: 143.6866 - val_rmse: 11.9861\n",
            "Epoch 7/50\n",
            "20/20 [==============================] - 1s 38ms/step - loss: 110.3191 - rmse: 10.5010 - val_loss: 142.7061 - val_rmse: 11.9452\n",
            "Epoch 8/50\n",
            "20/20 [==============================] - 1s 40ms/step - loss: 107.4171 - rmse: 10.3630 - val_loss: 139.7723 - val_rmse: 11.8218\n",
            "Epoch 9/50\n",
            "20/20 [==============================] - 1s 38ms/step - loss: 103.1552 - rmse: 10.1502 - val_loss: 134.5940 - val_rmse: 11.6008\n",
            "Epoch 10/50\n",
            "20/20 [==============================] - 1s 38ms/step - loss: 104.3120 - rmse: 10.2097 - val_loss: 129.3717 - val_rmse: 11.3735\n",
            "Epoch 11/50\n",
            "20/20 [==============================] - 1s 39ms/step - loss: 100.1723 - rmse: 10.0062 - val_loss: 127.4306 - val_rmse: 11.2879\n"
          ],
          "name": "stdout"
        }
      ]
    },
    {
      "cell_type": "code",
      "metadata": {
        "colab": {
          "base_uri": "https://localhost:8080/"
        },
        "id": "DgkBSM4W_OL9",
        "outputId": "e6a904f9-4ebf-4517-d999-cc7569b7f7bf"
      },
      "source": [
        "_, accuracy = nn1.evaluate(X, y)\n",
        "print('Accuracy: %.2f' % (accuracy*100))"
      ],
      "execution_count": null,
      "outputs": [
        {
          "output_type": "stream",
          "text": [
            "720/720 [==============================] - 2s 3ms/step - loss: 126.2117 - rmse: 9.8030\n",
            "Accuracy: 980.30\n"
          ],
          "name": "stdout"
        }
      ]
    },
    {
      "cell_type": "code",
      "metadata": {
        "id": "I3vFkwWe_QWc"
      },
      "source": [
        "# model on only non zero data\n",
        "data1 = X.copy()\n",
        "data1['target'] = y\n",
        "nonz = data1[data1['target'] != 0.0]\n",
        "y1 = nonz['target']\n",
        "X1 = nonz.drop(columns = ['target'])\n",
        "#split the data\n",
        "X_train1,X_test1,y_train1,y_test1=train_test_split(X1,y1, train_size=0.8, test_size=0.2, random_state=0)"
      ],
      "execution_count": null,
      "outputs": []
    },
    {
      "cell_type": "code",
      "metadata": {
        "colab": {
          "base_uri": "https://localhost:8080/"
        },
        "id": "K1QuVmvZADKa",
        "outputId": "4212e827-d2cb-4a5c-f498-96dfffb13c28"
      },
      "source": [
        "X1.shape"
      ],
      "execution_count": null,
      "outputs": [
        {
          "output_type": "execute_result",
          "data": {
            "text/plain": [
              "(11515, 39)"
            ]
          },
          "metadata": {
            "tags": []
          },
          "execution_count": 95
        }
      ]
    },
    {
      "cell_type": "code",
      "metadata": {
        "colab": {
          "base_uri": "https://localhost:8080/"
        },
        "id": "bnNFoTb8AENG",
        "outputId": "7d19b724-9587-43bf-e545-955cb52f7238"
      },
      "source": [
        "nn2 = nn_model()\n",
        "nn2.summary()"
      ],
      "execution_count": null,
      "outputs": [
        {
          "output_type": "stream",
          "text": [
            "Model: \"sequential_1\"\n",
            "_________________________________________________________________\n",
            "Layer (type)                 Output Shape              Param #   \n",
            "=================================================================\n",
            "dense_6 (Dense)              (None, 512)               20480     \n",
            "_________________________________________________________________\n",
            "dense_7 (Dense)              (None, 256)               131328    \n",
            "_________________________________________________________________\n",
            "dense_8 (Dense)              (None, 128)               32896     \n",
            "_________________________________________________________________\n",
            "dropout_3 (Dropout)          (None, 128)               0         \n",
            "_________________________________________________________________\n",
            "dense_9 (Dense)              (None, 64)                8256      \n",
            "_________________________________________________________________\n",
            "dropout_4 (Dropout)          (None, 64)                0         \n",
            "_________________________________________________________________\n",
            "dense_10 (Dense)             (None, 32)                2080      \n",
            "_________________________________________________________________\n",
            "batch_normalization_1 (Batch (None, 32)                128       \n",
            "_________________________________________________________________\n",
            "dropout_5 (Dropout)          (None, 32)                0         \n",
            "_________________________________________________________________\n",
            "dense_11 (Dense)             (None, 1)                 33        \n",
            "=================================================================\n",
            "Total params: 195,201\n",
            "Trainable params: 195,137\n",
            "Non-trainable params: 64\n",
            "_________________________________________________________________\n"
          ],
          "name": "stdout"
        }
      ]
    },
    {
      "cell_type": "code",
      "metadata": {
        "colab": {
          "base_uri": "https://localhost:8080/"
        },
        "id": "a8ZGEn-hAJi-",
        "outputId": "85ad4965-f26f-4b67-e7b6-3ac44a1d90e8"
      },
      "source": [
        "# set earlystopping to reduce the overfitting\n",
        "from keras.callbacks import EarlyStopping, ReduceLROnPlateau\n",
        "earlystop = EarlyStopping(patience = 10)\n",
        "\n",
        "# fit the model2\n",
        "history1 = nn2.fit(\n",
        "    X_train1,y_train1,\n",
        "    steps_per_epoch = 100,\n",
        "    validation_data = (X_test1,y_test1),\n",
        "    validation_steps = 20,\n",
        "    epochs = 100, callbacks = earlystop)\n",
        "history2 = nn2.fit(\n",
        "    X_train1,y_train1,\n",
        "    steps_per_epoch = 5,\n",
        "    validation_data = (X_test1,y_test1),\n",
        "    validation_steps = 1,\n",
        "    epochs = 40, callbacks = earlystop)"
      ],
      "execution_count": null,
      "outputs": [
        {
          "output_type": "stream",
          "text": [
            "Epoch 1/100\n",
            "100/100 [==============================] - 3s 14ms/step - loss: 320.6814 - rmse: 17.9069 - val_loss: 305.0085 - val_rmse: 17.4650\n",
            "Epoch 2/100\n",
            "100/100 [==============================] - 1s 9ms/step - loss: 316.9496 - rmse: 17.8024 - val_loss: 304.9259 - val_rmse: 17.4626\n",
            "Epoch 3/100\n",
            "100/100 [==============================] - 1s 9ms/step - loss: 314.0426 - rmse: 17.7207 - val_loss: 304.8659 - val_rmse: 17.4609\n",
            "Epoch 4/100\n",
            "100/100 [==============================] - 1s 9ms/step - loss: 311.5150 - rmse: 17.6490 - val_loss: 296.8041 - val_rmse: 17.2285\n",
            "Epoch 5/100\n",
            "100/100 [==============================] - 1s 9ms/step - loss: 307.3379 - rmse: 17.5302 - val_loss: 282.4729 - val_rmse: 16.8075\n",
            "Epoch 6/100\n",
            "100/100 [==============================] - 1s 9ms/step - loss: 303.3727 - rmse: 17.4170 - val_loss: 277.9436 - val_rmse: 16.6723\n",
            "Epoch 7/100\n",
            "100/100 [==============================] - 1s 9ms/step - loss: 299.6632 - rmse: 17.3101 - val_loss: 272.6252 - val_rmse: 16.5120\n",
            "Epoch 8/100\n",
            "100/100 [==============================] - 1s 9ms/step - loss: 294.9861 - rmse: 17.1744 - val_loss: 278.8501 - val_rmse: 16.6993\n",
            "Epoch 9/100\n",
            "100/100 [==============================] - 1s 9ms/step - loss: 290.7351 - rmse: 17.0502 - val_loss: 282.5255 - val_rmse: 16.8089\n",
            "Epoch 10/100\n",
            "100/100 [==============================] - 1s 9ms/step - loss: 286.5921 - rmse: 16.9285 - val_loss: 276.8828 - val_rmse: 16.6403\n",
            "Epoch 11/100\n",
            "100/100 [==============================] - 1s 9ms/step - loss: 281.3189 - rmse: 16.7717 - val_loss: 263.8766 - val_rmse: 16.2449\n",
            "Epoch 12/100\n",
            "100/100 [==============================] - 1s 9ms/step - loss: 276.6173 - rmse: 16.6310 - val_loss: 252.4413 - val_rmse: 15.8890\n",
            "Epoch 13/100\n",
            "100/100 [==============================] - 1s 9ms/step - loss: 271.4718 - rmse: 16.4754 - val_loss: 257.0079 - val_rmse: 16.0320\n",
            "Epoch 14/100\n",
            "100/100 [==============================] - 1s 9ms/step - loss: 265.4169 - rmse: 16.2908 - val_loss: 247.7385 - val_rmse: 15.7402\n",
            "Epoch 15/100\n",
            "100/100 [==============================] - 1s 9ms/step - loss: 258.5215 - rmse: 16.0781 - val_loss: 239.1235 - val_rmse: 15.4642\n",
            "Epoch 16/100\n",
            "100/100 [==============================] - 1s 10ms/step - loss: 252.5156 - rmse: 15.8899 - val_loss: 228.2157 - val_rmse: 15.1074\n",
            "Epoch 17/100\n",
            "100/100 [==============================] - 1s 9ms/step - loss: 247.2553 - rmse: 15.7233 - val_loss: 229.3143 - val_rmse: 15.1436\n",
            "Epoch 18/100\n",
            "100/100 [==============================] - 1s 9ms/step - loss: 239.7905 - rmse: 15.4843 - val_loss: 223.0265 - val_rmse: 14.9346\n",
            "Epoch 19/100\n",
            "100/100 [==============================] - 1s 9ms/step - loss: 232.1144 - rmse: 15.2339 - val_loss: 213.5032 - val_rmse: 14.6123\n",
            "Epoch 20/100\n",
            "100/100 [==============================] - 1s 9ms/step - loss: 224.9006 - rmse: 14.9955 - val_loss: 207.6329 - val_rmse: 14.4100\n",
            "Epoch 21/100\n",
            "100/100 [==============================] - 1s 9ms/step - loss: 217.8132 - rmse: 14.7571 - val_loss: 201.3432 - val_rmse: 14.1901\n",
            "Epoch 22/100\n",
            "100/100 [==============================] - 1s 10ms/step - loss: 211.3186 - rmse: 14.5355 - val_loss: 193.1587 - val_rmse: 13.8987\n",
            "Epoch 23/100\n",
            "100/100 [==============================] - 1s 10ms/step - loss: 204.5074 - rmse: 14.2994 - val_loss: 186.9271 - val_rmse: 13.6727\n",
            "Epoch 24/100\n",
            "100/100 [==============================] - 1s 10ms/step - loss: 195.2216 - rmse: 13.9709 - val_loss: 180.7717 - val_rmse: 13.4457\n",
            "Epoch 25/100\n",
            "100/100 [==============================] - 1s 9ms/step - loss: 188.2974 - rmse: 13.7209 - val_loss: 180.5883 - val_rmse: 13.4388\n",
            "Epoch 26/100\n",
            "100/100 [==============================] - 1s 9ms/step - loss: 181.8848 - rmse: 13.4852 - val_loss: 173.9600 - val_rmse: 13.1899\n",
            "Epoch 27/100\n",
            "100/100 [==============================] - 1s 9ms/step - loss: 173.6083 - rmse: 13.1742 - val_loss: 166.4613 - val_rmse: 12.9025\n",
            "Epoch 28/100\n",
            "100/100 [==============================] - 1s 9ms/step - loss: 164.3357 - rmse: 12.8179 - val_loss: 159.6463 - val_rmse: 12.6356\n",
            "Epoch 29/100\n",
            "100/100 [==============================] - 1s 9ms/step - loss: 159.3407 - rmse: 12.6207 - val_loss: 150.1082 - val_rmse: 12.2524\n",
            "Epoch 30/100\n",
            "100/100 [==============================] - 1s 9ms/step - loss: 150.2327 - rmse: 12.2547 - val_loss: 142.1056 - val_rmse: 11.9213\n",
            "Epoch 31/100\n",
            "100/100 [==============================] - 1s 10ms/step - loss: 143.5050 - rmse: 11.9774 - val_loss: 134.0704 - val_rmse: 11.5794\n",
            "Epoch 32/100\n",
            "100/100 [==============================] - 1s 9ms/step - loss: 136.5676 - rmse: 11.6844 - val_loss: 130.2533 - val_rmse: 11.4133\n",
            "Epoch 33/100\n",
            "100/100 [==============================] - 1s 9ms/step - loss: 130.0005 - rmse: 11.3991 - val_loss: 124.5650 - val_rmse: 11.1613\n",
            "Epoch 34/100\n",
            "100/100 [==============================] - 1s 9ms/step - loss: 124.2294 - rmse: 11.1431 - val_loss: 114.5532 - val_rmse: 10.7034\n",
            "Epoch 35/100\n",
            "100/100 [==============================] - 1s 10ms/step - loss: 115.1280 - rmse: 10.7272 - val_loss: 107.2220 - val_rmse: 10.3553\n",
            "Epoch 36/100\n",
            "100/100 [==============================] - 1s 9ms/step - loss: 109.7358 - rmse: 10.4728 - val_loss: 100.3964 - val_rmse: 10.0203\n",
            "Epoch 37/100\n",
            "100/100 [==============================] - 1s 9ms/step - loss: 102.2016 - rmse: 10.1067 - val_loss: 96.4798 - val_rmse: 9.8209\n",
            "Epoch 38/100\n",
            "100/100 [==============================] - 1s 10ms/step - loss: 95.9381 - rmse: 9.7924 - val_loss: 87.7305 - val_rmse: 9.3668\n",
            "Epoch 39/100\n",
            "100/100 [==============================] - 1s 10ms/step - loss: 90.0071 - rmse: 9.4847 - val_loss: 80.7660 - val_rmse: 8.9873\n",
            "Epoch 40/100\n",
            "100/100 [==============================] - 1s 9ms/step - loss: 83.4811 - rmse: 9.1334 - val_loss: 75.1693 - val_rmse: 8.6704\n",
            "Epoch 41/100\n",
            "100/100 [==============================] - 1s 10ms/step - loss: 78.7977 - rmse: 8.8740 - val_loss: 71.6357 - val_rmse: 8.4640\n",
            "Epoch 42/100\n",
            "100/100 [==============================] - 1s 9ms/step - loss: 73.2394 - rmse: 8.5536 - val_loss: 64.1405 - val_rmse: 8.0091\n",
            "Epoch 43/100\n",
            "100/100 [==============================] - 1s 9ms/step - loss: 68.8354 - rmse: 8.2925 - val_loss: 57.1563 - val_rmse: 7.5605\n",
            "Epoch 44/100\n",
            "100/100 [==============================] - 1s 9ms/step - loss: 63.5524 - rmse: 7.9683 - val_loss: 54.5543 - val_rmse: 7.3862\n",
            "Epoch 45/100\n",
            "100/100 [==============================] - 1s 9ms/step - loss: 57.7733 - rmse: 7.5956 - val_loss: 50.7369 - val_rmse: 7.1232\n",
            "Epoch 46/100\n",
            "100/100 [==============================] - 1s 9ms/step - loss: 53.0868 - rmse: 7.2816 - val_loss: 48.8228 - val_rmse: 6.9876\n",
            "Epoch 47/100\n",
            "100/100 [==============================] - 1s 9ms/step - loss: 49.7982 - rmse: 7.0501 - val_loss: 43.5538 - val_rmse: 6.5997\n",
            "Epoch 48/100\n",
            "100/100 [==============================] - 1s 9ms/step - loss: 44.3977 - rmse: 6.6575 - val_loss: 39.0417 - val_rmse: 6.2486\n",
            "Epoch 49/100\n",
            "100/100 [==============================] - 1s 10ms/step - loss: 41.1073 - rmse: 6.4056 - val_loss: 35.3659 - val_rmse: 5.9471\n",
            "Epoch 50/100\n",
            "100/100 [==============================] - 1s 9ms/step - loss: 37.4689 - rmse: 6.1169 - val_loss: 33.7100 - val_rmse: 5.8061\n",
            "Epoch 51/100\n",
            "100/100 [==============================] - 1s 9ms/step - loss: 34.5654 - rmse: 5.8720 - val_loss: 27.9283 - val_rmse: 5.2849\n",
            "Epoch 52/100\n",
            "100/100 [==============================] - 1s 9ms/step - loss: 31.4514 - rmse: 5.6012 - val_loss: 25.6098 - val_rmse: 5.0607\n",
            "Epoch 53/100\n",
            "100/100 [==============================] - 1s 9ms/step - loss: 28.2156 - rmse: 5.3047 - val_loss: 22.1646 - val_rmse: 4.7080\n",
            "Epoch 54/100\n",
            "100/100 [==============================] - 1s 9ms/step - loss: 26.5363 - rmse: 5.1436 - val_loss: 19.5207 - val_rmse: 4.4183\n",
            "Epoch 55/100\n",
            "100/100 [==============================] - 1s 9ms/step - loss: 23.3833 - rmse: 4.8278 - val_loss: 16.9556 - val_rmse: 4.1178\n",
            "Epoch 56/100\n",
            "100/100 [==============================] - 1s 9ms/step - loss: 21.2135 - rmse: 4.5963 - val_loss: 15.0827 - val_rmse: 3.8836\n",
            "Epoch 57/100\n",
            "100/100 [==============================] - 1s 10ms/step - loss: 19.2638 - rmse: 4.3800 - val_loss: 13.0483 - val_rmse: 3.6121\n",
            "Epoch 58/100\n",
            "100/100 [==============================] - 1s 9ms/step - loss: 18.0664 - rmse: 4.2344 - val_loss: 11.7518 - val_rmse: 3.4278\n",
            "Epoch 59/100\n",
            "100/100 [==============================] - 1s 9ms/step - loss: 16.0995 - rmse: 4.0027 - val_loss: 10.2805 - val_rmse: 3.2060\n",
            "Epoch 60/100\n",
            "100/100 [==============================] - 1s 9ms/step - loss: 14.3556 - rmse: 3.7766 - val_loss: 9.4464 - val_rmse: 3.0730\n",
            "Epoch 61/100\n",
            "100/100 [==============================] - 1s 9ms/step - loss: 13.7779 - rmse: 3.6973 - val_loss: 7.4697 - val_rmse: 2.7326\n",
            "Epoch 62/100\n",
            "100/100 [==============================] - 1s 9ms/step - loss: 11.7568 - rmse: 3.4166 - val_loss: 6.7606 - val_rmse: 2.5995\n",
            "Epoch 63/100\n",
            "100/100 [==============================] - 1s 9ms/step - loss: 11.8626 - rmse: 3.4276 - val_loss: 5.7014 - val_rmse: 2.3871\n",
            "Epoch 64/100\n",
            "100/100 [==============================] - 1s 9ms/step - loss: 10.9538 - rmse: 3.2974 - val_loss: 5.1858 - val_rmse: 2.2764\n",
            "Epoch 65/100\n",
            "100/100 [==============================] - 1s 9ms/step - loss: 10.6412 - rmse: 3.2439 - val_loss: 4.2151 - val_rmse: 2.0522\n",
            "Epoch 66/100\n",
            "100/100 [==============================] - 1s 9ms/step - loss: 10.2532 - rmse: 3.1929 - val_loss: 3.6859 - val_rmse: 1.9188\n",
            "Epoch 67/100\n",
            "100/100 [==============================] - 1s 9ms/step - loss: 9.5920 - rmse: 3.0777 - val_loss: 3.1157 - val_rmse: 1.7640\n",
            "Epoch 68/100\n",
            "100/100 [==============================] - 1s 9ms/step - loss: 9.0617 - rmse: 2.9927 - val_loss: 2.7468 - val_rmse: 1.6561\n",
            "Epoch 69/100\n",
            "100/100 [==============================] - 1s 9ms/step - loss: 9.2221 - rmse: 3.0196 - val_loss: 2.5854 - val_rmse: 1.6066\n",
            "Epoch 70/100\n",
            "100/100 [==============================] - 1s 10ms/step - loss: 8.8213 - rmse: 2.9500 - val_loss: 2.4327 - val_rmse: 1.5582\n",
            "Epoch 71/100\n",
            "100/100 [==============================] - 1s 9ms/step - loss: 9.0756 - rmse: 2.9869 - val_loss: 2.0057 - val_rmse: 1.4148\n",
            "Epoch 72/100\n",
            "100/100 [==============================] - 1s 9ms/step - loss: 7.7702 - rmse: 2.7714 - val_loss: 1.8646 - val_rmse: 1.3639\n",
            "Epoch 73/100\n",
            "100/100 [==============================] - 1s 9ms/step - loss: 8.2133 - rmse: 2.8512 - val_loss: 1.6185 - val_rmse: 1.2707\n",
            "Epoch 74/100\n",
            "100/100 [==============================] - 1s 9ms/step - loss: 8.0044 - rmse: 2.8166 - val_loss: 1.7513 - val_rmse: 1.3218\n",
            "Epoch 75/100\n",
            "100/100 [==============================] - 1s 9ms/step - loss: 7.7515 - rmse: 2.7675 - val_loss: 1.6630 - val_rmse: 1.2879\n",
            "Epoch 76/100\n",
            "100/100 [==============================] - 1s 9ms/step - loss: 7.8795 - rmse: 2.7828 - val_loss: 1.6795 - val_rmse: 1.2942\n",
            "Epoch 77/100\n",
            "100/100 [==============================] - 1s 8ms/step - loss: 8.2500 - rmse: 2.8573 - val_loss: 1.5116 - val_rmse: 1.2278\n",
            "Epoch 78/100\n",
            "100/100 [==============================] - 1s 9ms/step - loss: 7.6295 - rmse: 2.7438 - val_loss: 1.5499 - val_rmse: 1.2432\n",
            "Epoch 79/100\n",
            "100/100 [==============================] - 1s 9ms/step - loss: 7.4032 - rmse: 2.7053 - val_loss: 1.4148 - val_rmse: 1.1878\n",
            "Epoch 80/100\n",
            "100/100 [==============================] - 1s 9ms/step - loss: 7.8788 - rmse: 2.7879 - val_loss: 1.4228 - val_rmse: 1.1911\n",
            "Epoch 81/100\n",
            "100/100 [==============================] - 1s 9ms/step - loss: 7.2694 - rmse: 2.6804 - val_loss: 1.3728 - val_rmse: 1.1700\n",
            "Epoch 82/100\n",
            "100/100 [==============================] - 1s 9ms/step - loss: 7.5070 - rmse: 2.7274 - val_loss: 1.3828 - val_rmse: 1.1742\n",
            "Epoch 83/100\n",
            "100/100 [==============================] - 1s 9ms/step - loss: 7.7105 - rmse: 2.7594 - val_loss: 1.4107 - val_rmse: 1.1860\n",
            "Epoch 84/100\n",
            "100/100 [==============================] - 1s 9ms/step - loss: 7.4384 - rmse: 2.7093 - val_loss: 1.4393 - val_rmse: 1.1979\n",
            "Epoch 85/100\n",
            "100/100 [==============================] - 1s 9ms/step - loss: 7.9852 - rmse: 2.8050 - val_loss: 1.4655 - val_rmse: 1.2088\n",
            "Epoch 86/100\n",
            "100/100 [==============================] - 1s 10ms/step - loss: 7.2240 - rmse: 2.6740 - val_loss: 1.4352 - val_rmse: 1.1962\n",
            "Epoch 87/100\n",
            "100/100 [==============================] - 1s 10ms/step - loss: 7.3698 - rmse: 2.7049 - val_loss: 1.4477 - val_rmse: 1.2014\n",
            "Epoch 88/100\n",
            "100/100 [==============================] - 1s 10ms/step - loss: 7.8066 - rmse: 2.7775 - val_loss: 1.3888 - val_rmse: 1.1767\n",
            "Epoch 89/100\n",
            "100/100 [==============================] - 1s 10ms/step - loss: 7.3162 - rmse: 2.6881 - val_loss: 1.3174 - val_rmse: 1.1461\n",
            "Epoch 90/100\n",
            "100/100 [==============================] - 1s 10ms/step - loss: 7.4411 - rmse: 2.7144 - val_loss: 1.3337 - val_rmse: 1.1532\n",
            "Epoch 91/100\n",
            "100/100 [==============================] - 1s 9ms/step - loss: 6.9734 - rmse: 2.6258 - val_loss: 1.3226 - val_rmse: 1.1484\n",
            "Epoch 92/100\n",
            "100/100 [==============================] - 1s 9ms/step - loss: 7.8080 - rmse: 2.7718 - val_loss: 1.3612 - val_rmse: 1.1651\n",
            "Epoch 93/100\n",
            "100/100 [==============================] - 1s 9ms/step - loss: 7.1608 - rmse: 2.6547 - val_loss: 1.4235 - val_rmse: 1.1913\n",
            "Epoch 94/100\n",
            "100/100 [==============================] - 1s 9ms/step - loss: 7.3150 - rmse: 2.6897 - val_loss: 1.4324 - val_rmse: 1.1950\n",
            "Epoch 95/100\n",
            "100/100 [==============================] - 1s 10ms/step - loss: 6.6836 - rmse: 2.5750 - val_loss: 1.3467 - val_rmse: 1.1588\n",
            "Epoch 96/100\n",
            "100/100 [==============================] - 1s 9ms/step - loss: 7.0487 - rmse: 2.6426 - val_loss: 1.3654 - val_rmse: 1.1668\n",
            "Epoch 97/100\n",
            "100/100 [==============================] - 1s 9ms/step - loss: 6.9874 - rmse: 2.6295 - val_loss: 1.3542 - val_rmse: 1.1620\n",
            "Epoch 98/100\n",
            "100/100 [==============================] - 1s 10ms/step - loss: 6.8764 - rmse: 2.6103 - val_loss: 1.3668 - val_rmse: 1.1674\n",
            "Epoch 99/100\n",
            "100/100 [==============================] - 1s 10ms/step - loss: 6.7713 - rmse: 2.5914 - val_loss: 1.4243 - val_rmse: 1.1916\n",
            "Epoch 1/40\n",
            "5/5 [==============================] - 1s 202ms/step - loss: 7.0586 - rmse: 2.6556 - val_loss: 1.4192 - val_rmse: 1.1913\n",
            "Epoch 2/40\n",
            "5/5 [==============================] - 0s 75ms/step - loss: 7.2842 - rmse: 2.6961 - val_loss: 1.4139 - val_rmse: 1.1891\n",
            "Epoch 3/40\n",
            "5/5 [==============================] - 0s 74ms/step - loss: 7.8923 - rmse: 2.8034 - val_loss: 1.4066 - val_rmse: 1.1860\n",
            "Epoch 4/40\n",
            "5/5 [==============================] - 0s 81ms/step - loss: 7.1289 - rmse: 2.6677 - val_loss: 1.3999 - val_rmse: 1.1832\n",
            "Epoch 5/40\n",
            "5/5 [==============================] - 0s 77ms/step - loss: 7.3785 - rmse: 2.7142 - val_loss: 1.3952 - val_rmse: 1.1812\n",
            "Epoch 6/40\n",
            "5/5 [==============================] - 0s 75ms/step - loss: 6.9701 - rmse: 2.6398 - val_loss: 1.3926 - val_rmse: 1.1801\n",
            "Epoch 7/40\n",
            "5/5 [==============================] - 0s 81ms/step - loss: 7.5792 - rmse: 2.7514 - val_loss: 1.3924 - val_rmse: 1.1800\n",
            "Epoch 8/40\n",
            "5/5 [==============================] - 0s 78ms/step - loss: 7.7393 - rmse: 2.7796 - val_loss: 1.3921 - val_rmse: 1.1799\n",
            "Epoch 9/40\n",
            "5/5 [==============================] - 0s 78ms/step - loss: 7.4669 - rmse: 2.7296 - val_loss: 1.3910 - val_rmse: 1.1794\n",
            "Epoch 10/40\n",
            "5/5 [==============================] - 0s 75ms/step - loss: 6.9087 - rmse: 2.6281 - val_loss: 1.3897 - val_rmse: 1.1789\n",
            "Epoch 11/40\n",
            "5/5 [==============================] - 0s 78ms/step - loss: 6.6697 - rmse: 2.5818 - val_loss: 1.3874 - val_rmse: 1.1779\n",
            "Epoch 12/40\n",
            "5/5 [==============================] - 0s 76ms/step - loss: 7.0251 - rmse: 2.6493 - val_loss: 1.3832 - val_rmse: 1.1761\n",
            "Epoch 13/40\n",
            "5/5 [==============================] - 0s 78ms/step - loss: 6.8706 - rmse: 2.6208 - val_loss: 1.3801 - val_rmse: 1.1748\n",
            "Epoch 14/40\n",
            "5/5 [==============================] - 0s 74ms/step - loss: 6.9856 - rmse: 2.6423 - val_loss: 1.3768 - val_rmse: 1.1734\n",
            "Epoch 15/40\n",
            "5/5 [==============================] - 0s 73ms/step - loss: 7.1772 - rmse: 2.6785 - val_loss: 1.3755 - val_rmse: 1.1728\n",
            "Epoch 16/40\n",
            "5/5 [==============================] - 0s 77ms/step - loss: 7.2507 - rmse: 2.6894 - val_loss: 1.3740 - val_rmse: 1.1722\n",
            "Epoch 17/40\n",
            "5/5 [==============================] - 0s 74ms/step - loss: 7.1036 - rmse: 2.6641 - val_loss: 1.3730 - val_rmse: 1.1718\n",
            "Epoch 18/40\n",
            "5/5 [==============================] - 0s 76ms/step - loss: 6.8995 - rmse: 2.6222 - val_loss: 1.3716 - val_rmse: 1.1711\n",
            "Epoch 19/40\n",
            "5/5 [==============================] - 0s 76ms/step - loss: 7.5346 - rmse: 2.7396 - val_loss: 1.3725 - val_rmse: 1.1715\n",
            "Epoch 20/40\n",
            "5/5 [==============================] - 0s 75ms/step - loss: 6.9935 - rmse: 2.6423 - val_loss: 1.3749 - val_rmse: 1.1726\n",
            "Epoch 21/40\n",
            "5/5 [==============================] - 0s 78ms/step - loss: 6.6088 - rmse: 2.5701 - val_loss: 1.3769 - val_rmse: 1.1734\n",
            "Epoch 22/40\n",
            "5/5 [==============================] - 0s 78ms/step - loss: 7.3486 - rmse: 2.7070 - val_loss: 1.3760 - val_rmse: 1.1730\n",
            "Epoch 23/40\n",
            "5/5 [==============================] - 0s 78ms/step - loss: 6.9152 - rmse: 2.6282 - val_loss: 1.3737 - val_rmse: 1.1720\n",
            "Epoch 24/40\n",
            "5/5 [==============================] - 0s 80ms/step - loss: 6.8122 - rmse: 2.6072 - val_loss: 1.3716 - val_rmse: 1.1711\n",
            "Epoch 25/40\n",
            "5/5 [==============================] - 0s 77ms/step - loss: 7.2450 - rmse: 2.6909 - val_loss: 1.3718 - val_rmse: 1.1712\n",
            "Epoch 26/40\n",
            "5/5 [==============================] - 0s 78ms/step - loss: 6.9469 - rmse: 2.6353 - val_loss: 1.3742 - val_rmse: 1.1723\n",
            "Epoch 27/40\n",
            "5/5 [==============================] - 0s 80ms/step - loss: 6.6582 - rmse: 2.5800 - val_loss: 1.3766 - val_rmse: 1.1733\n",
            "Epoch 28/40\n",
            "5/5 [==============================] - 0s 75ms/step - loss: 7.1686 - rmse: 2.6764 - val_loss: 1.3795 - val_rmse: 1.1745\n",
            "Epoch 29/40\n",
            "5/5 [==============================] - 0s 79ms/step - loss: 7.2330 - rmse: 2.6870 - val_loss: 1.3827 - val_rmse: 1.1759\n",
            "Epoch 30/40\n",
            "5/5 [==============================] - 0s 74ms/step - loss: 6.6987 - rmse: 2.5866 - val_loss: 1.3855 - val_rmse: 1.1771\n",
            "Epoch 31/40\n",
            "5/5 [==============================] - 0s 79ms/step - loss: 6.8059 - rmse: 2.6081 - val_loss: 1.3870 - val_rmse: 1.1777\n",
            "Epoch 32/40\n",
            "5/5 [==============================] - 0s 81ms/step - loss: 7.1333 - rmse: 2.6699 - val_loss: 1.3903 - val_rmse: 1.1791\n",
            "Epoch 33/40\n",
            "5/5 [==============================] - 0s 77ms/step - loss: 6.8785 - rmse: 2.6224 - val_loss: 1.3939 - val_rmse: 1.1806\n",
            "Epoch 34/40\n",
            "5/5 [==============================] - 0s 84ms/step - loss: 7.0724 - rmse: 2.6579 - val_loss: 1.3963 - val_rmse: 1.1816\n"
          ],
          "name": "stdout"
        }
      ]
    },
    {
      "cell_type": "code",
      "metadata": {
        "colab": {
          "base_uri": "https://localhost:8080/"
        },
        "id": "_muagJoRAOXt",
        "outputId": "92790bee-f094-4a31-97ad-b1a69103709f"
      },
      "source": [
        "history3 = nn2.fit(\n",
        "    X_train1,y_train1,\n",
        "    steps_per_epoch = 5,\n",
        "    validation_data = (X_test1,y_test1),\n",
        "    validation_steps = 1,\n",
        "    epochs = 40, callbacks = earlystop)"
      ],
      "execution_count": null,
      "outputs": [
        {
          "output_type": "stream",
          "text": [
            "Epoch 1/40\n",
            "5/5 [==============================] - 0s 95ms/step - loss: 6.8885 - rmse: 2.6238 - val_loss: 1.3990 - val_rmse: 1.1828\n",
            "Epoch 2/40\n",
            "5/5 [==============================] - 0s 73ms/step - loss: 7.0610 - rmse: 2.6568 - val_loss: 1.4025 - val_rmse: 1.1843\n",
            "Epoch 3/40\n",
            "5/5 [==============================] - 0s 75ms/step - loss: 7.0989 - rmse: 2.6641 - val_loss: 1.4091 - val_rmse: 1.1870\n",
            "Epoch 4/40\n",
            "5/5 [==============================] - 0s 73ms/step - loss: 6.7157 - rmse: 2.5906 - val_loss: 1.4137 - val_rmse: 1.1890\n",
            "Epoch 5/40\n",
            "5/5 [==============================] - 0s 76ms/step - loss: 6.9599 - rmse: 2.6372 - val_loss: 1.4181 - val_rmse: 1.1908\n",
            "Epoch 6/40\n",
            "5/5 [==============================] - 0s 77ms/step - loss: 7.0613 - rmse: 2.6568 - val_loss: 1.4230 - val_rmse: 1.1929\n",
            "Epoch 7/40\n",
            "5/5 [==============================] - 0s 73ms/step - loss: 6.8724 - rmse: 2.6200 - val_loss: 1.4256 - val_rmse: 1.1940\n",
            "Epoch 8/40\n",
            "5/5 [==============================] - 0s 76ms/step - loss: 7.1274 - rmse: 2.6683 - val_loss: 1.4297 - val_rmse: 1.1957\n",
            "Epoch 9/40\n",
            "5/5 [==============================] - 0s 74ms/step - loss: 6.9332 - rmse: 2.6322 - val_loss: 1.4323 - val_rmse: 1.1968\n",
            "Epoch 10/40\n",
            "5/5 [==============================] - 0s 75ms/step - loss: 7.3547 - rmse: 2.7089 - val_loss: 1.4331 - val_rmse: 1.1971\n",
            "Epoch 11/40\n",
            "5/5 [==============================] - 0s 76ms/step - loss: 6.7777 - rmse: 2.6021 - val_loss: 1.4342 - val_rmse: 1.1976\n"
          ],
          "name": "stdout"
        }
      ]
    },
    {
      "cell_type": "code",
      "metadata": {
        "colab": {
          "base_uri": "https://localhost:8080/"
        },
        "id": "Mh-iXcRvARPi",
        "outputId": "094be7bb-e943-481f-f9d8-fa16d93ab49a"
      },
      "source": [
        "_, accuracy = nn2.evaluate(X1, y1)\n",
        "print('Accuracy: %.2f' % (accuracy*100))"
      ],
      "execution_count": null,
      "outputs": [
        {
          "output_type": "stream",
          "text": [
            "360/360 [==============================] - 1s 2ms/step - loss: 1.4598 - rmse: 1.1868\n",
            "Accuracy: 118.68\n"
          ],
          "name": "stdout"
        }
      ]
    },
    {
      "cell_type": "code",
      "metadata": {
        "colab": {
          "base_uri": "https://localhost:8080/",
          "height": 330
        },
        "id": "p1uUWCchAUgg",
        "outputId": "f69dd3c5-925c-438f-f456-5bd1ef35cbf8"
      },
      "source": [
        "import matplotlib.pyplot as plt \n",
        "history1.params\n",
        "pd.DataFrame(history1.history).plot(figsize=(8, 5))\n",
        "plt.grid(True)\n",
        "plt.show()"
      ],
      "execution_count": null,
      "outputs": [
        {
          "output_type": "display_data",
          "data": {
            "image/png": "[encoded data removed]",
            "text/plain": [
              "<Figure size 576x360 with 1 Axes>"
            ]
          },
          "metadata": {
            "tags": []
          }
        }
      ]
    },
    {
      "cell_type": "code",
      "metadata": {
        "colab": {
          "base_uri": "https://localhost:8080/",
          "height": 330
        },
        "id": "m6PJAu_lAW3x",
        "outputId": "4041160c-2468-4274-fb02-5d427bac66e8"
      },
      "source": [
        "import matplotlib.pyplot as plt \n",
        "history2.params\n",
        "pd.DataFrame(history2.history).plot(figsize=(8, 5))\n",
        "plt.grid(True)\n",
        "plt.show()"
      ],
      "execution_count": null,
      "outputs": [
        {
          "output_type": "display_data",
          "data": {
            "image/png": "[encoded data removed]",
            "text/plain": [
              "<Figure size 576x360 with 1 Axes>"
            ]
          },
          "metadata": {
            "tags": []
          }
        }
      ]
    }
  ]
}